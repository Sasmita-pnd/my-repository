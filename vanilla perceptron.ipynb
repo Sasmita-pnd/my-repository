{
 "cells": [
  {
   "cell_type": "code",
   "execution_count": 2,
   "id": "27515d22",
   "metadata": {},
   "outputs": [],
   "source": [
    "import numpy as np\n",
    "import pandas as pd\n",
    "from matplotlib import pyplot as plt\n",
    "%matplotlib inline"
   ]
  },
  {
   "cell_type": "code",
   "execution_count": 17,
   "id": "9de03776",
   "metadata": {},
   "outputs": [
    {
     "name": "stdout",
     "output_type": "stream",
     "text": [
      "[ 90. 186.]\n"
     ]
    }
   ],
   "source": [
    "data = pd.read_csv(\"haberman.csv\")\n",
    "df = pd.DataFrame(data)\n",
    "X = np.array(df.iloc[:, [0,1]])\n",
    "\n",
    "\n",
    "y = np.array(df.iloc[:, [2]])\n",
    "def perceptron_sgd(X, Y):\n",
    "    w = np.zeros(len(X[0]))\n",
    "  \n",
    "    epochs = 20\n",
    "\n",
    "    for t in range(epochs):\n",
    "        for i, x in enumerate(X):\n",
    "            if (np.dot(X[i], w)*Y[i]) <= 0:\n",
    "                w = w + X[i]*Y[i]\n",
    "\n",
    "    return w\n",
    "\n",
    "w = perceptron_sgd(X,y)\n",
    "print(w)"
   ]
  },
  {
   "cell_type": "code",
   "execution_count": null,
   "id": "6ed1b6ea",
   "metadata": {},
   "outputs": [],
   "source": []
  },
  {
   "cell_type": "code",
   "execution_count": null,
   "id": "c9763b4f",
   "metadata": {},
   "outputs": [],
   "source": []
  },
  {
   "cell_type": "code",
   "execution_count": null,
   "id": "eb7e81d3",
   "metadata": {},
   "outputs": [],
   "source": []
  }
 ],
 "metadata": {
  "kernelspec": {
   "display_name": "Python 3",
   "language": "python",
   "name": "python3"
  },
  "language_info": {
   "codemirror_mode": {
    "name": "ipython",
    "version": 3
   },
   "file_extension": ".py",
   "mimetype": "text/x-python",
   "name": "python",
   "nbconvert_exporter": "python",
   "pygments_lexer": "ipython3",
   "version": "3.8.8"
  }
 },
 "nbformat": 4,
 "nbformat_minor": 5
}
