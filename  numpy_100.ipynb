{
 "cells": [
  {
   "cell_type": "code",
   "execution_count": 3,
   "id": "bd654668",
   "metadata": {},
   "outputs": [],
   "source": [
    "#import numpy package under np\n",
    "import numpy as np"
   ]
  },
  {
   "cell_type": "code",
   "execution_count": 3,
   "id": "47004670",
   "metadata": {},
   "outputs": [
    {
     "data": {
      "text/plain": [
       "'1.20.1'"
      ]
     },
     "execution_count": 3,
     "metadata": {},
     "output_type": "execute_result"
    }
   ],
   "source": [
    "np.__version__"
   ]
  },
  {
   "cell_type": "code",
   "execution_count": 4,
   "id": "f6d5d84f",
   "metadata": {},
   "outputs": [
    {
     "name": "stdout",
     "output_type": "stream",
     "text": [
      "blas_mkl_info:\n",
      "    libraries = ['mkl_rt']\n",
      "    library_dirs = ['C:/Users/sas/anaconda3\\\\Library\\\\lib']\n",
      "    define_macros = [('SCIPY_MKL_H', None), ('HAVE_CBLAS', None)]\n",
      "    include_dirs = ['C:/Users/sas/anaconda3\\\\Library\\\\include']\n",
      "blas_opt_info:\n",
      "    libraries = ['mkl_rt']\n",
      "    library_dirs = ['C:/Users/sas/anaconda3\\\\Library\\\\lib']\n",
      "    define_macros = [('SCIPY_MKL_H', None), ('HAVE_CBLAS', None)]\n",
      "    include_dirs = ['C:/Users/sas/anaconda3\\\\Library\\\\include']\n",
      "lapack_mkl_info:\n",
      "    libraries = ['mkl_rt']\n",
      "    library_dirs = ['C:/Users/sas/anaconda3\\\\Library\\\\lib']\n",
      "    define_macros = [('SCIPY_MKL_H', None), ('HAVE_CBLAS', None)]\n",
      "    include_dirs = ['C:/Users/sas/anaconda3\\\\Library\\\\include']\n",
      "lapack_opt_info:\n",
      "    libraries = ['mkl_rt']\n",
      "    library_dirs = ['C:/Users/sas/anaconda3\\\\Library\\\\lib']\n",
      "    define_macros = [('SCIPY_MKL_H', None), ('HAVE_CBLAS', None)]\n",
      "    include_dirs = ['C:/Users/sas/anaconda3\\\\Library\\\\include']\n"
     ]
    }
   ],
   "source": [
    "np.show_config()"
   ]
  },
  {
   "cell_type": "code",
   "execution_count": 7,
   "id": "bec6271d",
   "metadata": {},
   "outputs": [
    {
     "name": "stdout",
     "output_type": "stream",
     "text": [
      "[0. 0. 0. 0. 0. 0. 0. 0. 0. 0.]\n",
      "[0 0 0 0 0 0 0 0 0 0]\n"
     ]
    }
   ],
   "source": [
    "x=np.zeros(10)\n",
    "print(x)\n",
    "\n",
    "\n",
    "y=np.array([0,0,0,0,0,0,0,0,0,0])\n",
    "print(y)"
   ]
  },
  {
   "cell_type": "code",
   "execution_count": 8,
   "id": "fce4b6e3",
   "metadata": {},
   "outputs": [
    {
     "name": "stdout",
     "output_type": "stream",
     "text": [
      "16 bytes\n"
     ]
    }
   ],
   "source": [
    "a = np.array([5,7,9,0])\n",
    "print(\"%d bytes\" % (a.size * a.itemsize))"
   ]
  },
  {
   "cell_type": "code",
   "execution_count": 9,
   "id": "2988d1c4",
   "metadata": {},
   "outputs": [
    {
     "name": "stdout",
     "output_type": "stream",
     "text": [
      "add(x1, x2, /, out=None, *, where=True, casting='same_kind', order='K', dtype=None, subok=True[, signature, extobj])\n",
      "\n",
      "Add arguments element-wise.\n",
      "\n",
      "Parameters\n",
      "----------\n",
      "x1, x2 : array_like\n",
      "    The arrays to be added.\n",
      "    If ``x1.shape != x2.shape``, they must be broadcastable to a common\n",
      "    shape (which becomes the shape of the output).\n",
      "out : ndarray, None, or tuple of ndarray and None, optional\n",
      "    A location into which the result is stored. If provided, it must have\n",
      "    a shape that the inputs broadcast to. If not provided or None,\n",
      "    a freshly-allocated array is returned. A tuple (possible only as a\n",
      "    keyword argument) must have length equal to the number of outputs.\n",
      "where : array_like, optional\n",
      "    This condition is broadcast over the input. At locations where the\n",
      "    condition is True, the `out` array will be set to the ufunc result.\n",
      "    Elsewhere, the `out` array will retain its original value.\n",
      "    Note that if an uninitialized `out` array is created via the default\n",
      "    ``out=None``, locations within it where the condition is False will\n",
      "    remain uninitialized.\n",
      "**kwargs\n",
      "    For other keyword-only arguments, see the\n",
      "    :ref:`ufunc docs <ufuncs.kwargs>`.\n",
      "\n",
      "Returns\n",
      "-------\n",
      "add : ndarray or scalar\n",
      "    The sum of `x1` and `x2`, element-wise.\n",
      "    This is a scalar if both `x1` and `x2` are scalars.\n",
      "\n",
      "Notes\n",
      "-----\n",
      "Equivalent to `x1` + `x2` in terms of array broadcasting.\n",
      "\n",
      "Examples\n",
      "--------\n",
      ">>> np.add(1.0, 4.0)\n",
      "5.0\n",
      ">>> x1 = np.arange(9.0).reshape((3, 3))\n",
      ">>> x2 = np.arange(3.0)\n",
      ">>> np.add(x1, x2)\n",
      "array([[  0.,   2.,   4.],\n",
      "       [  3.,   5.,   7.],\n",
      "       [  6.,   8.,  10.]])\n",
      "\n",
      "The ``+`` operator can be used as a shorthand for ``np.add`` on ndarrays.\n",
      "\n",
      ">>> x1 = np.arange(9.0).reshape((3, 3))\n",
      ">>> x2 = np.arange(3.0)\n",
      ">>> x1 + x2\n",
      "array([[ 0.,  2.,  4.],\n",
      "       [ 3.,  5.,  7.],\n",
      "       [ 6.,  8., 10.]])\n",
      "None\n"
     ]
    }
   ],
   "source": [
    "# How to get the documentation of the numpy add function from the command line\n",
    "print(np.info(np.add))"
   ]
  },
  {
   "cell_type": "code",
   "execution_count": 11,
   "id": "eaed6811",
   "metadata": {},
   "outputs": [
    {
     "name": "stdout",
     "output_type": "stream",
     "text": [
      "[0. 0. 0. 0. 1. 0. 0. 0. 0. 0.]\n"
     ]
    }
   ],
   "source": [
    "#Create a null vector of size 10 but the fifth value which is 1\n",
    "x=np.zeros(10)\n",
    "x[4]=1\n",
    "print(x)"
   ]
  },
  {
   "cell_type": "code",
   "execution_count": 15,
   "id": "651f9af2",
   "metadata": {},
   "outputs": [
    {
     "name": "stdout",
     "output_type": "stream",
     "text": [
      "[10 11 12 13 14 15 16 17 18 19 20 21 22 23 24 25 26 27 28 29 30 31 32 33\n",
      " 34 35 36 37 38 39 40 41 42 43 44 45 46 47 48 49]\n"
     ]
    }
   ],
   "source": [
    "#Create a vector with values ranging from 10 to 49\n",
    "x=np.arange(10,50)\n",
    "print(x)"
   ]
  },
  {
   "cell_type": "code",
   "execution_count": 16,
   "id": "43d77ac9",
   "metadata": {},
   "outputs": [
    {
     "name": "stdout",
     "output_type": "stream",
     "text": [
      "[49 48 47 46 45 44 43 42 41 40 39 38 37 36 35 34 33 32 31 30 29 28 27 26\n",
      " 25 24 23 22 21 20 19 18 17 16 15 14 13 12 11 10]\n"
     ]
    }
   ],
   "source": [
    "#Reverse a vector (first element becomes last)\n",
    "x=np.arange(10,50)\n",
    "x = x[::-1]\n",
    "print(x)"
   ]
  },
  {
   "cell_type": "code",
   "execution_count": 23,
   "id": "4b88daf6",
   "metadata": {},
   "outputs": [
    {
     "name": "stdout",
     "output_type": "stream",
     "text": [
      "[[0 1 2]\n",
      " [3 4 5]\n",
      " [6 7 8]]\n"
     ]
    }
   ],
   "source": [
    "#Create a 3x3 matrix with values ranging from 0 to 8\n",
    "x=np.array([[0,1,2],[3,4,5],[6,7,8]])\n",
    "print(x)"
   ]
  },
  {
   "cell_type": "code",
   "execution_count": 44,
   "id": "962cae7d",
   "metadata": {},
   "outputs": [
    {
     "name": "stdout",
     "output_type": "stream",
     "text": [
      "6\n",
      "0\n",
      "1\n",
      "4\n"
     ]
    }
   ],
   "source": [
    "#Find indices of non-zero elements from [1,2,0,0,4,0]\n",
    "x=np.array([1,2,0,0,4,0])\n",
    "y=len(x)\n",
    "print(y)\n",
    "i=0\n",
    "for i in range(y):\n",
    "    if x[i]!=0:\n",
    "        print(i)"
   ]
  },
  {
   "cell_type": "code",
   "execution_count": 45,
   "id": "a082ad93",
   "metadata": {},
   "outputs": [
    {
     "name": "stdout",
     "output_type": "stream",
     "text": [
      "[[1. 0. 0.]\n",
      " [0. 1. 0.]\n",
      " [0. 0. 1.]]\n"
     ]
    }
   ],
   "source": [
    "#Create a 3x3 identity matrix\n",
    "array_2D=np.identity(3)\n",
    "print(array_2D)"
   ]
  },
  {
   "cell_type": "code",
   "execution_count": 46,
   "id": "b6f9314b",
   "metadata": {},
   "outputs": [
    {
     "name": "stdout",
     "output_type": "stream",
     "text": [
      "[[[0.82504757 0.20524893 0.68461933]\n",
      "  [0.3314825  0.91686932 0.82065897]\n",
      "  [0.85449086 0.29968759 0.9999967 ]]\n",
      "\n",
      " [[0.62510048 0.01487552 0.19118884]\n",
      "  [0.24166346 0.87553207 0.19007425]\n",
      "  [0.95355095 0.36629292 0.20345637]]\n",
      "\n",
      " [[0.91887898 0.13224453 0.47826289]\n",
      "  [0.61201274 0.02534016 0.3383533 ]\n",
      "  [0.91894181 0.4772052  0.18944681]]]\n"
     ]
    }
   ],
   "source": [
    "#Create a 3x3x3 array with random values\n",
    "x = np.random.random((3,3,3))\n",
    "print(x)"
   ]
  },
  {
   "cell_type": "code",
   "execution_count": 48,
   "id": "292d7d74",
   "metadata": {},
   "outputs": [
    {
     "name": "stdout",
     "output_type": "stream",
     "text": [
      "[[0.694075   0.61230833 0.41304351 0.456092   0.52102981 0.99359195\n",
      "  0.86638333 0.56512091 0.73505994 0.69268094]\n",
      " [0.38070735 0.34491595 0.5324339  0.14784461 0.42514183 0.95598608\n",
      "  0.10452468 0.99407553 0.11666975 0.90774933]\n",
      " [0.31057357 0.28070643 0.72837399 0.78093175 0.57722651 0.50843056\n",
      "  0.34565857 0.07789664 0.26006734 0.26862319]\n",
      " [0.82411157 0.67923684 0.08524117 0.65279062 0.48066806 0.35234677\n",
      "  0.9781901  0.10252633 0.21926701 0.1312823 ]\n",
      " [0.49608954 0.4389065  0.29565008 0.04726431 0.00414831 0.02429364\n",
      "  0.30338402 0.09041569 0.27678591 0.95862769]\n",
      " [0.4814413  0.81949657 0.97617708 0.30454133 0.05398163 0.43554948\n",
      "  0.74949364 0.39209671 0.72299593 0.88436283]\n",
      " [0.63344538 0.45475559 0.5424699  0.57957923 0.33675958 0.72137122\n",
      "  0.03272317 0.84820702 0.1269089  0.41086279]\n",
      " [0.84329759 0.24761792 0.76913102 0.50680631 0.51951062 0.49410011\n",
      "  0.64786752 0.50745463 0.84783241 0.21853396]\n",
      " [0.20419312 0.32572561 0.78549758 0.26240277 0.6423344  0.44593277\n",
      "  0.46017363 0.16713583 0.72013937 0.45229936]\n",
      " [0.77374847 0.13499005 0.86265695 0.7080766  0.50278881 0.16725069\n",
      "  0.49301776 0.05026685 0.98580403 0.53858782]]\n",
      "Minimum and Maximum Values:\n",
      "0.0041483068022121206 0.9940755341537347\n"
     ]
    }
   ],
   "source": [
    "#Create a 10x10 array with random values and find the minimum and maximum values\n",
    "x = np.random.random((10,10))\n",
    "print(x) \n",
    "min, max = x.min(), x.max()\n",
    "\n",
    "print(min, max)"
   ]
  },
  {
   "cell_type": "code",
   "execution_count": 54,
   "id": "2e915f62",
   "metadata": {},
   "outputs": [
    {
     "name": "stdout",
     "output_type": "stream",
     "text": [
      "[28  1  6  6 11  0  2  3 27 28  6 18 24  3  4  0  3 23 26  3  0 20 21  5\n",
      "  6 25  5  1 28  2]\n",
      "11.166666666666666\n"
     ]
    }
   ],
   "source": [
    "#Create a random vector of size 30 and find the mean value\n",
    "from numpy import random\n",
    "\n",
    "x = np.random.randint(30,size=(30))\n",
    "print(x)\n",
    "print(np.mean(x))"
   ]
  },
  {
   "cell_type": "code",
   "execution_count": 55,
   "id": "59ee0299",
   "metadata": {},
   "outputs": [
    {
     "name": "stdout",
     "output_type": "stream",
     "text": [
      "[[1. 1. 1. 1.]\n",
      " [1. 0. 0. 1.]\n",
      " [1. 0. 0. 1.]\n",
      " [1. 1. 1. 1.]]\n"
     ]
    }
   ],
   "source": [
    "# Create a 2d array with 1 on the border and 0 inside\n",
    "x = np.ones((4,4))\n",
    "x[1:-1,1:-1] = 0\n",
    "print(x)"
   ]
  },
  {
   "cell_type": "code",
   "execution_count": 56,
   "id": "a5bd6ef0",
   "metadata": {},
   "outputs": [
    {
     "name": "stdout",
     "output_type": "stream",
     "text": [
      "[[0. 0. 0. 0. 0.]\n",
      " [0. 1. 1. 1. 0.]\n",
      " [0. 1. 1. 1. 0.]\n",
      " [0. 1. 1. 1. 0.]\n",
      " [0. 0. 0. 0. 0.]]\n"
     ]
    }
   ],
   "source": [
    "#How to add a border (filled with 0's) around an existing array?\n",
    "x = np.ones((3,3))\n",
    "x = np.pad(x, pad_width=1, mode='constant', constant_values=0)\n",
    "print(x)"
   ]
  },
  {
   "cell_type": "code",
   "execution_count": 57,
   "id": "37f16dcb",
   "metadata": {},
   "outputs": [
    {
     "name": "stdout",
     "output_type": "stream",
     "text": [
      "nan\n",
      "False\n",
      "False\n",
      "nan\n",
      "True\n",
      "False\n"
     ]
    }
   ],
   "source": [
    "#What is the result of the following expression? (\n",
    "0 * np.nan\n",
    "np.nan == np.nan\n",
    "np.inf > np.nan\n",
    "np.nan - np.nan\n",
    "np.nan in set([np.nan])\n",
    "0.3 == 3 * 0.1\n",
    "print(0 * np.nan)\n",
    "print(np.nan == np.nan)\n",
    "print(np.inf > np.nan)\n",
    "print(np.nan - np.nan)\n",
    "print(np.nan in set([np.nan]))\n",
    "print(0.3 == 3 * 0.1)"
   ]
  },
  {
   "cell_type": "code",
   "execution_count": 60,
   "id": "dbbea497",
   "metadata": {},
   "outputs": [
    {
     "name": "stdout",
     "output_type": "stream",
     "text": [
      "[[0 0 0 0 0]\n",
      " [1 0 0 0 0]\n",
      " [0 2 0 0 0]\n",
      " [0 0 3 0 0]\n",
      " [0 0 0 4 0]]\n"
     ]
    }
   ],
   "source": [
    "#Create a 5x5 matrix with values 1,2,3,4 just below the diagonal\n",
    "x= np.diag(1+np.arange(4),k=-1)\n",
    "print(x)"
   ]
  },
  {
   "cell_type": "code",
   "execution_count": 61,
   "id": "43099771",
   "metadata": {},
   "outputs": [
    {
     "name": "stdout",
     "output_type": "stream",
     "text": [
      "[[0 1 0 1 0 1 0 1]\n",
      " [1 0 1 0 1 0 1 0]\n",
      " [0 1 0 1 0 1 0 1]\n",
      " [1 0 1 0 1 0 1 0]\n",
      " [0 1 0 1 0 1 0 1]\n",
      " [1 0 1 0 1 0 1 0]\n",
      " [0 1 0 1 0 1 0 1]\n",
      " [1 0 1 0 1 0 1 0]]\n"
     ]
    }
   ],
   "source": [
    "#Create a 8x8 matrix and fill it with a checkerboard pattern\n",
    "x = np.ones((8,8))\n",
    "\n",
    "x = np.zeros((8,8),dtype=int)\n",
    "x[1::2,::2] = 1\n",
    "x[::2,1::2] = 1\n",
    "print(x)"
   ]
  },
  {
   "cell_type": "code",
   "execution_count": 62,
   "id": "874d9cf2",
   "metadata": {},
   "outputs": [
    {
     "name": "stdout",
     "output_type": "stream",
     "text": [
      "(1, 5, 3)\n"
     ]
    }
   ],
   "source": [
    "#Consider a (6,7,8) shape array, what is the index (x,y,z) of the 100th element? \n",
    "print(np.unravel_index(99,(6,7,8)))"
   ]
  },
  {
   "cell_type": "code",
   "execution_count": 63,
   "id": "2b72687a",
   "metadata": {},
   "outputs": [
    {
     "name": "stdout",
     "output_type": "stream",
     "text": [
      "[[0 1 0 1 0 1 0 1]\n",
      " [1 0 1 0 1 0 1 0]\n",
      " [0 1 0 1 0 1 0 1]\n",
      " [1 0 1 0 1 0 1 0]\n",
      " [0 1 0 1 0 1 0 1]\n",
      " [1 0 1 0 1 0 1 0]\n",
      " [0 1 0 1 0 1 0 1]\n",
      " [1 0 1 0 1 0 1 0]]\n"
     ]
    }
   ],
   "source": [
    "#Create a checkerboard 8x8 matrix using the tile function\n",
    "x = np.tile( np.array([[0,1],[1,0]]), (4,4))\n",
    "print(x)"
   ]
  },
  {
   "cell_type": "code",
   "execution_count": 70,
   "id": "8cd6bde1",
   "metadata": {},
   "outputs": [
    {
     "name": "stdout",
     "output_type": "stream",
     "text": [
      "[[0.30474064 0.0091775  0.07408342 0.31671908 0.93743962]\n",
      " [0.84744018 0.29455005 0.53320648 0.8525521  0.40919835]\n",
      " [0.97968524 0.17980485 0.8799206  0.92059294 0.78097645]\n",
      " [0.59902223 0.17814066 0.26484249 0.68811739 0.90364011]\n",
      " [0.47652506 0.66921852 0.56445603 0.74160356 0.10947039]]\n",
      "[[0.30454486 0.         0.06687831 0.31688731 0.9564706 ]\n",
      " [0.86373621 0.29404459 0.53995343 0.86900348 0.41217689]\n",
      " [1.         0.17581246 0.89720366 0.93911198 0.79525276]\n",
      " [0.60776922 0.1740977  0.26343426 0.69957185 0.92164398]\n",
      " [0.48154955 0.68009867 0.5721526  0.75468339 0.10334065]]\n"
     ]
    }
   ],
   "source": [
    "#Normalize a 5x5 random matrix \n",
    "x= np.random.random((5,5))\n",
    "\n",
    "print(x)\n",
    "xmax, xmin = x.max(), x.min()\n",
    "x = (x - xmin)/(xmax - xmin)\n",
    "\n",
    "print(x)"
   ]
  },
  {
   "cell_type": "code",
   "execution_count": 71,
   "id": "0ddb9342",
   "metadata": {},
   "outputs": [],
   "source": [
    "#Create a custom dtype that describes a color as four unsigned bytes (RGBA)\n",
    "olor = np.dtype([(\"r\", np.ubyte),\n",
    "                  (\"g\", np.ubyte),\n",
    "                  (\"b\", np.ubyte),\n",
    "                  (\"a\", np.ubyte)])"
   ]
  },
  {
   "cell_type": "code",
   "execution_count": 74,
   "id": "249a4e05",
   "metadata": {},
   "outputs": [
    {
     "name": "stdout",
     "output_type": "stream",
     "text": [
      "[[0.87072516 0.25950478 0.32597486]\n",
      " [0.46276208 0.27172058 0.72211557]\n",
      " [0.45211726 0.04419568 0.15347997]\n",
      " [0.24997181 0.90568401 0.108406  ]\n",
      " [0.68613354 0.32359644 0.97315929]]\n",
      "[[0.13602295 0.81342508]\n",
      " [0.37583503 0.26416367]\n",
      " [0.96950442 0.75562993]]\n",
      "[[0.53200365 1.02313778]\n",
      " [0.86516261 0.99385312]\n",
      " [0.22690812 0.49541247]\n",
      " [0.47948977 0.52449696]\n",
      " [1.15843102 1.37894894]]\n"
     ]
    }
   ],
   "source": [
    "#Multiply a 5x3 matrix by a 3x2 matrix (real matrix product)\n",
    "x= np.random.random((5,3))\n",
    "y= np.random.random((3,2))\n",
    "print(x)\n",
    "print(y)\n",
    "res = np.dot(x,y)\n",
    "print(res)"
   ]
  },
  {
   "cell_type": "code",
   "execution_count": 93,
   "id": "a88e6620",
   "metadata": {},
   "outputs": [
    {
     "name": "stdout",
     "output_type": "stream",
     "text": [
      "[ 1  2  3  4  5  6  7  8  9 10]\n",
      "-5\n",
      "-6\n",
      "-7\n",
      "-8\n"
     ]
    }
   ],
   "source": [
    "# Given a 1D array, negate all elements which are between 3 and 8, in place\n",
    "x = np.arange(1,11,1)\n",
    "print(x)\n",
    "i=3\n",
    "z=8\n",
    "for i in range(z):\n",
    "    if i>3:\n",
    "        y=np.negative(x[i])\n",
    "        print(y)"
   ]
  },
  {
   "cell_type": "code",
   "execution_count": 85,
   "id": "518646e4",
   "metadata": {},
   "outputs": [
    {
     "name": "stdout",
     "output_type": "stream",
     "text": [
      "10\n",
      "10\n",
      "10\n",
      "10\n"
     ]
    }
   ],
   "source": [
    "# What is the output of the following script? (★☆☆)\n",
    "# Author: Jake VanderPlas\n",
    "\n",
    "print(sum(range(5),-1))\n",
    "from numpy import *\n",
    "print(sum(range(5),-1))\n",
    "# Author: Jake VanderPlas\n",
    "\n",
    "print(sum(range(5),-1))\n",
    "from numpy import *\n",
    "print(sum(range(5),-1))"
   ]
  },
  {
   "cell_type": "code",
   "execution_count": 65,
   "id": "65218ca9",
   "metadata": {},
   "outputs": [
    {
     "ename": "ValueError",
     "evalue": "The truth value of an array with more than one element is ambiguous. Use a.any() or a.all()",
     "output_type": "error",
     "traceback": [
      "\u001b[1;31m---------------------------------------------------------------------------\u001b[0m",
      "\u001b[1;31mValueError\u001b[0m                                Traceback (most recent call last)",
      "\u001b[1;32m<ipython-input-65-70d1ddff5fbc>\u001b[0m in \u001b[0;36m<module>\u001b[1;34m\u001b[0m\n\u001b[0;32m      5\u001b[0m \u001b[1;36m1j\u001b[0m\u001b[1;33m*\u001b[0m\u001b[0mZ\u001b[0m\u001b[1;33m\u001b[0m\u001b[1;33m\u001b[0m\u001b[0m\n\u001b[0;32m      6\u001b[0m \u001b[0mZ\u001b[0m\u001b[1;33m/\u001b[0m\u001b[1;36m1\u001b[0m\u001b[1;33m/\u001b[0m\u001b[1;36m1\u001b[0m\u001b[1;33m\u001b[0m\u001b[1;33m\u001b[0m\u001b[0m\n\u001b[1;32m----> 7\u001b[1;33m \u001b[0mZ\u001b[0m\u001b[1;33m<\u001b[0m\u001b[0mZ\u001b[0m\u001b[1;33m>\u001b[0m\u001b[0mZ\u001b[0m\u001b[1;33m\u001b[0m\u001b[1;33m\u001b[0m\u001b[0m\n\u001b[0m\u001b[0;32m      8\u001b[0m \u001b[0mZ\u001b[0m\u001b[1;33m**\u001b[0m\u001b[0mZ\u001b[0m\u001b[1;33m\u001b[0m\u001b[1;33m\u001b[0m\u001b[0m\n\u001b[0;32m      9\u001b[0m \u001b[1;36m2\u001b[0m \u001b[1;33m<<\u001b[0m \u001b[0mZ\u001b[0m \u001b[1;33m>>\u001b[0m \u001b[1;36m2\u001b[0m\u001b[1;33m\u001b[0m\u001b[1;33m\u001b[0m\u001b[0m\n",
      "\u001b[1;31mValueError\u001b[0m: The truth value of an array with more than one element is ambiguous. Use a.any() or a.all()"
     ]
    }
   ],
   "source": [
    "# Consider an integer vector Z, which of these expressions are legal? \n",
    "Z**Z\n",
    "2 << Z >> 2\n",
    "Z <- Z\n",
    "1j*Z\n",
    "Z/1/1\n",
    "Z<Z>Z\n",
    "Z**Z\n",
    "2 << Z >> 2\n",
    "Z <- Z\n",
    "1j*Z\n",
    "Z/1/1\n",
    "Z<Z>Z"
   ]
  },
  {
   "cell_type": "code",
   "execution_count": 66,
   "id": "565b7ac1",
   "metadata": {},
   "outputs": [
    {
     "name": "stderr",
     "output_type": "stream",
     "text": [
      "<ipython-input-66-9d5d58bfc011>:2: RuntimeWarning: invalid value encountered in true_divide\n",
      "  np.array(0) / np.array(0)\n",
      "<ipython-input-66-9d5d58bfc011>:3: RuntimeWarning: divide by zero encountered in floor_divide\n",
      "  np.array(0) // np.array(0)\n",
      "<ipython-input-66-9d5d58bfc011>:5: RuntimeWarning: invalid value encountered in true_divide\n",
      "  print(np.array(0) / np.array(0))\n",
      "<ipython-input-66-9d5d58bfc011>:6: RuntimeWarning: divide by zero encountered in floor_divide\n",
      "  print(np.array(0) // np.array(0))\n"
     ]
    },
    {
     "name": "stdout",
     "output_type": "stream",
     "text": [
      "nan\n",
      "0\n",
      "[-2.14748365e+09]\n"
     ]
    }
   ],
   "source": [
    "# What are the result of the following expressions? (★☆☆)\n",
    "np.array(0) / np.array(0)\n",
    "np.array(0) // np.array(0)\n",
    "np.array([np.nan]).astype(int).astype(float)\n",
    "print(np.array(0) / np.array(0))\n",
    "print(np.array(0) // np.array(0))\n",
    "print(np.array([np.nan]).astype(int).astype(float))"
   ]
  },
  {
   "cell_type": "code",
   "execution_count": 100,
   "id": "f8bea769",
   "metadata": {},
   "outputs": [
    {
     "name": "stdout",
     "output_type": "stream",
     "text": [
      "[1.1  2.01 7.07 8.43]\n",
      "[2. 3. 8. 9.]\n"
     ]
    }
   ],
   "source": [
    "#How to round away from zero a float array ?\n",
    "x=np.array([1.1, 2.01, 7.07, 8.43])\n",
    "print(x)\n",
    "print(np.where(x>0, np.ceil(x), np.floor(x)))"
   ]
  },
  {
   "cell_type": "code",
   "execution_count": 101,
   "id": "134b2d2b",
   "metadata": {},
   "outputs": [
    {
     "name": "stdout",
     "output_type": "stream",
     "text": [
      "[1 7]\n"
     ]
    }
   ],
   "source": [
    "#How to find common values between two arrays?\n",
    "x=np.array([1, 2, 7, 8, 12, 45])\n",
    "y=np.array([1,3,7,9,10,67])\n",
    "z=np.intersect1d(x,y)\n",
    "print(z)"
   ]
  },
  {
   "cell_type": "code",
   "execution_count": null,
   "id": "a662dcce",
   "metadata": {},
   "outputs": [],
   "source": [
    "# 31 How to ignore all numpy warnings (not recommended)?"
   ]
  },
  {
   "cell_type": "code",
   "execution_count": 67,
   "id": "ba8c67e3",
   "metadata": {},
   "outputs": [
    {
     "name": "stderr",
     "output_type": "stream",
     "text": [
      "<ipython-input-67-530e0eb0fe17>:2: RuntimeWarning: invalid value encountered in sqrt\n",
      "  np.sqrt(-1) == np.emath.sqrt(-1)\n",
      "<ipython-input-67-530e0eb0fe17>:3: RuntimeWarning: invalid value encountered in sqrt\n",
      "  np.sqrt(-1) == np.emath.sqrt(-1)\n"
     ]
    },
    {
     "data": {
      "text/plain": [
       "False"
      ]
     },
     "execution_count": 67,
     "metadata": {},
     "output_type": "execute_result"
    }
   ],
   "source": [
    "# 32. Is the following expressions true? (★☆☆)\n",
    "np.sqrt(-1) == np.emath.sqrt(-1)\n",
    "np.sqrt(-1) == np.emath.sqrt(-1)"
   ]
  },
  {
   "cell_type": "code",
   "execution_count": 102,
   "id": "63bb4011",
   "metadata": {},
   "outputs": [
    {
     "name": "stdout",
     "output_type": "stream",
     "text": [
      "Yestraday:  2021-09-08\n",
      "Today:  2021-09-09\n",
      "Tomorrow:  2021-09-10\n"
     ]
    }
   ],
   "source": [
    "# 33. How to get the dates of yesterday, today and tomorrow? (★☆☆)\n",
    "yesterday = np.datetime64('today', 'D') - np.timedelta64(1, 'D')\n",
    "print(\"Yestraday: \",yesterday)\n",
    "today     = np.datetime64('today', 'D')\n",
    "print(\"Today: \",today)\n",
    "tomorrow  = np.datetime64('today', 'D') + np.timedelta64(1, 'D')\n",
    "print(\"Tomorrow: \",tomorrow)"
   ]
  },
  {
   "cell_type": "code",
   "execution_count": 104,
   "id": "367be6da",
   "metadata": {},
   "outputs": [
    {
     "name": "stdout",
     "output_type": "stream",
     "text": [
      "['2016-07-01' '2016-07-02' '2016-07-03' '2016-07-04' '2016-07-05'\n",
      " '2016-07-06' '2016-07-07' '2016-07-08' '2016-07-09' '2016-07-10'\n",
      " '2016-07-11' '2016-07-12' '2016-07-13' '2016-07-14' '2016-07-15'\n",
      " '2016-07-16' '2016-07-17' '2016-07-18' '2016-07-19' '2016-07-20'\n",
      " '2016-07-21' '2016-07-22' '2016-07-23' '2016-07-24' '2016-07-25'\n",
      " '2016-07-26' '2016-07-27' '2016-07-28' '2016-07-29' '2016-07-30'\n",
      " '2016-07-31']\n"
     ]
    }
   ],
   "source": [
    "# 34. How to get all the dates corresponding to the month of July 2016? \n",
    "print(np.arange('2016-07', '2016-08', dtype='datetime64[D]'))"
   ]
  },
  {
   "cell_type": "code",
   "execution_count": 105,
   "id": "a47abd76",
   "metadata": {},
   "outputs": [
    {
     "data": {
      "text/plain": [
       "array([-1.5, -1.5, -1.5])"
      ]
     },
     "execution_count": 105,
     "metadata": {},
     "output_type": "execute_result"
    }
   ],
   "source": [
    "# 35. How to compute ((A+B)*(-A/2)) in place (without copy)?\n",
    "A = np.ones(3)*1\n",
    "B = np.ones(3)*2\n",
    "np.add(A,B,out=B)\n",
    "np.divide(A,2,out=A)\n",
    "np.negative(A,out=A)\n",
    "np.multiply(A,B,out=A)"
   ]
  },
  {
   "cell_type": "code",
   "execution_count": 107,
   "id": "3b7a9080",
   "metadata": {},
   "outputs": [
    {
     "name": "stdout",
     "output_type": "stream",
     "text": [
      "[1. 2. 7. 8.]\n",
      "[1. 2. 7. 8.]\n",
      "[1 2 7 8]\n",
      "[1. 2. 7. 8.]\n"
     ]
    }
   ],
   "source": [
    "# 36. Extract the integer part of a random array of positive numbers using 4 different methods \n",
    "x=np.array([1.1, 2.01, 7.07, 8.43])\n",
    "print(x // 1)\n",
    "print(np.floor(x))\n",
    "print(x.astype(int))\n",
    "print(np.trunc(x))"
   ]
  },
  {
   "cell_type": "code",
   "execution_count": 111,
   "id": "e28bdd77",
   "metadata": {},
   "outputs": [
    {
     "name": "stdout",
     "output_type": "stream",
     "text": [
      "[[ 0  9  8  7  6]\n",
      " [ 1  7  9  5  4]\n",
      " [ 2 78  6  0  8]\n",
      " [ 3 77 34  9  0]\n",
      " [ 4 99 54  4  3]]\n"
     ]
    }
   ],
   "source": [
    "# 37. Create a 5x5 matrix with row values ranging from 0 to 4 \n",
    "x=np.matrix([[0,9,8,7,6],[1,7,9,5,4],[2,78,6,0,8],[3,77,34,9,0],[4,99,54,4,3]])\n",
    "print(x)"
   ]
  },
  {
   "cell_type": "code",
   "execution_count": 112,
   "id": "75b81ebc",
   "metadata": {},
   "outputs": [
    {
     "name": "stdout",
     "output_type": "stream",
     "text": [
      "[ 0.  1.  2.  3.  4.  5.  6.  7.  8.  9. 10. 11. 12. 13. 14.]\n"
     ]
    }
   ],
   "source": [
    "# 38. Consider a generator function that generates 10 integers and use it to build an array \n",
    "def generate():\n",
    "   for n in range(15):\n",
    "       yield n\n",
    "x = np.fromiter(generate(),dtype=float,count=-1)\n",
    "\n",
    "print(x)"
   ]
  },
  {
   "cell_type": "code",
   "execution_count": 113,
   "id": "3b5ea5ba",
   "metadata": {},
   "outputs": [
    {
     "name": "stdout",
     "output_type": "stream",
     "text": [
      "[0.09090909 0.18181818 0.27272727 0.36363636 0.45454545 0.54545455\n",
      " 0.63636364 0.72727273 0.81818182 0.90909091]\n"
     ]
    }
   ],
   "source": [
    "# 39. Create a vector of size 10 with values ranging from 0 to 1, both excluded \n",
    "x = np.linspace(0,1,12,endpoint=True)[1:-1]\n",
    "print(x)"
   ]
  },
  {
   "cell_type": "code",
   "execution_count": 115,
   "id": "d023b75b",
   "metadata": {},
   "outputs": [
    {
     "name": "stdout",
     "output_type": "stream",
     "text": [
      "[58 71 72 19 76 26 47 25 89 43]\n",
      "[19 25 26 43 47 58 71 72 76 89]\n"
     ]
    }
   ],
   "source": [
    "# 40. Create a random vector of size 10 and sort it\n",
    "x=random.randint(100, size=(10))\n",
    "print(x)\n",
    "sort(x)\n",
    "print(sort(x))"
   ]
  },
  {
   "cell_type": "code",
   "execution_count": 116,
   "id": "e592422e",
   "metadata": {},
   "outputs": [
    {
     "data": {
      "text/plain": [
       "442"
      ]
     },
     "execution_count": 116,
     "metadata": {},
     "output_type": "execute_result"
    }
   ],
   "source": [
    "# 41. How to sum a small array faster than np.sum?\n",
    "x=random.randint(100, size=(10))\n",
    "np.add.reduce(x)"
   ]
  },
  {
   "cell_type": "code",
   "execution_count": 117,
   "id": "f20ab89e",
   "metadata": {},
   "outputs": [
    {
     "name": "stdout",
     "output_type": "stream",
     "text": [
      "True\n"
     ]
    }
   ],
   "source": [
    "# 42. Consider two random array A and B, check if they are equal \n",
    "x = np.array([1,2,3,4,5])\n",
    "\n",
    "y = np.array([1,2,3,4,5])\n",
    "print(np.array_equal(x,y))"
   ]
  },
  {
   "cell_type": "code",
   "execution_count": 120,
   "id": "4463cdd2",
   "metadata": {},
   "outputs": [
    {
     "name": "stdout",
     "output_type": "stream",
     "text": [
      "[1 8 7 6 9 4]\n",
      "[1 2 7 6 9 4]\n"
     ]
    },
    {
     "ename": "ValueError",
     "evalue": "assignment destination is read-only",
     "output_type": "error",
     "traceback": [
      "\u001b[1;31m---------------------------------------------------------------------------\u001b[0m",
      "\u001b[1;31mValueError\u001b[0m                                Traceback (most recent call last)",
      "\u001b[1;32m<ipython-input-120-b9db4dd9c32f>\u001b[0m in \u001b[0;36m<module>\u001b[1;34m\u001b[0m\n\u001b[0;32m      5\u001b[0m \u001b[0mprint\u001b[0m\u001b[1;33m(\u001b[0m\u001b[0mx\u001b[0m\u001b[1;33m)\u001b[0m\u001b[1;33m\u001b[0m\u001b[1;33m\u001b[0m\u001b[0m\n\u001b[0;32m      6\u001b[0m \u001b[0mx\u001b[0m\u001b[1;33m.\u001b[0m\u001b[0mflags\u001b[0m\u001b[1;33m.\u001b[0m\u001b[0mwriteable\u001b[0m \u001b[1;33m=\u001b[0m \u001b[1;32mFalse\u001b[0m\u001b[1;33m\u001b[0m\u001b[1;33m\u001b[0m\u001b[0m\n\u001b[1;32m----> 7\u001b[1;33m \u001b[0mx\u001b[0m\u001b[1;33m[\u001b[0m\u001b[1;36m1\u001b[0m\u001b[1;33m]\u001b[0m \u001b[1;33m=\u001b[0m \u001b[1;36m5\u001b[0m\u001b[1;33m\u001b[0m\u001b[1;33m\u001b[0m\u001b[0m\n\u001b[0m",
      "\u001b[1;31mValueError\u001b[0m: assignment destination is read-only"
     ]
    }
   ],
   "source": [
    "# 43. Make an array immutable (read-only)\n",
    "x = np.array([1,8,7,6,9,4])\n",
    "print(x)\n",
    "x[1] = 2\n",
    "print(x) \n",
    "x.flags.writeable = False\n",
    "x[1] = 5"
   ]
  },
  {
   "cell_type": "code",
   "execution_count": 121,
   "id": "2adc444a",
   "metadata": {},
   "outputs": [
    {
     "name": "stdout",
     "output_type": "stream",
     "text": [
      "[0.41356958 0.63224804 1.04004477 0.83444633 0.44931014 1.08196227\n",
      " 1.24624508 0.65193686 1.04234885 0.2385118 ]\n",
      "[0.94972929 1.15493105 0.73057305 0.41387844 1.56916617 0.62531007\n",
      " 0.72139245 0.70135227 0.91389292 0.67461393]\n"
     ]
    }
   ],
   "source": [
    "# 44. Consider a random 10x2 matrix representing cartesian coordinates, convert them to polar coordinates\n",
    "z= np.random.random((10,2))\n",
    "x,y = z[:,0], z[:,1]\n",
    "r = np.sqrt(x**2+y**2)\n",
    "t = np.arctan2(y,x)\n",
    "print(r)\n",
    "print(t)"
   ]
  },
  {
   "cell_type": "code",
   "execution_count": 122,
   "id": "6d4e8ce9",
   "metadata": {},
   "outputs": [
    {
     "name": "stdout",
     "output_type": "stream",
     "text": [
      "[20 42  6 56 41 87 34 38 45 50]\n",
      "87\n",
      "(array([5], dtype=int64),)\n",
      "[20 42  6 56 41  0 34 38 45 50]\n"
     ]
    }
   ],
   "source": [
    "# 45. Create random vector of size 10 and replace the maximum value by 0\n",
    "x=random.randint(100, size=(10))\n",
    "print(x)\n",
    "max_value = np.max(x)\n",
    "print(max_value)\n",
    "y = np.where(x==max_value)\n",
    "print(y)\n",
    "x[y] = 0\n",
    "print(x)"
   ]
  },
  {
   "cell_type": "code",
   "execution_count": 123,
   "id": "0a11965f",
   "metadata": {},
   "outputs": [
    {
     "name": "stdout",
     "output_type": "stream",
     "text": [
      "[[(0.  , 0.  ) (0.25, 0.  ) (0.5 , 0.  ) (0.75, 0.  ) (1.  , 0.  )]\n",
      " [(0.  , 0.25) (0.25, 0.25) (0.5 , 0.25) (0.75, 0.25) (1.  , 0.25)]\n",
      " [(0.  , 0.5 ) (0.25, 0.5 ) (0.5 , 0.5 ) (0.75, 0.5 ) (1.  , 0.5 )]\n",
      " [(0.  , 0.75) (0.25, 0.75) (0.5 , 0.75) (0.75, 0.75) (1.  , 0.75)]\n",
      " [(0.  , 1.  ) (0.25, 1.  ) (0.5 , 1.  ) (0.75, 1.  ) (1.  , 1.  )]]\n"
     ]
    }
   ],
   "source": [
    "# 46. Create a structured array with x and y coordinates covering the [0,1]x[0,1] area\n",
    "Z = np.zeros((5,5), [('x',float),('y',float)])\n",
    "Z['x'], Z['y'] = np.meshgrid(np.linspace(0,1,5),\n",
    "                             np.linspace(0,1,5))\n",
    "print(Z)"
   ]
  },
  {
   "cell_type": "code",
   "execution_count": 129,
   "id": "fae17571",
   "metadata": {},
   "outputs": [],
   "source": [
    "# 47. Given two arrays, X and Y, construct the Cauchy matrix C (Cij =1/(xi - yj))"
   ]
  },
  {
   "cell_type": "code",
   "execution_count": null,
   "id": "7d2c5d08",
   "metadata": {},
   "outputs": [],
   "source": [
    "# 48. Print the minimum and maximum representable value for each numpy scalar type\n"
   ]
  },
  {
   "cell_type": "code",
   "execution_count": 127,
   "id": "79508052",
   "metadata": {},
   "outputs": [
    {
     "name": "stdout",
     "output_type": "stream",
     "text": [
      "[67 54 82 62 37 79 33 63 69 48]\n"
     ]
    }
   ],
   "source": [
    "# 49. How to print all the values of an array?\n",
    "np.set_printoptions(threshold=float(\"inf\"))\n",
    "x=random.randint(100, size=(10))\n",
    "print(x)"
   ]
  },
  {
   "cell_type": "code",
   "execution_count": 128,
   "id": "00ac700f",
   "metadata": {},
   "outputs": [
    {
     "name": "stdout",
     "output_type": "stream",
     "text": [
      "[ 0  1  2  3  4  5  6  7  8  9 10 11 12 13 14 15 16 17 18 19 20 21 22 23\n",
      " 24 25 26 27 28 29 30 31 32 33 34 35 36 37 38 39 40 41 42 43 44 45 46 47\n",
      " 48 49 50 51 52 53 54 55 56 57 58 59 60 61 62 63 64 65 66 67 68 69 70 71\n",
      " 72 73 74 75 76 77 78 79 80 81 82 83 84 85 86 87 88 89 90 91 92 93 94 95\n",
      " 96 97 98 99]\n",
      "50.55\n",
      "51\n"
     ]
    }
   ],
   "source": [
    "# 50. How to find the closest value (to a given scalar) in a vector? \n",
    "x = np.arange(100)\n",
    "print(x)\n",
    "a = 50.55\n",
    "print(a)\n",
    "index = (np.abs(x-a)).argmin()\n",
    "print(x[index])"
   ]
  },
  {
   "cell_type": "code",
   "execution_count": 131,
   "id": "a0e40790",
   "metadata": {},
   "outputs": [
    {
     "name": "stdout",
     "output_type": "stream",
     "text": [
      "[['position' list([('x', <class 'float'>, 1), ('y', <class 'float'>, 1)])]\n",
      " ['color'\n",
      "  list([('r', <class 'float'>, 1), ('g', <class 'float'>, 1), ('b', <class 'float'>, 1)])]]\n"
     ]
    },
    {
     "name": "stderr",
     "output_type": "stream",
     "text": [
      "<ipython-input-131-bfdb803d78cb>:2: VisibleDeprecationWarning: Creating an ndarray from ragged nested sequences (which is a list-or-tuple of lists-or-tuples-or ndarrays with different lengths or shapes) is deprecated. If you meant to do this, you must specify 'dtype=object' when creating the ndarray.\n",
      "  a = np.array([ ('position', [ ('x', float, 1),('y', float, 1)]),('color',    [ ('r', float, 1),('g', float, 1),('b', float, 1)])])\n"
     ]
    }
   ],
   "source": [
    "#51. Create a structured array representing a position (x,y) and a color (r,g,b)\n",
    "a = np.array([ ('position', [ ('x', float, 1),('y', float, 1)]),('color',    [ ('r', float, 1),('g', float, 1),('b', float, 1)])])\n",
    " \n",
    "print(a)"
   ]
  },
  {
   "cell_type": "code",
   "execution_count": 132,
   "id": "5ab5c780",
   "metadata": {},
   "outputs": [
    {
     "name": "stdout",
     "output_type": "stream",
     "text": [
      "[[0.         0.55511431 0.43901941 0.43722984 0.94607114 0.00956316\n",
      "  0.3220752  0.45789447 0.76527407 0.78016946 0.47710202 0.38739001\n",
      "  0.45675775 0.76185156 0.39455355 0.43294132 0.11044934 0.58671978\n",
      "  0.99933769 0.97072612 0.61853898 0.39573325 0.80220242 0.93139887\n",
      "  0.55180568 0.6064901  0.62973775 0.68976146 0.82541119 0.63205027\n",
      "  0.83464767 0.42445747 0.65298379 0.59201682 0.89280711 0.49960552\n",
      "  0.57756299 0.37286642 0.66506488 0.2238893  0.91351768 0.44051784\n",
      "  0.8726241  0.35166192 0.79240533 0.3091359  0.85503385 0.49344829\n",
      "  0.72043519 0.8670542  0.64176181 0.34659553 0.45383852 0.30395028\n",
      "  0.84413792 0.97844537 0.62695767 0.55421107 0.88587283 0.45842385\n",
      "  0.75774923 0.68609435 0.7529363  0.59920441 0.71413677 0.4872426\n",
      "  0.96990902 0.26444473 0.13370775 0.75389051 0.55673123 0.1972268\n",
      "  0.76886057 0.35553493 0.21331528 0.31863034 0.50506188 0.44941589\n",
      "  0.66257605 0.79481709 0.80136177 0.80141501 0.91887557 0.71757557\n",
      "  0.40844501 0.35471101 0.18748773 1.02436987 0.90241464 0.19090167\n",
      "  0.80640635 0.91980305 0.49349276 0.38367863 0.63406491 0.56147778\n",
      "  0.52258126 0.52909155 0.58076769 0.800591  ]\n",
      " [0.55511431 0.         0.32587418 0.58233391 0.39122382 0.56330933\n",
      "  0.29543489 0.11072357 0.22857837 0.4668247  0.62360022 0.5484803\n",
      "  0.21117445 0.37385579 0.16093157 0.1775336  0.55289212 0.52313924\n",
      "  0.44512199 0.43759134 0.11242906 0.67733052 0.4422519  0.43756973\n",
      "  0.17759284 0.41036735 0.1302929  0.28378694 0.29278688 0.30058529\n",
      "  0.29053107 0.74100761 0.12972771 0.27807574 0.36029217 0.64405551\n",
      "  0.05438808 0.64537784 0.33795295 0.61515032 0.38181329 0.72337603\n",
      "  0.33625904 0.21981413 0.23893084 0.25903117 0.47620077 0.16123701\n",
      "  0.26915202 0.6055767  0.08945762 0.57135597 0.62547055 0.31103351\n",
      "  0.33867542 0.52616633 0.17022374 0.02118204 0.3366578  0.76014405\n",
      "  0.2516616  0.17690665 0.36700094 0.06779562 0.16065013 0.80303463\n",
      "  0.62168189 0.3175689  0.44844993 0.3473211  0.62580808 0.46114559\n",
      "  0.57167483 0.57526596 0.34475986 0.29862581 0.63409207 0.79348958\n",
      "  0.21649015 0.35753829 0.2561829  0.2469899  0.41065717 0.43970621\n",
      "  0.60320923 0.67271019 0.38867373 0.69848119 0.36795788 0.58454057\n",
      "  0.26830465 0.36693689 0.45060849 0.63817279 0.11349923 0.31415724\n",
      "  0.22012035 0.54572401 0.48661692 0.24556596]\n",
      " [0.43901941 0.32587418 0.         0.26206338 0.65189564 0.44281231\n",
      "  0.39772193 0.32154703 0.54192308 0.76892105 0.30022541 0.65401961\n",
      "  0.42985743 0.33328731 0.25141715 0.157725   0.37290077 0.73509631\n",
      "  0.67958947 0.74144456 0.43746927 0.7411926  0.75528434 0.53171271\n",
      "  0.46378571 0.66393128 0.30081975 0.27845553 0.47415297 0.20505048\n",
      "  0.50000714 0.79288642 0.33470484 0.1691224  0.53236599 0.77426442\n",
      "  0.37846892 0.70971148 0.23177501 0.60886839 0.68952689 0.7918448\n",
      "  0.51992696 0.32368663 0.49044236 0.32215937 0.79455161 0.41378513\n",
      "  0.32485318 0.90027889 0.40116051 0.27469728 0.30536889 0.14964578\n",
      "  0.46244159 0.85193823 0.26743843 0.30859251 0.62526376 0.82192084\n",
      "  0.57588604 0.34191401 0.32466194 0.31606944 0.42658209 0.86051841\n",
      "  0.93829404 0.36050829 0.4096627  0.66619133 0.79026786 0.47516679\n",
      "  0.84324427 0.27575335 0.31975002 0.39810647 0.77060182 0.83428586\n",
      "  0.53643411 0.37970085 0.55857423 0.50397359 0.53085621 0.72856158\n",
      "  0.70171842 0.71622917 0.37659241 1.01254868 0.54348129 0.57066458\n",
      "  0.57754359 0.59912356 0.63962319 0.71101552 0.32157986 0.5728193\n",
      "  0.13432693 0.22317582 0.70693482 0.51027606]\n",
      " [0.43722984 0.58233391 0.26206338 0.         0.91038757 0.43534074\n",
      "  0.56748028 0.55595741 0.80310071 0.99928907 0.04720376 0.77325329\n",
      "  0.64385219 0.53336502 0.47476866 0.40606054 0.33021222 0.91159766\n",
      "  0.93291732 1.00350764 0.69146246 0.82027586 0.99403466 0.75295091\n",
      "  0.69917226 0.86948816 0.56163994 0.50888577 0.72433934 0.42669909\n",
      "  0.75401875 0.85707649 0.59577207 0.40308822 0.77701432 0.89559458\n",
      "  0.63274825 0.79320109 0.43533235 0.65630363 0.95149351 0.86832876\n",
      "  0.76796107 0.51920793 0.75035496 0.49900126 1.03734132 0.64248202\n",
      "  0.56312187 1.12220786 0.66157513 0.09447598 0.04335307 0.30879232\n",
      "  0.7000106  1.1073323  0.52466978 0.5666006  0.88694005 0.8902856\n",
      "  0.83392338 0.59911846 0.52636752 0.57779576 0.68836008 0.92182153\n",
      "  1.17777946 0.51077074 0.48600083 0.91120425 0.93265874 0.56891378\n",
      "  1.05084132 0.08631828 0.44571176 0.56631268 0.89648164 0.88565647\n",
      "  0.7845855  0.59586647 0.82057639 0.76416335 0.76103192 0.95142527\n",
      "  0.8099313  0.78376722 0.48549587 1.24875531 0.7883284  0.6200199\n",
      "  0.8392469  0.85387291 0.8113689  0.80035181 0.5832461  0.78756015\n",
      "  0.39369979 0.12632074 0.89053857 0.77104405]\n",
      " [0.94607114 0.39122382 0.65189564 0.91038757 0.         0.95435373\n",
      "  0.66376347 0.49138591 0.20681438 0.54355936 0.94321826 0.87368876\n",
      "  0.54112641 0.46143334 0.55215078 0.54405102 0.94149084 0.75892507\n",
      "  0.07749748 0.16163081 0.3442505  1.0131813  0.48398684 0.31037997\n",
      "  0.45031367 0.61883492 0.35215918 0.42729261 0.20397805 0.50403933\n",
      "  0.16452607 1.07837527 0.31933773 0.51520872 0.18983283 0.93960868\n",
      "  0.37187705 0.98376465 0.51571241 0.98542411 0.1567993  1.05280347\n",
      "  0.17840914 0.60230153 0.16279229 0.64401852 0.47439529 0.48746898\n",
      "  0.37020275 0.66553917 0.30460884 0.92426865 0.9529941  0.68904156\n",
      "  0.26825139 0.3905072  0.38572351 0.39411115 0.08762589 1.09061231\n",
      "  0.25916513 0.3112952  0.46216412 0.35648014 0.23648424 1.13296034\n",
      "  0.5868575  0.69950584 0.83507047 0.40401121 0.89418737 0.83610572\n",
      "  0.69942526 0.92618918 0.73445416 0.66736348 0.92588756 1.13321768\n",
      "  0.36489558 0.39348346 0.1629411  0.15047252 0.26858036 0.56600909\n",
      "  0.92606637 1.01938208 0.77455123 0.66159777 0.18233961 0.95882096\n",
      "  0.17494874 0.0762074  0.72812202 0.97258549 0.33495661 0.55207567\n",
      "  0.51778656 0.83530293 0.72047296 0.14778478]\n",
      " [0.00956316 0.56330933 0.44281231 0.43534074 0.95435373 0.\n",
      "  0.33157902 0.46656146 0.77406195 0.78969769 0.47468793 0.39504425\n",
      "  0.46618164 0.76682186 0.40264163 0.43959352 0.10685232 0.59552335\n",
      "  1.0073303  0.97968503 0.62740409 0.40089124 0.81176502 0.93768221\n",
      "  0.56113455 0.61591591 0.63691595 0.69534895 0.83267224 0.63693216\n",
      "  0.84220943 0.42841646 0.66040257 0.59698454 0.89999022 0.50655265\n",
      "  0.58615412 0.37850358 0.66964108 0.22833639 0.92247127 0.44520534\n",
      "  0.87992831 0.36063665 0.80037963 0.31813739 0.86459699 0.50269531\n",
      "  0.726541   0.8763875  0.65013098 0.34409309 0.45110946 0.30925076\n",
      "  0.85079732 0.9879419  0.63360123 0.56221358 0.89446702 0.46248113\n",
      "  0.76684668 0.69319341 0.75791416 0.60692855 0.72214382 0.49070462\n",
      "  0.97942846 0.27380408 0.14326817 0.76340457 0.56437544 0.20619134\n",
      "  0.77802984 0.35300913 0.22210086 0.32813854 0.51220677 0.45237122\n",
      "  0.67188052 0.80043299 0.81002453 0.80946441 0.9254708  0.72707818\n",
      "  0.41531582 0.35938356 0.19694553 1.03382032 0.9096394  0.1961461\n",
      "  0.81520352 0.92769716 0.50253371 0.38960835 0.64150846 0.57103815\n",
      "  0.52817872 0.5289001  0.58979688 0.80873016]\n",
      " [0.3220752  0.29543489 0.39772193 0.56748028 0.66376347 0.33157902\n",
      "  0.         0.18477079 0.46657321 0.4688072  0.61468291 0.27110985\n",
      "  0.13660501 0.62087554 0.17674774 0.27787716 0.37126389 0.34572954\n",
      "  0.72712699 0.66300361 0.32059239 0.38765641 0.48424035 0.7280682\n",
      "  0.2344106  0.31072995 0.41070889 0.53171557 0.5882128  0.50922633\n",
      "  0.58463604 0.4496487  0.42071061 0.47190228 0.65569789 0.38421703\n",
      "  0.29535598 0.3551674  0.5496497  0.32275359 0.60643666 0.43585968\n",
      "  0.63149095 0.08715455 0.52698236 0.07557405 0.53611372 0.18112553\n",
      "  0.53823006 0.57259419 0.36622441 0.51042299 0.60322647 0.26807389\n",
      "  0.63042457 0.65637768 0.43205127 0.30455861 0.5925947  0.47140496\n",
      "  0.44694161 0.46504201 0.61248969 0.35809669 0.45099457 0.51384372\n",
      "  0.6582662  0.06425561 0.19052397 0.43184981 0.39299553 0.17255887\n",
      "  0.48914931 0.51792689 0.13429639 0.00370206 0.3784627  0.5007556\n",
      "  0.3451043  0.6259414  0.50699439 0.53248101 0.70394119 0.41014621\n",
      "  0.32410606 0.37894801 0.13493189 0.71880735 0.66324917 0.29507813\n",
      "  0.50654999 0.65336181 0.24654988 0.35015629 0.40248423 0.24642589\n",
      "  0.38999902 0.59587093 0.32313625 0.5279251 ]\n",
      " [0.45789447 0.11072357 0.32154703 0.55595741 0.49138591 0.46656146\n",
      "  0.18477079 0.         0.30799504 0.44802529 0.60070819 0.44269008\n",
      "  0.12225787 0.45813966 0.08360874 0.16511435 0.46944652 0.44424876\n",
      "  0.55001516 0.51571236 0.16314156 0.56862264 0.43842311 0.5452539\n",
      "  0.143796   0.35045544 0.23013762 0.36695818 0.40345557 0.36287827\n",
      "  0.4007798  0.63184495 0.23699326 0.33144304 0.47101369 0.54369953\n",
      "  0.12001171 0.53646707 0.40310648 0.50483466 0.45854749 0.61538542\n",
      "  0.44695681 0.11138569 0.34605634 0.15265777 0.48142497 0.09275141\n",
      "  0.36401266 0.57877084 0.18751193 0.52762584 0.59759533 0.25605887\n",
      "  0.44695755 0.56307115 0.25868494 0.12033241 0.42809433 0.65182674\n",
      "  0.3088163  0.28247679 0.45038357 0.17410705 0.26867421 0.69461997\n",
      "  0.62220346 0.20931975 0.34369664 0.35615878 0.5329658  0.35121708\n",
      "  0.5257177  0.53295675 0.24471374 0.18793604 0.53483604 0.68390565\n",
      "  0.23392704 0.4529519  0.34346766 0.35280089 0.51990349 0.40714089\n",
      "  0.49727286 0.5627261  0.28322078 0.69440349 0.47867063 0.4747395\n",
      "  0.34917826 0.47368509 0.3614117  0.52988545 0.2192131  0.2556544\n",
      "  0.25610648 0.54378641 0.41056124 0.34970114]\n",
      " [0.76527407 0.22857837 0.54192308 0.80310071 0.20681438 0.77406195\n",
      "  0.46657321 0.30799504 0.         0.37806877 0.84214838 0.66699134\n",
      "  0.33828588 0.46712261 0.38115413 0.40392056 0.77518825 0.55877086\n",
      "  0.28001979 0.20971085 0.1474152  0.80669247 0.32781731 0.41163657\n",
      "  0.2446503  0.42007323 0.25879145 0.39798401 0.24843972 0.45336597\n",
      "  0.21432546 0.87186921 0.22675084 0.44782475 0.29018937 0.73375469\n",
      "  0.19069083 0.77748904 0.47983311 0.78502579 0.15338169 0.84603806\n",
      "  0.26477307 0.41444407 0.14271406 0.45701771 0.3379291  0.28653098\n",
      "  0.35260391 0.51397497 0.14225685 0.79819228 0.84644787 0.53951022\n",
      "  0.32638648 0.32807573 0.30824921 0.24016499 0.12704279 0.88384628\n",
      "  0.07088133 0.25154689 0.46390731 0.226231   0.13845223 0.92616723\n",
      "  0.47590027 0.50861504 0.64632239 0.23170533 0.69084718 0.63893555\n",
      "  0.52437688 0.80174648 0.55196587 0.47024712 0.72026963 0.92677024\n",
      "  0.16032307 0.41718503 0.04395673 0.13454343 0.37112293 0.38486434\n",
      "  0.7192703  0.81375727 0.58579758 0.55544614 0.29092511 0.7602097\n",
      "  0.04118331 0.22473221 0.52244713 0.76609112 0.23202157 0.34724507\n",
      "  0.41807694 0.75238713 0.51993471 0.12097941]\n",
      " [0.78016946 0.4668247  0.76892105 0.99928907 0.54355936 0.78969769\n",
      "  0.4688072  0.44802529 0.37806877 0.         1.04508798 0.49795082\n",
      "  0.35819826 0.81639425 0.52555828 0.61137956 0.83982771 0.2888574\n",
      "  0.62050903 0.42884256 0.36365926 0.62750812 0.0633802  0.78962041\n",
      "  0.30515702 0.18324886 0.57424154 0.73360263 0.62544058 0.76498308\n",
      "  0.59238856 0.68540905 0.55324207 0.74471255 0.66770855 0.50122185\n",
      "  0.41393448 0.60842538 0.8003261  0.68988034 0.39714584 0.64880738\n",
      "  0.64260466 0.48647783 0.52017501 0.51664799 0.10398652 0.3576647\n",
      "  0.70119456 0.14083471 0.43710459 0.95988983 1.03967859 0.69174626\n",
      "  0.70198757 0.26681832 0.62391493 0.48790891 0.45781433 0.68313042\n",
      "  0.30732516 0.59406498 0.81129327 0.51535083 0.49395144 0.7191774\n",
      "  0.18994333 0.53289813 0.64676439 0.1463791  0.42934219 0.5929919\n",
      "  0.1579316  0.96631584 0.60183265 0.471625   0.48487721 0.73754443\n",
      "  0.25801991 0.77860211 0.41164765 0.51259118 0.7491885  0.06584588\n",
      "  0.53337545 0.65494964 0.59961729 0.25173051 0.66779592 0.68254616\n",
      "  0.38667895 0.58875371 0.32550486 0.59156505 0.54780215 0.22246441\n",
      "  0.68428377 0.99166487 0.26168557 0.49904082]\n",
      " [0.47710202 0.62360022 0.30022541 0.04720376 0.94321826 0.47468793\n",
      "  0.61468291 0.60070819 0.84214838 1.04508798 0.         0.81896011\n",
      "  0.69022289 0.55204347 0.52007449 0.44840284 0.3685105  0.95876706\n",
      "  0.96294788 1.04058372 0.73357953 0.86346409 1.03903799 0.77365903\n",
      "  0.74417885 0.91641457 0.59699358 0.53451444 0.75375834 0.45211792\n",
      "  0.78487209 0.89897659 0.6312579  0.43157927 0.80422914 0.94112285\n",
      "  0.67470711 0.83680378 0.45704879 0.69794911 0.98928063 0.91114434\n",
      "  0.79639227 0.565982   0.78448762 0.54610732 1.08187646 0.68795731\n",
      "  0.58998237 1.1686358  0.70121067 0.13061664 0.02829106 0.35536726\n",
      "  0.72548077 1.14935202 0.55803587 0.60732104 0.92276887 0.93239078\n",
      "  0.87486317 0.6320813  0.5455143  0.61622328 0.72459855 0.96322498\n",
      "  1.22281626 0.55792287 0.53098607 0.95531984 0.97903038 0.61419822\n",
      "  1.09779894 0.12173193 0.49267841 0.61351642 0.9422253  0.9263404\n",
      "  0.82805472 0.61696517 0.85828103 0.79848897 0.78401667 0.99769734\n",
      "  0.85498758 0.82625675 0.53186439 1.29418151 0.81555714 0.66209819\n",
      "  0.87764187 0.88476306 0.85852545 0.84431556 0.61947625 0.83409689\n",
      "  0.4290348  0.12914902 0.93774216 0.80587302]\n",
      " [0.38739001 0.5484803  0.65401961 0.77325329 0.87368876 0.39504425\n",
      "  0.27110985 0.44269008 0.66699134 0.49795082 0.81896011 0.\n",
      "  0.34352865 0.89147035 0.44781955 0.54800088 0.48743475 0.23107241\n",
      "  0.9449612  0.83182653 0.5376375  0.14084325 0.5429775  0.98604626\n",
      "  0.4244578  0.3177001  0.6728244  0.80178523 0.83616915 0.78015836\n",
      "  0.82555854 0.20557907 0.67793284 0.74250261 0.90136201 0.12290089\n",
      "  0.53302896 0.11470215 0.82050461 0.21079982 0.78023164 0.17936491\n",
      "  0.87580211 0.35812336 0.75998241 0.34087246 0.59566459 0.39884353\n",
      "  0.80519581 0.53948492 0.6023724  0.69655704 0.80124996 0.51018208\n",
      "  0.88708454 0.75007766 0.69907263 0.56164319 0.79219778 0.21713943\n",
      "  0.62466723 0.72440001 0.88315398 0.61517715 0.6901934  0.2597854\n",
      "  0.67213101 0.29400484 0.28976836 0.5403098  0.16934137 0.20585548\n",
      "  0.42871942 0.7052475  0.33985748 0.26926046 0.12327898 0.26067013\n",
      "  0.51378961 0.89369743 0.71076912 0.76234525 0.95830811 0.43271397\n",
      "  0.05473257 0.15861071 0.29031246 0.7080382  0.90756217 0.21940311\n",
      "  0.701764   0.87941029 0.17343571 0.10059837 0.66084594 0.33579261\n",
      "  0.66049798 0.82917951 0.24307695 0.7548302 ]\n",
      " [0.45675775 0.21117445 0.42985743 0.64385219 0.54112641 0.46618164\n",
      "  0.13660501 0.12225787 0.33828588 0.35819826 0.69022289 0.34352865\n",
      "  0.         0.57738489 0.17845774 0.27943024 0.49610885 0.32200237\n",
      "  0.60869057 0.52870922 0.19785075 0.47836406 0.36282221 0.64598019\n",
      "  0.09844344 0.23412704 0.3406152  0.48615733 0.49303832 0.48508761\n",
      "  0.48207699 0.54326516 0.34033229 0.45362551 0.55788667 0.43347378\n",
      "  0.18970956 0.44753565 0.5252567  0.44703319 0.47260815 0.52173648\n",
      "  0.53228407 0.12847556 0.41740326 0.16187314 0.41221391 0.05546956\n",
      "  0.47840361 0.47842491 0.25886336 0.60173204 0.68341123 0.33517245\n",
      "  0.54677335 0.52293289 0.3752582  0.22747977 0.46530012 0.55920506\n",
      "  0.3124543  0.38784503 0.56986926 0.27897006 0.34667612 0.6021305\n",
      "  0.54326524 0.19276255 0.32670091 0.30000812 0.41533358 0.30444618\n",
      "  0.41372983 0.60821395 0.25485306 0.14025356 0.42318352 0.59732768\n",
      "  0.20863682 0.56729222 0.38045787 0.42052756 0.61654632 0.3076532\n",
      "  0.39800014 0.48024917 0.26933579 0.60973996 0.56403668 0.4233842\n",
      "  0.37695961 0.5393676  0.24131291 0.43816626 0.32462535 0.14453092\n",
      "  0.37740254 0.6476125  0.28840505 0.4138436 ]\n",
      " [0.76185156 0.37385579 0.33328731 0.53336502 0.46143334 0.76682186\n",
      "  0.62087554 0.45813966 0.46712261 0.81639425 0.55204347 0.89147035\n",
      "  0.57738489 0.         0.44440316 0.35228806 0.7050543  0.8959796\n",
      "  0.4529587  0.60319511 0.45644265 1.00505926 0.7782729  0.22281367\n",
      "  0.55017654 0.78353394 0.24719676 0.09124646 0.25845843 0.13006482\n",
      "  0.30020526 1.06427413 0.26366465 0.16983928 0.28276057 0.99919892\n",
      "  0.41673383 0.97245512 0.10276202 0.90173652 0.56822114 1.05447855\n",
      "  0.28572589 0.53372463 0.34166235 0.55652424 0.79856614 0.53270231\n",
      "  0.11589082 0.95720781 0.37965988 0.58307985 0.57024886 0.45818074\n",
      "  0.19801825 0.78984059 0.20372477 0.35432736 0.48074681 1.08880049\n",
      "  0.53127825 0.22271432 0.00893935 0.31069978 0.33076007 1.13042854\n",
      "  0.94070198 0.61253089 0.70547703 0.67809853 0.99109864 0.75256963\n",
      "  0.93814597 0.58122801 0.60034059 0.6229822  0.99119689 1.11210012\n",
      "  0.55884949 0.0715304  0.45581023 0.35547134 0.23918272 0.80104843\n",
      "  0.94489964 0.98987995 0.6579952  1.02028196 0.29330618 0.86520925\n",
      "  0.48350278 0.38825417 0.81860455 0.96918679 0.27134853 0.68771395\n",
      "  0.24411112 0.4263087  0.85996047 0.36858427]\n",
      " [0.39455355 0.16093157 0.25141715 0.47476866 0.55215078 0.40264163\n",
      "  0.17674774 0.08360874 0.38115413 0.52555828 0.52007449 0.44781955\n",
      "  0.17845774 0.44440316 0.         0.10620901 0.39425259 0.48948553\n",
      "  0.60485387 0.59061633 0.24129631 0.56152677 0.51937448 0.56443181\n",
      "  0.22464732 0.41251475 0.24792562 0.35583465 0.43851645 0.33316959\n",
      "  0.44332002 0.62190892 0.26529753 0.29666588 0.50669164 0.5590965\n",
      "  0.19049835 0.52891851 0.37372726 0.47351003 0.53378673 0.6105722\n",
      "  0.48466639 0.08972209 0.39799073 0.11470148 0.56354486 0.16797714\n",
      "  0.36608409 0.65265339 0.24908157 0.44417233 0.51595093 0.17249603\n",
      "  0.46955202 0.64651698 0.26091206 0.15980797 0.49582286 0.64536438\n",
      "  0.3887011  0.30457946 0.43596309 0.20715041 0.31965657 0.68735689\n",
      "  0.70306762 0.17381953 0.29345218 0.43918833 0.56057018 0.31928128\n",
      "  0.59205367 0.4495875  0.18668408 0.17872832 0.5523997  0.67126131\n",
      "  0.31750533 0.45239669 0.4132464  0.40686869 0.54446622 0.48084968\n",
      "  0.5008321  0.54882434 0.23569266 0.77410765 0.51553193 0.43995884\n",
      "  0.42208768 0.52563549 0.39810054 0.525094   0.24622323 0.32197059\n",
      "  0.21534201 0.46998169 0.45919732 0.40610727]\n",
      " [0.43294132 0.1775336  0.157725   0.40606054 0.54405102 0.43959352\n",
      "  0.27787716 0.16511435 0.40392056 0.61137956 0.44840284 0.54800088\n",
      "  0.27943024 0.35228806 0.10620901 0.         0.40480305 0.59512352\n",
      "  0.58542534 0.61074725 0.28540224 0.65481676 0.59770498 0.4994018\n",
      "  0.30622357 0.51278057 0.20146675 0.26842514 0.39673332 0.23306527\n",
      "  0.41130929 0.71295056 0.22938724 0.19464788 0.46288136 0.66202545\n",
      "  0.22674221 0.62228532 0.27302704 0.55050285 0.55608393 0.70471103\n",
      "  0.44432496 0.19288432 0.38204485 0.2076783  0.63755362 0.25783539\n",
      "  0.29044352 0.74358773 0.26182847 0.39433946 0.44899071 0.14568189\n",
      "  0.41120725 0.70127177 0.19401731 0.16382997 0.50244366 0.73830058\n",
      "  0.42893427 0.25605354 0.34352922 0.18839993 0.30817758 0.77951633\n",
      "  0.78089048 0.26124165 0.35712887 0.50955633 0.66610343 0.40032028\n",
      "  0.69002484 0.39804437 0.24986419 0.27937046 0.65595198 0.76013522\n",
      "  0.38063188 0.37087902 0.42727461 0.39368302 0.48594118 0.57210858\n",
      "  0.59992198 0.638084   0.30668443 0.85490116 0.47294613 0.51453268\n",
      "  0.44241382 0.50397969 0.50429248 0.62000977 0.21166132 0.4194732\n",
      "  0.11263085 0.38086545 0.56421743 0.39665483]\n",
      " [0.11044934 0.55289212 0.37290077 0.33021222 0.94149084 0.10685232\n",
      "  0.37126389 0.46944652 0.77518825 0.83982771 0.3685105  0.48743475\n",
      "  0.49610885 0.7050543  0.39425259 0.40480305 0.         0.6724011\n",
      "  0.98801972 0.98430613 0.63251988 0.50541412 0.85482111 0.89085084\n",
      "  0.58411262 0.67479895 0.60626805 0.64142274 0.80125723 0.57539519\n",
      "  0.81589443 0.53490287 0.63348994 0.53689971 0.86677898 0.60355061\n",
      "  0.58451159 0.48171463 0.60445143 0.33428305 0.92729458 0.55070705\n",
      "  0.84886361 0.37577118 0.7822242  0.33612496 0.9060556  0.5231415\n",
      "  0.67893953 0.93777979 0.6421559  0.23791126 0.34455485 0.26141278\n",
      "  0.80985706 1.01732517 0.59466269 0.54780064 0.88940055 0.56887288\n",
      "  0.77774436 0.66051649 0.69629961 0.58630987 0.70545608 0.59750307\n",
      "  1.02946133 0.3076123  0.20723425 0.79597519 0.65602568 0.28644238\n",
      "  0.84546079 0.2467795  0.2413158  0.36834584 0.60790284 0.55920584\n",
      "  0.69212223 0.74592189 0.80741866 0.79274742 0.88308268 0.78008367\n",
      "  0.51305923 0.46493792 0.24196672 1.08886614 0.87704307 0.30072715\n",
      "  0.81620676 0.9069388  0.57526578 0.49180505 0.61529004 0.61762051\n",
      "  0.47670377 0.42936241 0.66203659 0.79388768]\n",
      " [0.58671978 0.52313924 0.73509631 0.91159766 0.75892507 0.59552335\n",
      "  0.34572954 0.44424876 0.55877086 0.2888574  0.95876706 0.23107241\n",
      "  0.32200237 0.8959796  0.48948553 0.59512352 0.6724011  0.\n",
      "  0.83536381 0.68093545 0.46570055 0.34552117 0.34408067 0.93797818\n",
      "  0.35328979 0.14032226 0.6529605  0.80508825 0.77508737 0.80708335\n",
      "  0.75355373 0.39986396 0.64618029 0.77542764 0.83270543 0.21242687\n",
      "  0.48692632 0.3307769  0.84721643 0.44009619 0.63689654 0.36201254\n",
      "  0.80623872 0.41144846 0.6810949  0.41879139 0.39226436 0.3632986\n",
      "  0.7919688  0.30931539 0.54381879 0.84905939 0.94598605 0.61341765\n",
      "  0.8403407  0.5540719  0.6924251  0.54198601 0.67190424 0.39533983\n",
      "  0.49978275 0.69369039 0.88878749 0.58919656 0.62613146 0.43056716\n",
      "  0.44776509 0.40088218 0.46518076 0.37281734 0.14303306 0.38973512\n",
      "  0.19773586 0.85703133 0.46779852 0.34648922 0.19605519 0.45062318\n",
      "  0.39907218 0.87973424 0.60153092 0.6790529  0.90332446 0.22922918\n",
      "  0.25439687 0.37840611 0.43887416 0.47845173 0.83632249 0.4434563\n",
      "  0.58470811 0.78332014 0.10040314 0.31293014 0.63307912 0.21829016\n",
      "  0.69816727 0.94072356 0.03896362 0.66829229]\n",
      " [0.99933769 0.44512199 0.67958947 0.93291732 0.07749748 1.0073303\n",
      "  0.72712699 0.55001516 0.28001979 0.62050903 0.96294788 0.9449612\n",
      "  0.60869057 0.4529587  0.60485387 0.58542534 0.98801972 0.83536381\n",
      "  0.         0.22277096 0.41086454 1.08375977 0.56052798 0.27204306\n",
      "  0.5206249  0.6954309  0.38657377 0.43405968 0.20939958 0.51468479\n",
      "  0.17958619 1.14895509 0.35631127 0.53147213 0.17022912 1.0137733\n",
      "  0.4323993  1.05391511 0.52039664 1.0497349  0.22936067 1.12428087\n",
      "  0.16990689 0.66140001 0.20696578 0.70232118 0.54928834 0.55417186\n",
      "  0.37667708 0.74097336 0.36261352 0.95407663 0.97476082 0.7311048\n",
      "  0.25494055 0.45634113 0.41240564 0.44512664 0.16504153 1.16207707\n",
      "  0.33564901 0.33847635 0.45517409 0.40210243 0.28520465 1.20459832\n",
      "  0.65732028 0.75926501 0.89291887 0.4814737  0.96980251 0.89867427\n",
      "  0.77666571 0.95532367 0.78988003 0.73066428 1.00026251 1.2036267\n",
      "  0.43964286 0.3820785  0.23613095 0.19813773 0.23387822 0.64349838\n",
      "  0.9978194  1.08847181 0.83274229 0.73055112 0.15988096 1.02194252\n",
      "  0.25071748 0.08155281 0.80243632 1.04320507 0.37376972 0.62689277\n",
      "  0.5455444  0.84943397 0.79681133 0.20032128]\n",
      " [0.97072612 0.43759134 0.74144456 1.00350764 0.16163081 0.97968503\n",
      "  0.66300361 0.51571236 0.20971085 0.42884256 1.04058372 0.83182653\n",
      "  0.52870922 0.60319511 0.59061633 0.61074725 0.98430613 0.68093545\n",
      "  0.22277096 0.         0.35286589 0.97259994 0.36577351 0.47091893\n",
      "  0.43046323 0.54247281 0.4449742  0.55481394 0.34651333 0.62411638\n",
      "  0.3040352  1.03688104 0.4107282  0.62735568 0.34719362 0.87875853\n",
      "  0.40012686 0.94580947 0.64270077 0.9729121  0.05723092 1.00690486\n",
      "  0.33175607 0.6190651  0.26822793 0.66161061 0.34335835 0.48214725\n",
      "  0.50051055 0.53481921 0.34946286 1.00398609 1.04680482 0.74860502\n",
      "  0.41945302 0.23386461 0.48878204 0.44788449 0.12384317 1.0442942\n",
      "  0.21626344 0.41945065 0.60259025 0.42673585 0.31652063 1.08519021\n",
      "  0.43792149 0.71027545 0.84822813 0.30841413 0.82239492 0.83314633\n",
      "  0.58661498 1.00715729 0.75783481 0.66670555 0.86372974 1.09191242\n",
      "  0.32385773 0.53933422 0.18375325 0.2535984  0.42866711 0.4654995\n",
      "  0.88057455 0.98603557 0.78817365 0.50927878 0.34091121 0.95127489\n",
      "  0.16932284 0.23518069 0.67045738 0.9324194  0.42135038 0.49664604\n",
      "  0.61198124 0.94305055 0.64454747 0.24276373]\n",
      " [0.61853898 0.11242906 0.43746927 0.69146246 0.3442505  0.62740409\n",
      "  0.32059239 0.16314156 0.1474152  0.36365926 0.73357953 0.5376375\n",
      "  0.19785075 0.45644265 0.24129631 0.28540224 0.63251988 0.46570055\n",
      "  0.41086454 0.35286589 0.         0.67476657 0.3337434  0.47228157\n",
      "  0.1164951  0.33776917 0.21115563 0.3711141  0.31025668 0.40201617\n",
      "  0.29239363 0.73986014 0.19312917 0.38399448 0.3707187  0.61693057\n",
      "  0.05901508 0.64438395 0.43678766 0.64130374 0.29565198 0.7168273\n",
      "  0.34442105 0.26724455 0.22340858 0.30984227 0.3651645  0.14340969\n",
      "  0.34322365 0.50410239 0.07983959 0.6752585  0.73437999 0.40813021\n",
      "  0.3747892  0.41587079 0.26032984 0.13177558 0.27217863 0.75450595\n",
      "  0.14768266 0.23765477 0.45075891 0.15177983 0.16078386 0.79730054\n",
      "  0.51086165 0.36122568 0.49890722 0.23669245 0.5849472  0.49315081\n",
      "  0.48210659 0.67970711 0.40534656 0.32423731 0.60484906 0.79423013\n",
      "  0.10704236 0.42616044 0.186536   0.22491489 0.4380614  0.34462286\n",
      "  0.59143419 0.6779513  0.43838521 0.58833877 0.37552365 0.61525809\n",
      "  0.18829457 0.34211668 0.41006602 0.63435157 0.18543212 0.24758277\n",
      "  0.33148523 0.65803538 0.42719238 0.21719334]\n",
      " [0.39573325 0.67733052 0.7411926  0.82027586 1.0131813  0.40089124\n",
      "  0.38765641 0.56862264 0.80669247 0.62750812 0.86346409 0.14084325\n",
      "  0.47836406 1.00505926 0.56152677 0.65481676 0.50541412 0.34552117\n",
      "  1.08375977 0.97259994 0.67476657 0.         0.67622951 1.11387636\n",
      "  0.56317682 0.45180824 0.79759715 0.91727234 0.9681738  0.88768398\n",
      "  0.95969636 0.06520182 0.80556422 0.84858538 1.03430866 0.15098023\n",
      "  0.66635895 0.03261222 0.92726367 0.17413836 0.92107424 0.05065444\n",
      "  1.0091099  0.47367091 0.89576732 0.44853722 0.7279033  0.53382375\n",
      "  0.92578507 0.65234811 0.73663302 0.73502337 0.84243512 0.5922546\n",
      "  1.01549519 0.88516499 0.81965431 0.68885421 0.93230999 0.08384579\n",
      "  0.7653545  0.85100597 0.99648543 0.74264665 0.82424501 0.12620062\n",
      "  0.79328335 0.39364756 0.34074671 0.67925675 0.23324268 0.26640782\n",
      "  0.53931101 0.74397796 0.42161464 0.38507895 0.16520182 0.1201056\n",
      "  0.65443735 1.0132206  0.85036129 0.89876135 1.08797665 0.56352484\n",
      "  0.09469969 0.04691657 0.36466995 0.8216135  1.04095052 0.20483158\n",
      "  0.841924   1.01688143 0.30900285 0.04060167 0.78783319 0.47631282\n",
      "  0.76696847 0.89316792 0.36661855 0.89175062]\n",
      " [0.80220242 0.4422519  0.75528434 0.99403466 0.48398684 0.81176502\n",
      "  0.48424035 0.43842311 0.32781731 0.0633802  1.03903799 0.5429775\n",
      "  0.36282221 0.7782729  0.51937448 0.59770498 0.85482111 0.34408067\n",
      "  0.56052798 0.36577351 0.3337434  0.67622951 0.         0.73886398\n",
      "  0.29487103 0.22528038 0.54075911 0.69829665 0.57625051 0.73524136\n",
      "  0.54148624 0.73577374 0.51722868 0.71771218 0.61518351 0.55538728\n",
      "  0.3881293  0.65547606 0.76903785 0.72742088 0.33537262 0.70018548\n",
      "  0.59059861 0.49071165 0.47053127 0.52440143 0.05395994 0.35251006\n",
      "  0.66247882 0.18646248 0.40200056 0.96027462 1.03532478 0.68950098\n",
      "  0.65392742 0.21029005 0.59138451 0.46291521 0.39922781 0.73529888\n",
      "  0.25706565 0.55558648 0.77365152 0.4847729  0.4510004  0.77243454\n",
      "  0.18378378 0.54730143 0.66851011 0.10017675 0.48623016 0.62090592\n",
      "  0.22084288 0.96627491 0.61427422 0.48734287 0.53918663 0.7887574\n",
      "  0.22674741 0.73671753 0.35841499 0.46198144 0.69777737 0.11488513\n",
      "  0.58161212 0.7012151  0.61795702 0.25739637 0.61465217 0.71732482\n",
      "  0.3323436  0.53198935 0.36954183 0.63913357 0.51362644 0.24089475\n",
      "  0.66210719 0.97845055 0.31397061 0.44813462]\n",
      " [0.93139887 0.43756973 0.53171271 0.75295091 0.31037997 0.93768221\n",
      "  0.7280682  0.5452539  0.41163657 0.78962041 0.77365903 0.98604626\n",
      "  0.64598019 0.22281367 0.56443181 0.4994018  0.89085084 0.93797818\n",
      "  0.27204306 0.47091893 0.47228157 1.11387636 0.73886398 0.\n",
      "  0.58642304 0.80779832 0.3178759  0.25325773 0.16571477 0.33080454\n",
      "  0.19740284 1.1769863  0.30840218 0.36300326 0.12737599 1.07922877\n",
      "  0.45811187 1.08170467 0.31762822 1.03794175 0.45406544 1.16049328\n",
      "  0.14949113 0.64532178 0.2696027  0.67821539 0.74423513 0.59248939\n",
      "  0.21200349 0.92527276 0.39498237 0.79622759 0.79097522 0.63175927\n",
      "  0.09920895 0.69121255 0.30678346 0.4250862  0.36498772 1.19704323\n",
      "  0.48249611 0.26304672 0.22868505 0.37131653 0.31211244 1.23985779\n",
      "  0.87351958 0.73788011 0.85274477 0.64330561 1.05445699 0.88361712\n",
      "  0.93295114 0.79520236 0.7443095  0.73095901 1.06850832 1.22869793\n",
      "  0.55148627 0.15709061 0.38122791 0.27710084 0.04278535 0.79247576\n",
      "  1.04077643 1.10701618 0.79797758 0.95155675 0.13139288 1.00419328\n",
      "  0.40841561 0.23575346 0.87856342 1.07507995 0.32604458 0.71978459\n",
      "  0.41416778 0.64884049 0.899433   0.29080846]\n",
      " [0.55180568 0.17759284 0.46378571 0.69917226 0.45031367 0.56113455\n",
      "  0.2344106  0.143796   0.2446503  0.30515702 0.74417885 0.4244578\n",
      "  0.09844344 0.55017654 0.22464732 0.30622357 0.58411262 0.35328979\n",
      "  0.5206249  0.43046323 0.1164951  0.56317682 0.29487103 0.58642304\n",
      "  0.         0.23336495 0.30362783 0.46082777 0.42599398 0.47643966\n",
      "  0.40888747 0.62837755 0.29386298 0.45102317 0.48714035 0.500606\n",
      "  0.13467773 0.5335269  0.51461753 0.54370036 0.37456009 0.60381985\n",
      "  0.46087061 0.20860288 0.33955209 0.248172   0.33906935 0.06140181\n",
      "  0.44187048 0.43864331 0.19144307 0.66739124 0.74053167 0.39582442\n",
      "  0.48809274 0.43355585 0.34718002 0.19822619 0.37142006 0.64159709\n",
      "  0.21428572 0.34105615 0.54358423 0.23970961 0.27648227 0.6842097\n",
      "  0.47864032 0.2874052  0.42348246 0.21677408 0.46890561 0.40280585\n",
      "  0.39564742 0.67311306 0.34476268 0.23809064 0.48842102 0.68311597\n",
      "  0.11097266 0.52844689 0.28787778 0.34041787 0.55325601 0.26839769\n",
      "  0.47765528 0.56920109 0.36504079 0.5506076  0.49201098 0.52103887\n",
      "  0.2818724  0.45546824 0.29369419 0.52260797 0.28183668 0.13807337\n",
      "  0.38408117 0.68664725 0.31539844 0.33194065]\n",
      " [0.6064901  0.41036735 0.66393128 0.86948816 0.61883492 0.61591591\n",
      "  0.31072995 0.35045544 0.42007323 0.18324886 0.91641457 0.3177001\n",
      "  0.23412704 0.78353394 0.41251475 0.51278057 0.67479895 0.14032226\n",
      "  0.6954309  0.54247281 0.33776917 0.45180824 0.22528038 0.80779832\n",
      "  0.23336495 0.         0.53691578 0.69402617 0.64328995 0.70604447\n",
      "  0.61943848 0.51241779 0.52587419 0.67805491 0.69857829 0.33905435\n",
      "  0.36754258 0.43038914 0.74505556 0.50663412 0.49729901 0.47797295\n",
      "  0.67214682 0.35084677 0.54628875 0.37162036 0.27807113 0.25999057\n",
      "  0.67481675 0.26306212 0.41740447 0.81883227 0.90739585 0.56167686\n",
      "  0.71153005 0.4333672  0.58037755 0.43063273 0.53170694 0.51393634\n",
      "  0.35978301 0.57247859 0.77691439 0.47304188 0.49586404 0.5525219\n",
      "  0.36792628 0.37424318 0.47461001 0.23579676 0.27998941 0.41465624\n",
      "  0.1814739  0.82602679 0.44466878 0.31289266 0.32345403 0.56608567\n",
      "  0.26156283 0.76070677 0.46240208 0.54336088 0.77171856 0.11741862\n",
      "  0.35710913 0.47596584 0.43283539 0.41808498 0.70162477 0.49974022\n",
      "  0.44491757 0.64480437 0.14426649 0.41422525 0.51465237 0.09661959\n",
      "  0.6058057  0.88051873 0.10253631 0.53208256]\n",
      " [0.62973775 0.1302929  0.30081975 0.56163994 0.35215918 0.63691595\n",
      "  0.41070889 0.23013762 0.25879145 0.57424154 0.59699358 0.6728244\n",
      "  0.3406152  0.24719676 0.24792562 0.20146675 0.60626805 0.6529605\n",
      "  0.38657377 0.4449742  0.21115563 0.79759715 0.54075911 0.3178759\n",
      "  0.30362783 0.53691578 0.         0.160059   0.19595065 0.19774982\n",
      "  0.21017631 0.86019117 0.03430299 0.18909346 0.26307478 0.77203308\n",
      "  0.16961255 0.76526468 0.22892886 0.72091972 0.39590467 0.8448999\n",
      "  0.24341594 0.32744848 0.18987509 0.36077212 0.56674808 0.29152232\n",
      "  0.13901254 0.71491251 0.13893826 0.57212462 0.60469479 0.34635255\n",
      "  0.22175939 0.58525947 0.05123672 0.11314868 0.32580128 0.88107677\n",
      "  0.30993483 0.05691426 0.24098706 0.06398278 0.12852208 0.92375373\n",
      "  0.71172117 0.42054085 0.53982455 0.44135325 0.75576322 0.56637046\n",
      "  0.69144281 0.57410989 0.43171633 0.41352472 0.76250912 0.91146269\n",
      "  0.31633884 0.22724546 0.26589707 0.2032291  0.29656591 0.55529852\n",
      "  0.72741016 0.78955232 0.48321264 0.79061688 0.27276012 0.68776471\n",
      "  0.2885501  0.30504259 0.58078494 0.759268   0.02772538 0.4415587\n",
      "  0.16803614 0.498356   0.61614521 0.20949996]\n",
      " [0.68976146 0.28378694 0.27845553 0.50888577 0.42729261 0.69534895\n",
      "  0.53171557 0.36695818 0.39798401 0.73360263 0.53451444 0.80178523\n",
      "  0.48615733 0.09124646 0.35583465 0.26842514 0.64142274 0.80508825\n",
      "  0.43405968 0.55481394 0.3711141  0.91727234 0.69829665 0.25325773\n",
      "  0.46082777 0.69402617 0.160059   0.         0.22595311 0.08240132\n",
      "  0.26288391 0.9771854  0.18106928 0.11001492 0.27030353 0.90859146\n",
      "  0.32841213 0.8846604  0.08859155 0.81889906 0.51405933 0.96640139\n",
      "  0.264671   0.44465404 0.2868806  0.4690852  0.72165976 0.44179007\n",
      "  0.05752343 0.87438127 0.29674813 0.54530974 0.54899098 0.38633514\n",
      "  0.19116239 0.72520105 0.11365255 0.26392549 0.43097077 1.00109203\n",
      "  0.4579355  0.14665308 0.08375219 0.22233429 0.25953838 1.04296301\n",
      "  0.86548897 0.52609515 0.6248787  0.59837473 0.89989671 0.66799476\n",
      "  0.85124741 0.54477379 0.51818329 0.53392483 0.90043707 1.02573651\n",
      "  0.4755828  0.10510656 0.39303817 0.30143853 0.25435662 0.7153552\n",
      "  0.8554407  0.90335385 0.57510521 0.94483633 0.28161647 0.78295328\n",
      "  0.41953389 0.36018717 0.72736217 0.88092659 0.18587184 0.59792887\n",
      "  0.16718047 0.41655377 0.76922966 0.31304548]\n",
      " [0.82541119 0.29278688 0.47415297 0.72433934 0.20397805 0.83267224\n",
      "  0.5882128  0.40345557 0.24843972 0.62544058 0.75375834 0.83616915\n",
      "  0.49303832 0.25845843 0.43851645 0.39673332 0.80125723 0.77508737\n",
      "  0.20939958 0.34651333 0.31025668 0.9681738  0.57625051 0.16571477\n",
      "  0.42599398 0.64328995 0.19595065 0.22595311 0.         0.30562796\n",
      "  0.04255208 1.03233036 0.17339273 0.32219306 0.06820487 0.92375059\n",
      "  0.30333144 0.93651382 0.31358531 0.90663221 0.31622687 1.01322083\n",
      "  0.04760638 0.51053956 0.10574609 0.5474935  0.58476296 0.43820793\n",
      "  0.16843281 0.76230872 0.23586823 0.74879549 0.7659445  0.54038927\n",
      "  0.07916195 0.54754135 0.21009318 0.28472308 0.22648589 1.05035389\n",
      "  0.31921103 0.14074145 0.25873512 0.23261368 0.14953829 1.09330892\n",
      "  0.71853953 0.6070538  0.73195159 0.47939136 0.89489941 0.75213965\n",
      "  0.76742998 0.74961844 0.6246087  0.59139041 0.91233989 1.08528546\n",
      "  0.3858748  0.1928663  0.2221801  0.11531854 0.12843261 0.62691183\n",
      "  0.89078212 0.96501494 0.67396697 0.79750711 0.07715038 0.87503664\n",
      "  0.25027114 0.13428688 0.71952783 0.92857333 0.19248425 0.55681142\n",
      "  0.34139146 0.64014717 0.73636225 0.12949711]\n",
      " [0.63205027 0.30058529 0.20505048 0.42669909 0.50403933 0.63693216\n",
      "  0.50922633 0.36287827 0.45336597 0.76498308 0.45211792 0.78015836\n",
      "  0.48508761 0.13006482 0.33316959 0.23306527 0.57539519 0.80708335\n",
      "  0.51468479 0.62411638 0.40201617 0.88768398 0.73524136 0.33080454\n",
      "  0.47643966 0.70604447 0.19774982 0.08240132 0.30562796 0.\n",
      "  0.34059623 0.94528523 0.22723948 0.04050515 0.35244387 0.89225335\n",
      "  0.35159939 0.85518336 0.04065325 0.77712973 0.5801797  0.93766818\n",
      "  0.34596745 0.42270961 0.35630457 0.44061701 0.7633133  0.44729672\n",
      "  0.13848371 0.90477371 0.33552682 0.46549662 0.46664886 0.32869685\n",
      "  0.27351086 0.78124007 0.14660245 0.27945088 0.50071444 0.97105547\n",
      "  0.50743227 0.20575154 0.12120765 0.25047831 0.31674568 1.01207478\n",
      "  0.90863695 0.4940365  0.57936663 0.63671226 0.89108071 0.63038306\n",
      "  0.87182923 0.46460927 0.47601046 0.51096007 0.88541874 0.99169733\n",
      "  0.50894803 0.17573886 0.45443801 0.37094761 0.33514883 0.74020876\n",
      "  0.83251288 0.87000463 0.53415761 0.98726608 0.36376646 0.74011611\n",
      "  0.47944048 0.43929359 0.72296932 0.85305548 0.22547377 0.60944726\n",
      "  0.12072729 0.33490784 0.77301028 0.38136472]\n",
      " [0.83464767 0.29053107 0.50000714 0.75401875 0.16452607 0.84220943\n",
      "  0.58463604 0.4007798  0.21432546 0.59238856 0.78487209 0.82555854\n",
      "  0.48207699 0.30020526 0.44332002 0.41130929 0.81589443 0.75355373\n",
      "  0.17958619 0.3040352  0.29239363 0.95969636 0.54148624 0.19740284\n",
      "  0.40888747 0.61943848 0.21017631 0.26288391 0.04255208 0.34059623\n",
      "  0.         1.02428395 0.18261104 0.35417827 0.07917836 0.90903244\n",
      "  0.29337091 0.92841137 0.35122496 0.90558599 0.27388085 1.00372628\n",
      "  0.05272055 0.51026654 0.07368311 0.54880459 0.54782596 0.42671584\n",
      "  0.20569766 0.72787844 0.22322169 0.7745302  0.79607636 0.55649433\n",
      "  0.1196584  0.50609996 0.23294107 0.28543718 0.18400936 1.0411166\n",
      "  0.2851477  0.15945488 0.30019619 0.23621987 0.13546497 1.08406348\n",
      "  0.67976172 0.60780383 0.73617855 0.44603059 0.87681424 0.75167502\n",
      "  0.73715306 0.77574778 0.63000405 0.58794228 0.89711507 1.07780059\n",
      "  0.35938751 0.23530036 0.1845158  0.07980585 0.15685406 0.59693651\n",
      "  0.87993498 0.95857667 0.67723293 0.7584724  0.08316935 0.87506621\n",
      "  0.21217663 0.09989993 0.70236425 0.91973901 0.2011725  0.53577475\n",
      "  0.36601123 0.67373176 0.7146637  0.09341188]\n",
      " [0.42445747 0.74100761 0.79288642 0.85707649 1.07837527 0.42841646\n",
      "  0.4496487  0.63184495 0.87186921 0.68540905 0.89897659 0.20557907\n",
      "  0.54326516 1.06427413 0.62190892 0.71295056 0.53490287 0.39986396\n",
      "  1.14895509 1.03688104 0.73986014 0.06520182 0.73577374 1.1769863\n",
      "  0.62837755 0.51241779 0.86019117 0.9771854  1.03233036 0.94528523\n",
      "  1.02428395 0.         0.86883794 0.9058454  1.09864101 0.19363184\n",
      "  0.73091569 0.09587538 0.98453733 0.20111886 0.98561503 0.04059418\n",
      "  1.07352309 0.53491825 0.96065054 0.50810021 0.78683242 0.59870862\n",
      "  0.98712598 0.70275467 0.801314   0.76922382 0.876793   0.64335425\n",
      "  1.07880247 0.94536685 0.88114067 0.75216013 0.99743344 0.03438502\n",
      "  0.83024317 0.91399261 1.05563612 0.80594684 0.88885726 0.06763276\n",
      "  0.84674487 0.45183729 0.38672497 0.74195306 0.27634573 0.31817777\n",
      "  0.58963027 0.77819567 0.47470432 0.44694413 0.20955083 0.05509559\n",
      "  0.71935481 1.07416064 0.91554741 0.96373612 1.15155307 0.62222401\n",
      "  0.1568203  0.07668397 0.41682079 0.87149765 1.10537127 0.23707299\n",
      "  0.90703525 1.08197662 0.37095388 0.10579015 0.85097329 0.54035289\n",
      "  0.82458664 0.93592076 0.42376424 0.9567922 ]\n",
      " [0.65298379 0.12972771 0.33470484 0.59577207 0.31933773 0.66040257\n",
      "  0.42071061 0.23699326 0.22675084 0.55324207 0.6312579  0.67793284\n",
      "  0.34033229 0.26366465 0.26529753 0.22938724 0.63348994 0.64618029\n",
      "  0.35631127 0.4107282  0.19312917 0.80556422 0.51722868 0.30840218\n",
      "  0.29386298 0.52587419 0.03430299 0.18106928 0.17339273 0.22723948\n",
      "  0.18261104 0.86883794 0.         0.22138082 0.24148927 0.77360377\n",
      "  0.15934686 0.77344181 0.25608844 0.73557683 0.36189729 0.85209315\n",
      "  0.22004588 0.34000368 0.1566779  0.37557277 0.54110479 0.28871995\n",
      "  0.15015602 0.69407496 0.11615106 0.60526542 0.63885402 0.37498082\n",
      "  0.20996467 0.55417577 0.08150273 0.11671075 0.29151932 0.8886677\n",
      "  0.28057659 0.04776098 0.25825815 0.06292196 0.09437975 0.93149713\n",
      "  0.6854498  0.43532489 0.55865598 0.41731329 0.75369156 0.5809184\n",
      "  0.67522441 0.60737825 0.45122094 0.4237065  0.76349127 0.92082399\n",
      "  0.29538249 0.23483294 0.23219624 0.16974769 0.2832371  0.53753654\n",
      "  0.73264837 0.7994442  0.50092036 0.76462983 0.25052018 0.70328838\n",
      "  0.25532879 0.27478658 0.5779782  0.76669773 0.01909334 0.43179251\n",
      "  0.20225998 0.532485   0.60873843 0.17558819]\n",
      " [0.59201682 0.27807574 0.1691224  0.40308822 0.51520872 0.59698454\n",
      "  0.47190228 0.33144304 0.44782475 0.74471255 0.43157927 0.74250261\n",
      "  0.45362551 0.16983928 0.29666588 0.19464788 0.53689971 0.77542764\n",
      "  0.53147213 0.62735568 0.38399448 0.84858538 0.71771218 0.36300326\n",
      "  0.45102317 0.67805491 0.18909346 0.11001492 0.32219306 0.04050515\n",
      "  0.35417827 0.9058454  0.22138082 0.         0.37398838 0.85556792\n",
      "  0.33083974 0.81612102 0.07869753 0.73682177 0.58105806 0.89866492\n",
      "  0.3650425  0.3858273  0.36177843 0.40231863 0.7480519  0.41832952\n",
      "  0.16070566 0.88365233 0.32245542 0.43574358 0.44421076 0.28845105\n",
      "  0.29864313 0.7741729  0.14012546 0.25692453 0.50502311 0.93184971\n",
      "  0.49787263 0.20824754 0.16092969 0.23455192 0.31438172 0.97273661\n",
      "  0.89371853 0.4549968  0.53892884 0.62031367 0.85619255 0.59047209\n",
      "  0.84663174 0.43540873 0.43581383 0.47353118 0.84903508 0.95198615\n",
      "  0.49096571 0.21072003 0.45281016 0.37629352 0.36409485 0.71715069\n",
      "  0.79455352 0.83042186 0.49401238 0.97178785 0.38529451 0.69975772\n",
      "  0.47656557 0.45390521 0.68958822 0.8142358  0.21625731 0.58165398\n",
      "  0.08202646 0.32009436 0.74199989 0.38562603]\n",
      " [0.89280711 0.36029217 0.53236599 0.77701432 0.18983283 0.89999022\n",
      "  0.65569789 0.47101369 0.29018937 0.66770855 0.80422914 0.90136201\n",
      "  0.55788667 0.28276057 0.50669164 0.46288136 0.86677898 0.83270543\n",
      "  0.17022912 0.34719362 0.3707187  1.03430866 0.61518351 0.12737599\n",
      "  0.48714035 0.69857829 0.26307478 0.27030353 0.06820487 0.35244387\n",
      "  0.07917836 1.09864101 0.24148927 0.37398838 0.         0.98672301\n",
      "  0.36836462 1.00278338 0.35400821 0.97462714 0.3273591  1.07895428\n",
      "  0.02646686 0.57854505 0.15245396 0.61564657 0.6185254  0.50274276\n",
      "  0.21424678 0.80162196 0.29938457 0.80623117 0.81786022 0.60553779\n",
      "  0.08477419 0.56419397 0.27312032 0.35269884 0.237861   1.11620231\n",
      "  0.36052845 0.20701733 0.28510346 0.30077766 0.21173512 1.15916186\n",
      "  0.74644945 0.67517979 0.80011308 0.52138381 0.95549954 0.82018008\n",
      "  0.81431537 0.8066267  0.69270256 0.65890495 0.97498525 1.15180694\n",
      "  0.43828742 0.21185934 0.25677051 0.15695471 0.08468669 0.6743826\n",
      "  0.95587946 1.03185848 0.74216733 0.82434184 0.01132801 0.94313896\n",
      "  0.28326095 0.11362925 0.78078441 0.99455908 0.26058246 0.61486418\n",
      "  0.40161279 0.68678111 0.7938215  0.16970512]\n",
      " [0.49960552 0.64405551 0.77426442 0.89559458 0.93960868 0.50655265\n",
      "  0.38421703 0.54369953 0.73375469 0.50122185 0.94112285 0.12290089\n",
      "  0.43347378 0.99919892 0.5590965  0.66202545 0.60355061 0.21242687\n",
      "  1.0137733  0.87875853 0.61693057 0.15098023 0.55538728 1.07922877\n",
      "  0.500606   0.33905435 0.77203308 0.90859146 0.92375059 0.89225335\n",
      "  0.90903244 0.19363184 0.77360377 0.85556792 0.98672301 0.\n",
      "  0.62151773 0.15007984 0.93282265 0.29825488 0.8309985  0.15375591\n",
      "  0.96062508 0.46974066 0.84015722 0.45703311 0.60440454 0.4867716\n",
      "  0.90766868 0.50968517 0.68791478 0.8178066  0.92303477 0.6318884\n",
      "  0.98002612 0.7656531  0.80232895 0.65920665 0.85481695 0.18441746\n",
      "  0.68308176 0.82095705 0.9911045  0.7117372  0.77510743 0.21823752\n",
      "  0.65539102 0.41375627 0.41082024 0.57449559 0.08308949 0.32711197\n",
      "  0.39667924 0.82655258 0.46230212 0.38285959 0.01643972 0.2409014\n",
      "  0.57475703 0.99663646 0.77764996 0.84081008 1.04896927 0.44056772\n",
      "  0.09135232 0.19404764 0.41321313 0.67813868 0.99200623 0.31793792\n",
      "  0.76495163 0.95369998 0.21150929 0.13267377 0.75752394 0.38793731\n",
      "  0.77384782 0.95199979 0.24164975 0.83191008]\n",
      " [0.57756299 0.05438808 0.37846892 0.63274825 0.37187705 0.58615412\n",
      "  0.29535598 0.12001171 0.19069083 0.41393448 0.67470711 0.53302896\n",
      "  0.18970956 0.41673383 0.19049835 0.22674221 0.58451159 0.48692632\n",
      "  0.4323993  0.40012686 0.05901508 0.66635895 0.3881293  0.45811187\n",
      "  0.13467773 0.36754258 0.16961255 0.32841213 0.30333144 0.35159939\n",
      "  0.29337091 0.73091569 0.15934686 0.33083974 0.36836462 0.62151773\n",
      "  0.         0.63504219 0.38796413 0.61809407 0.34334761 0.71065633\n",
      "  0.34292004 0.2304475  0.2320345  0.27233081 0.42181273 0.13499415\n",
      "  0.30730592 0.55329618 0.07111273 0.61798749 0.67571975 0.35277986\n",
      "  0.35901712 0.4746581  0.21519919 0.07479439 0.30831313 0.74796301\n",
      "  0.20350413 0.20676876 0.41038877 0.10612874 0.15798925 0.79091967\n",
      "  0.56730214 0.32769081 0.46334371 0.29293687 0.59708033 0.4663278\n",
      "  0.5232459  0.62226805 0.36456898 0.29883565 0.61055898 0.78444556\n",
      "  0.16212353 0.39377589 0.224151   0.23715334 0.42747087 0.3891429\n",
      "  0.5875849  0.66548441 0.40277259 0.64416253 0.37472958 0.58969164\n",
      "  0.23169658 0.35800584 0.42110373 0.62645652 0.1471898  0.27273844\n",
      "  0.27448537 0.59925002 0.44940829 0.23265655]\n",
      " [0.37286642 0.64537784 0.70971148 0.79320109 0.98376465 0.37850358\n",
      "  0.3551674  0.53646707 0.77748904 0.60842538 0.83680378 0.11470215\n",
      "  0.44753565 0.97245512 0.52891851 0.62228532 0.48171463 0.3307769\n",
      "  1.05391511 0.94580947 0.64438395 0.03261222 0.65547606 1.08170467\n",
      "  0.5335269  0.43038914 0.76526468 0.8846604  0.93651382 0.85518336\n",
      "  0.92841137 0.09587538 0.77344181 0.81612102 1.00278338 0.15007984\n",
      "  0.63504219 0.         0.89479268 0.15556921 0.89380647 0.08265432\n",
      "  0.97765374 0.44110321 0.86488163 0.41593531 0.70768537 0.50295974\n",
      "  0.89324595 0.63946486 0.70545821 0.7089839  0.81621045 0.5609875\n",
      "  0.98339256 0.86352735 0.78712807 0.65673853 0.90341746 0.11644737\n",
      "  0.73732428 0.81878591 0.96388327 0.71053154 0.79298797 0.15868347\n",
      "  0.77774515 0.36115116 0.31140753 0.65496702 0.22906128 0.23546272\n",
      "  0.5268367  0.71791999 0.39001064 0.35257049 0.16229469 0.14984799\n",
      "  0.62636832 0.98064809 0.82106197 0.86804978 1.05598893 0.54380954\n",
      "  0.07638047 0.04768478 0.33337453 0.80878537 1.00950126 0.18267747\n",
      "  0.81310696 0.98647882 0.28653732 0.01828831 0.75566142 0.45026787\n",
      "  0.73447424 0.86406015 0.3491368  0.86119681]\n",
      " [0.66506488 0.33795295 0.23177501 0.43533235 0.51571241 0.66964108\n",
      "  0.5496497  0.40310648 0.47983311 0.8003261  0.45704879 0.82050461\n",
      "  0.5252567  0.10276202 0.37372726 0.27302704 0.60445143 0.84721643\n",
      "  0.52039664 0.64270077 0.43678766 0.92726367 0.76903785 0.31762822\n",
      "  0.51461753 0.74505556 0.22892886 0.08859155 0.31358531 0.04065325\n",
      "  0.35122496 0.98453733 0.25608844 0.07869753 0.35400821 0.93282265\n",
      "  0.38796413 0.89479268 0.         0.81476288 0.60097016 0.97732578\n",
      "  0.35053615 0.46321976 0.37452474 0.48068535 0.79567531 0.48680845\n",
      "  0.14553311 0.9404771  0.36777536 0.48136964 0.47363434 0.36298003\n",
      "  0.27170999 0.80786933 0.17786233 0.31691991 0.51888388 1.01054198\n",
      "  0.53655464 0.22901211 0.09456335 0.28501162 0.34185319 1.05143403\n",
      "  0.94061928 0.53365535 0.61642109 0.66996827 0.93171927 0.66899909\n",
      "  0.90960092 0.47977603 0.51404568 0.55135596 0.92602553 1.03061051\n",
      "  0.54338822 0.1605382  0.47788153 0.38913369 0.32702914 0.77703726\n",
      "  0.87275404 0.90909038 0.57230992 1.01954379 0.36521863 0.77755381\n",
      "  0.50373785 0.4478637  0.76345864 0.89284662 0.25649957 0.64843696\n",
      "  0.16044376 0.33483944 0.81298245 0.40041077]\n",
      " [0.2238893  0.61515032 0.60886839 0.65630363 0.98542411 0.22833639\n",
      "  0.32275359 0.50483466 0.78502579 0.68988034 0.69794911 0.21079982\n",
      "  0.44703319 0.90173652 0.47351003 0.55050285 0.33428305 0.44009619\n",
      "  1.0497349  0.9729121  0.64130374 0.17413836 0.72742088 1.03794175\n",
      "  0.54370036 0.50663412 0.72091972 0.81889906 0.90663221 0.77712973\n",
      "  0.90558599 0.20111886 0.73557683 0.73682177 0.97462714 0.29825488\n",
      "  0.61809407 0.15556921 0.81476288 0.         0.91769273 0.21695687\n",
      "  0.95110549 0.39609265 0.84949518 0.36024509 0.78127299 0.4987359\n",
      "  0.83681763 0.74569018 0.68888968 0.56811486 0.67568015 0.45988504\n",
      "  0.94267731 0.92673207 0.73329953 0.62192946 0.9118954  0.23481989\n",
      "  0.75746932 0.77717351 0.8928834  0.67429438 0.77301004 0.26556274\n",
      "  0.87166086 0.30043984 0.19961989 0.70616258 0.3691596  0.15466514\n",
      "  0.63674111 0.57708639 0.30141739 0.31926129 0.3075336  0.23120853\n",
      "  0.64921346 0.92043833 0.82666333 0.85517949 1.01737181 0.62405215\n",
      "  0.20940123 0.13117032 0.2438538  0.91281339 0.98266832 0.03836661\n",
      "  0.82396809 0.97609314 0.36762165 0.16959703 0.71675975 0.4972256\n",
      "  0.65798802 0.73813106 0.44751421 0.85067831]\n",
      " [0.91351768 0.38181329 0.68952689 0.95149351 0.1567993  0.92247127\n",
      "  0.60643666 0.45854749 0.15338169 0.39714584 0.98928063 0.78023164\n",
      "  0.47260815 0.56822114 0.53378673 0.55608393 0.92729458 0.63689654\n",
      "  0.22936067 0.05723092 0.29565198 0.92107424 0.33537262 0.45406544\n",
      "  0.37456009 0.49729901 0.39590467 0.51405933 0.31622687 0.5801797\n",
      "  0.27388085 0.98561503 0.36189729 0.58105806 0.3273591  0.8309985\n",
      "  0.34334761 0.89380647 0.60097016 0.91769273 0.         0.95636786\n",
      "  0.30866203 0.56185928 0.22779909 0.60441101 0.32047272 0.42544985\n",
      "  0.46146926 0.51254239 0.29435111 0.94990913 0.99483098 0.69282325\n",
      "  0.39265197 0.23739516 0.44146006 0.39272843 0.09031185 0.99389517\n",
      "  0.16030172 0.37451423 0.56693195 0.37384963 0.2675556  1.03512406\n",
      "  0.43009529 0.65325538 0.79122536 0.26710685 0.77714029 0.77695757\n",
      "  0.55485316 0.95324248 0.700608   0.61013867 0.8162298  1.04069511\n",
      "  0.26939083 0.50728302 0.13100083 0.21350282 0.41130492 0.42781096\n",
      "  0.82972164 0.9333886  0.73112109 0.50520094 0.32267502 0.89557945\n",
      "  0.11371009 0.22127249 0.62136681 0.88075213 0.37132017 0.44619989\n",
      "  0.56158142 0.89421009 0.59978074 0.20121737]\n",
      " [0.44051784 0.72337603 0.7918448  0.86832876 1.05280347 0.44520534\n",
      "  0.43585968 0.61538542 0.84603806 0.64880738 0.91114434 0.17936491\n",
      "  0.52173648 1.05447855 0.6105722  0.70471103 0.55070705 0.36201254\n",
      "  1.12428087 1.00690486 0.7168273  0.05065444 0.70018548 1.16049328\n",
      "  0.60381985 0.47797295 0.8448999  0.96640139 1.01322083 0.93766818\n",
      "  1.00372628 0.04059418 0.85209315 0.89866492 1.07895428 0.15375591\n",
      "  0.71065633 0.08265432 0.97732578 0.21695687 0.95636786 0.\n",
      "  1.05357537 0.52229021 0.93882205 0.49804899 0.75077861 0.57717965\n",
      "  0.97408227 0.66331895 0.78051263 0.78221987 0.88973933 0.64288568\n",
      "  1.06189266 0.91013262 0.86788648 0.73541188 0.97087901 0.03780887\n",
      "  0.80235508 0.897862   1.04593251 0.78917677 0.8682733  0.08047446\n",
      "  0.8080852  0.44367045 0.39067328 0.70940219 0.23617464 0.31700344\n",
      "  0.5502472  0.79118546 0.47226722 0.43338393 0.16984153 0.08874139\n",
      "  0.69170266 1.06175821 0.88986456 0.94139296 1.13397616 0.5861769\n",
      "  0.12696982 0.08582198 0.41531195 0.83187827 1.08538552 0.25015896\n",
      "  0.88042408 1.05871373 0.33825809 0.08572043 0.83453853 0.51031879\n",
      "  0.81697439 0.94275956 0.38715579 0.93401249]\n",
      " [0.8726241  0.33625904 0.51992696 0.76796107 0.17840914 0.87992831\n",
      "  0.63149095 0.44695681 0.26477307 0.64260466 0.79639227 0.87580211\n",
      "  0.53228407 0.28572589 0.48466639 0.44432496 0.84886361 0.80623872\n",
      "  0.16990689 0.33175607 0.34442105 1.0091099  0.59059861 0.14949113\n",
      "  0.46087061 0.67214682 0.24341594 0.264671   0.04760638 0.34596745\n",
      "  0.05272055 1.07352309 0.22004588 0.3650425  0.02646686 0.96062508\n",
      "  0.34292004 0.97765374 0.35053615 0.95110549 0.30866203 1.05357537\n",
      "  0.         0.55512561 0.12612186 0.59267415 0.59490952 0.47706831\n",
      "  0.20754671 0.77706078 0.27359602 0.79438647 0.80924394 0.58798092\n",
      "  0.08988736 0.54456456 0.25721894 0.32934612 0.21854634 1.09086785\n",
      "  0.33530764 0.18834771 0.28726285 0.27805264 0.18583888 1.13382597\n",
      "  0.72418263 0.65207728 0.77810663 0.49623762 0.92913233 0.79678741\n",
      "  0.78860846 0.79504754 0.67102275 0.63472834 0.9488369  1.12679795\n",
      "  0.41195374 0.21622963 0.23233815 0.13101224 0.1074691  0.64856934\n",
      "  0.93028205 1.00705789 0.71983177 0.80237008 0.03185461 0.91990721\n",
      "  0.25921859 0.10318711 0.75448302 0.96929556 0.23910426 0.58840457\n",
      "  0.3877885  0.68086982 0.76735464 0.14399483]\n",
      " [0.35166192 0.21981413 0.32368663 0.51920793 0.60230153 0.36063665\n",
      "  0.08715455 0.11138569 0.41444407 0.48647783 0.565982   0.35812336\n",
      "  0.12847556 0.53372463 0.08972209 0.19288432 0.37577118 0.41144846\n",
      "  0.66140001 0.6190651  0.26724455 0.47367091 0.49071165 0.64532178\n",
      "  0.20860288 0.35084677 0.32744848 0.44465404 0.51053956 0.42270961\n",
      "  0.51026654 0.53491825 0.34000368 0.3858273  0.57854505 0.46974066\n",
      "  0.2304475  0.44110321 0.46321976 0.39609265 0.56185928 0.52229021\n",
      "  0.55512561 0.         0.45719654 0.04260125 0.53931902 0.14742618\n",
      "  0.45222843 0.60394684 0.29886162 0.47382355 0.55785363 0.21086555\n",
      "  0.5485695  0.64214795 0.34622475 0.2258477  0.53706571 0.55750198\n",
      "  0.40666526 0.38282766 0.52533575 0.27830328 0.3795163  0.59974939\n",
      "  0.67168564 0.09801519 0.23298954 0.423049   0.47368567 0.24166293\n",
      "  0.53231981 0.48045127 0.13924035 0.0892805  0.46332277 0.58519629\n",
      "  0.31648096 0.53955126 0.45183388 0.46412179 0.62276797 0.4344672\n",
      "  0.41124788 0.46293767 0.17237723 0.73811499 0.58663866 0.36486427\n",
      "  0.45546184 0.58494882 0.31630935 0.43665752 0.32134881 0.26914282\n",
      "  0.30414963 0.5325798  0.38396231 0.46108682]\n",
      " [0.79240533 0.23893084 0.49044236 0.75035496 0.16279229 0.80037963\n",
      "  0.52698236 0.34605634 0.14271406 0.52017501 0.78448762 0.75998241\n",
      "  0.41740326 0.34166235 0.39799073 0.38204485 0.7822242  0.6810949\n",
      "  0.20696578 0.26822793 0.22340858 0.89576732 0.47053127 0.2696027\n",
      "  0.33955209 0.54628875 0.18987509 0.2868806  0.10574609 0.35630457\n",
      "  0.07368311 0.96065054 0.1566779  0.36177843 0.15245396 0.84015722\n",
      "  0.2320345  0.86488163 0.37452474 0.84949518 0.22779909 0.93882205\n",
      "  0.12612186 0.45719654 0.         0.49740403 0.47934625 0.36194636\n",
      "  0.23368199 0.6566554  0.16093055 0.76189721 0.79322233 0.52743277\n",
      "  0.18412161 0.44978883 0.22663736 0.23820887 0.14451404 0.97638761\n",
      "  0.21353103 0.15378327 0.33994304 0.19591755 0.07839459 1.01927376\n",
      "  0.61438808 0.55521157 0.68734438 0.37396807 0.80588718 0.69679696\n",
      "  0.66381398 0.76394837 0.58344356 0.53041471 0.82790928 1.01461326\n",
      "  0.28583699 0.28412844 0.11826342 0.0146476  0.22991384 0.52350094\n",
      "  0.81406036 0.89658289 0.62744861 0.69359852 0.15535703 0.82033299\n",
      "  0.14657469 0.12800826 0.63216182 0.85555298 0.17216882 0.4637402\n",
      "  0.35682422 0.68054878 0.64216634 0.02692487]\n",
      " [0.3091359  0.25903117 0.32215937 0.49900126 0.64401852 0.31813739\n",
      "  0.07557405 0.15265777 0.45701771 0.51664799 0.54610732 0.34087246\n",
      "  0.16187314 0.55652424 0.11470148 0.2076783  0.33612496 0.41879139\n",
      "  0.70232118 0.66161061 0.30984227 0.44853722 0.52440143 0.67821539\n",
      "  0.248172   0.37162036 0.36077212 0.4690852  0.5474935  0.44061701\n",
      "  0.54880459 0.50810021 0.37557277 0.40231863 0.61564657 0.45703311\n",
      "  0.27233081 0.41593531 0.48068535 0.36024509 0.60441101 0.49804899\n",
      "  0.59267415 0.04260125 0.49740403 0.         0.57407164 0.18758227\n",
      "  0.48075598 0.62942301 0.34006913 0.44763812 0.536171   0.19487881\n",
      "  0.58250111 0.68120036 0.37559342 0.26350906 0.57943591 0.53227882\n",
      "  0.44892059 0.4169365  0.54794823 0.31488059 0.41941564 0.5739792\n",
      "  0.70371665 0.05980629 0.1910522  0.46045777 0.46835057 0.20562314\n",
      "  0.55249389 0.45468816 0.09727146 0.0759733  0.45198248 0.55694731\n",
      "  0.35723654 0.56680901 0.49427323 0.50469031 0.65713985 0.46208689\n",
      "  0.39236094 0.43450932 0.13056574 0.76831926 0.62400831 0.32772127\n",
      "  0.49804634 0.62532236 0.32057523 0.41295466 0.35668479 0.29609539\n",
      "  0.32030861 0.52194523 0.39431264 0.50201356]\n",
      " [0.85503385 0.47620077 0.79455161 1.03734132 0.47439529 0.86459699\n",
      "  0.53611372 0.48142497 0.3379291  0.10398652 1.08187646 0.59566459\n",
      "  0.41221391 0.79856614 0.56354486 0.63755362 0.9060556  0.39226436\n",
      "  0.54928834 0.34335835 0.3651645  0.7279033  0.05395994 0.74423513\n",
      "  0.33906935 0.27807113 0.56674808 0.72165976 0.58476296 0.7633133\n",
      "  0.54782596 0.78683242 0.54110479 0.7480519  0.6185254  0.60440454\n",
      "  0.42181273 0.70768537 0.79567531 0.78127299 0.32047272 0.75077861\n",
      "  0.59490952 0.53931902 0.47934625 0.57407164 0.         0.39832038\n",
      "  0.6827202  0.19220871 0.427969   1.00626674 1.07901901 0.73485357\n",
      "  0.66346419 0.1629032  0.61784802 0.49636245 0.39299103 0.78551658\n",
      "  0.26906682 0.57676164 0.7944395  0.51371427 0.468428   0.82207175\n",
      "  0.14572753 0.59879508 0.72138441 0.12894095 0.53323699 0.67461018\n",
      "  0.25126289 1.01207256 0.66512523 0.53927328 0.58810582 0.83945737\n",
      "  0.25981706 0.75325076 0.36331169 0.46950472 0.70237326 0.16462068\n",
      "  0.63340484 0.75366835 0.67023511 0.2239528  0.61700775 0.77127964\n",
      "  0.33584769 0.52840691 0.42228291 0.69117627 0.53921979 0.29414023\n",
      "  0.69624707 1.01743095 0.36379532 0.45537946]\n",
      " [0.49344829 0.16123701 0.41378513 0.64248202 0.48746898 0.50269531\n",
      "  0.18112553 0.09275141 0.28653098 0.3576647  0.68795731 0.39884353\n",
      "  0.05546956 0.53270231 0.16797714 0.25783539 0.5231415  0.3632986\n",
      "  0.55417186 0.48214725 0.14340969 0.53382375 0.35251006 0.59248939\n",
      "  0.06140181 0.25999057 0.29152232 0.44179007 0.43820793 0.44729672\n",
      "  0.42671584 0.59870862 0.28871995 0.41832952 0.50274276 0.4867716\n",
      "  0.13499415 0.50295974 0.48680845 0.4987359  0.42544985 0.57717965\n",
      "  0.47706831 0.14742618 0.36194636 0.18758227 0.39832038 0.\n",
      "  0.4302661  0.48657132 0.20353918 0.60803394 0.68338514 0.33699319\n",
      "  0.49329918 0.49486217 0.32926334 0.17919639 0.41322542 0.61466118\n",
      "  0.26643171 0.33644114 0.52549067 0.22862044 0.29136375 0.65758285\n",
      "  0.53589113 0.22970884 0.3670673  0.27772458 0.46502454 0.35279991\n",
      "  0.43333902 0.61392707 0.28457383 0.18482494 0.47603302 0.65273164\n",
      "  0.16975597 0.51876218 0.32792848 0.36515132 0.56237758 0.31479234\n",
      "  0.4532504  0.53537412 0.30771713 0.60627365 0.50879407 0.4736849\n",
      "  0.32602477 0.48421828 0.28951225 0.49363446 0.27380635 0.1641039\n",
      "  0.34595897 0.63541729 0.32761618 0.35860049]\n",
      " [0.72043519 0.26915202 0.32485318 0.56312187 0.37020275 0.726541\n",
      "  0.53823006 0.36401266 0.35260391 0.70119456 0.58998237 0.80519581\n",
      "  0.47840361 0.11589082 0.36608409 0.29044352 0.67893953 0.7919688\n",
      "  0.37667708 0.50051055 0.34322365 0.92578507 0.66247882 0.21200349\n",
      "  0.44187048 0.67481675 0.13901254 0.05752343 0.16843281 0.13848371\n",
      "  0.20569766 0.98712598 0.15015602 0.16070566 0.21424678 0.90766868\n",
      "  0.30730592 0.89324595 0.14553311 0.83681763 0.46146926 0.97408227\n",
      "  0.20754671 0.45222843 0.23368199 0.48075598 0.6827202  0.4302661\n",
      "  0.         0.84195551 0.26525008 0.59581755 0.6037505  0.41982344\n",
      "  0.1381325  0.67754522 0.10623466 0.25125992 0.37677502 1.00958192\n",
      "  0.41578374 0.10713811 0.11179508 0.20282881 0.21533982 1.05192088\n",
      "  0.82507195 0.53942519 0.64682324 0.56230208 0.89373706 0.68383055\n",
      "  0.82532874 0.59570852 0.53879475 0.54074289 0.898623   1.03706281\n",
      "  0.44408721 0.08901382 0.34383989 0.24806006 0.20641023 0.68735372\n",
      "  0.85946976 0.91466577 0.59419409 0.90463201 0.22557478 0.80185525\n",
      "  0.37104679 0.30268064 0.71918197 0.88837044 0.16017005 0.57993216\n",
      "  0.20240147 0.47334333 0.75511095 0.26028094]\n",
      " [0.8670542  0.6055767  0.90027889 1.12220786 0.66553917 0.8763875\n",
      "  0.57259419 0.57877084 0.51397497 0.14083471 1.1686358  0.53948492\n",
      "  0.47842491 0.95720781 0.65265339 0.74358773 0.93777979 0.30931539\n",
      "  0.74097336 0.53481921 0.50410239 0.65234811 0.18646248 0.92527276\n",
      "  0.43864331 0.26306212 0.71491251 0.87438127 0.76230872 0.90477371\n",
      "  0.72787844 0.70275467 0.69407496 0.88365233 0.80162196 0.50968517\n",
      "  0.55329618 0.63946486 0.9404771  0.74569018 0.51254239 0.66331895\n",
      "  0.77706078 0.60394684 0.6566554  0.62942301 0.19220871 0.48657132\n",
      "  0.84195551 0.         0.5779347  1.07681389 1.16149555 0.81343644\n",
      "  0.83965561 0.33060673 0.76442831 0.62673009 0.58262287 0.69360206\n",
      "  0.44312495 0.73481938 0.95212228 0.65563495 0.63378974 0.72429256\n",
      "  0.15378852 0.63651533 0.73637114 0.28350316 0.42863388 0.67243384\n",
      "  0.11315179 1.08370051 0.7068483  0.57492496 0.49349959 0.75044499\n",
      "  0.39880958 0.91889939 0.54485175 0.64830532 0.88423214 0.17185433\n",
      "  0.56317536 0.68714791 0.69583778 0.16933433 0.80101816 0.74517382\n",
      "  0.51864166 0.7168219  0.38095561 0.62145187 0.68855196 0.33483951\n",
      "  0.82128109 1.12190406 0.29818002 0.63449878]\n",
      " [0.64176181 0.08945762 0.40116051 0.66157513 0.30460884 0.65013098\n",
      "  0.36622441 0.18751193 0.14225685 0.43710459 0.70121067 0.6023724\n",
      "  0.25886336 0.37965988 0.24908157 0.26182847 0.6421559  0.54381879\n",
      "  0.36261352 0.34946286 0.07983959 0.73663302 0.40200056 0.39498237\n",
      "  0.19144307 0.41740447 0.13893826 0.29674813 0.23586823 0.33552682\n",
      "  0.22322169 0.801314   0.11615106 0.32245542 0.29938457 0.68791478\n",
      "  0.07111273 0.70545821 0.36777536 0.68888968 0.29435111 0.78051263\n",
      "  0.27359602 0.29886162 0.16093055 0.34006913 0.427969   0.20353918\n",
      "  0.26525008 0.5779347  0.         0.65599337 0.70490078 0.39950214\n",
      "  0.296716   0.4556764  0.18991489 0.09842672 0.24726723 0.81791881\n",
      "  0.17769485 0.158766   0.37436044 0.08925334 0.08782463 0.86086198\n",
      "  0.5731464  0.39666411 0.53099922 0.30244954 0.6598472  0.53669764\n",
      "  0.56066134 0.6595106  0.42985011 0.36968045 0.67647199 0.85499633\n",
      "  0.17923902 0.34686635 0.16703003 0.16630066 0.36220174 0.42218117\n",
      "  0.6567894  0.73632985 0.47061935 0.65189567 0.30528628 0.66016099\n",
      "  0.18064454 0.28726836 0.48415609 0.69661189 0.11164324 0.32622271\n",
      "  0.28163572 0.61517954 0.50552758 0.16239266]\n",
      " [0.34659553 0.57135597 0.27469728 0.09447598 0.92426865 0.34409309\n",
      "  0.51042299 0.52762584 0.79819228 0.95988983 0.13061664 0.69655704\n",
      "  0.60173204 0.58307985 0.44417233 0.39433946 0.23791126 0.84905939\n",
      "  0.95407663 1.00398609 0.6752585  0.73502337 0.96027462 0.79622759\n",
      "  0.66739124 0.81883227 0.57212462 0.54530974 0.74879549 0.46549662\n",
      "  0.7745302  0.76922382 0.60526542 0.43574358 0.80623117 0.8178066\n",
      "  0.61798749 0.7089839  0.48136964 0.56811486 0.94990913 0.78221987\n",
      "  0.79438647 0.47382355 0.76189721 0.44763812 1.00626674 0.60803394\n",
      "  0.59581755 1.07681389 0.65599337 0.         0.10757868 0.271772\n",
      "  0.73394942 1.08864307 0.54169846 0.55816897 0.89217501 0.80278152\n",
      "  0.82144508 0.6159294  0.57534948 0.57789226 0.69419666 0.83313723\n",
      "  1.14307822 0.44993332 0.40700008 0.88318777 0.85961695 0.49082347\n",
      "  0.99896056 0.00897234 0.38141746 0.508777   0.81973313 0.79594538\n",
      "  0.76093456 0.6401263  0.8202412  0.77500133 0.79966486 0.90819345\n",
      "  0.73027923 0.69704291 0.4142283  1.21123163 0.81741014 0.53262829\n",
      "  0.83636932 0.87339629 0.74869157 0.717099   0.59061991 0.74251164\n",
      "  0.4085328  0.21123317 0.83078381 0.78032198]\n",
      " [0.45383852 0.62547055 0.30536889 0.04335307 0.9529941  0.45110946\n",
      "  0.60322647 0.59759533 0.84644787 1.03967859 0.02829106 0.80124996\n",
      "  0.68341123 0.57024886 0.51595093 0.44899071 0.34455485 0.94598605\n",
      "  0.97476082 1.04680482 0.73437999 0.84243512 1.03532478 0.79097522\n",
      "  0.74053167 0.90739585 0.60469479 0.54899098 0.7659445  0.46664886\n",
      "  0.79607636 0.876793   0.63885402 0.44421076 0.81786022 0.92303477\n",
      "  0.67571975 0.81621045 0.47363434 0.67568015 0.99483098 0.88973933\n",
      "  0.80924394 0.55785363 0.79322233 0.536171   1.07901901 0.68338514\n",
      "  0.6037505  1.16149555 0.70490078 0.10757868 0.         0.3482642\n",
      "  0.74014895 1.15023379 0.56732312 0.6098283  0.93010198 0.91035917\n",
      "  0.87709073 0.64169974 0.56348657 0.62114539 0.7315578  0.94063258\n",
      "  1.21901051 0.54519291 0.51236223 0.95319609 0.96267556 0.59592685\n",
      "  1.08856213 0.09860641 0.47874571 0.60191186 0.92452224 0.90325205\n",
      "  0.82696644 0.63400375 0.8639074  0.80707005 0.80012497 0.99106433\n",
      "  0.83618942 0.80460071 0.51583033 1.28957233 0.8291826  0.6402031\n",
      "  0.88259894 0.89596088 0.84562439 0.82411379 0.62643056 0.82669163\n",
      "  0.43670329 0.15205117 0.92585536 0.81404306]\n",
      " [0.30395028 0.31103351 0.14964578 0.30879232 0.68904156 0.30925076\n",
      "  0.26807389 0.25605887 0.53951022 0.69174626 0.35536726 0.51018208\n",
      "  0.33517245 0.45818074 0.17249603 0.14568189 0.26141278 0.61341765\n",
      "  0.7311048  0.74860502 0.40813021 0.5922546  0.68950098 0.63175927\n",
      "  0.39582442 0.56167686 0.34635255 0.38633514 0.54038927 0.32869685\n",
      "  0.55649433 0.64335425 0.37498082 0.28845105 0.60553779 0.6318884\n",
      "  0.35277986 0.5609875  0.36298003 0.45988504 0.69282325 0.64288568\n",
      "  0.58798092 0.21086555 0.52743277 0.19487881 0.73485357 0.33699319\n",
      "  0.41982344 0.81343644 0.39950214 0.271772   0.3482642  0.\n",
      "  0.54882998 0.81835082 0.33325115 0.30142943 0.64439544 0.67258179\n",
      "  0.55560514 0.39972518 0.44925321 0.33266736 0.45272938 0.7109867\n",
      "  0.87277099 0.2206736  0.26038667 0.6114177  0.65406301 0.32595283\n",
      "  0.74314911 0.27733893 0.17184777 0.26761934 0.62932949 0.68464848\n",
      "  0.48977571 0.49144164 0.566483   0.53885857 0.62244728 0.64281795\n",
      "  0.55609408 0.56668276 0.22761501 0.94221917 0.61586861 0.42179863\n",
      "  0.57933666 0.64965027 0.51460307 0.56283161 0.35733667 0.478769\n",
      "  0.21931503 0.32787644 0.58918046 0.54139807]\n",
      " [0.84413792 0.33867542 0.46244159 0.7000106  0.26825139 0.85079732\n",
      "  0.63042457 0.44695755 0.32638648 0.70198757 0.72548077 0.88708454\n",
      "  0.54677335 0.19801825 0.46955202 0.41120725 0.80985706 0.8403407\n",
      "  0.25494055 0.41945302 0.3747892  1.01549519 0.65392742 0.09920895\n",
      "  0.48809274 0.71153005 0.22175939 0.19116239 0.07916195 0.27351086\n",
      "  0.1196584  1.07880247 0.20996467 0.29864313 0.08477419 0.98002612\n",
      "  0.35901712 0.98339256 0.27170999 0.94267731 0.39265197 1.06189266\n",
      "  0.08988736 0.5485695  0.18412161 0.58250111 0.66346419 0.49329918\n",
      "  0.1381325  0.83965561 0.296716   0.73394942 0.74014895 0.54882998\n",
      "  0.         0.62574953 0.21719711 0.32665487 0.30241849 1.09853837\n",
      "  0.39690473 0.16574609 0.20033262 0.27286266 0.21584912 1.14138674\n",
      "  0.79767773 0.64228258 0.7602541  0.55634375 0.95564423 0.78811429\n",
      "  0.84163624 0.73383334 0.65187683 0.63337474 0.96932666 1.13075747\n",
      "  0.45789563 0.12735313 0.30126562 0.19430684 0.07515792 0.70107887\n",
      "  0.94181699 1.00928971 0.70438888 0.87666342 0.09546605 0.90948047\n",
      "  0.32939374 0.19301149 0.77970677 0.97656112 0.22796101 0.62236061\n",
      "  0.33629446 0.60594977 0.80192132 0.20850949]\n",
      " [0.97844537 0.52616633 0.85193823 1.1073323  0.3905072  0.9879419\n",
      "  0.65637768 0.56307115 0.32807573 0.26681832 1.14935202 0.75007766\n",
      "  0.52293289 0.78984059 0.64651698 0.70127177 1.01732517 0.5540719\n",
      "  0.45634113 0.23386461 0.41587079 0.88516499 0.21029005 0.69121255\n",
      "  0.43355585 0.4333672  0.58525947 0.72520105 0.54754135 0.78124007\n",
      "  0.50609996 0.94536685 0.55417577 0.7741729  0.56419397 0.7656531\n",
      "  0.4746581  0.86352735 0.80786933 0.92673207 0.23739516 0.91013262\n",
      "  0.54456456 0.64214795 0.44978883 0.68120036 0.1629032  0.49486217\n",
      "  0.67754522 0.33060673 0.4556764  1.08864307 1.15023379 0.81835082\n",
      "  0.62574953 0.         0.63550281 0.54343248 0.32633901 0.94541903\n",
      "  0.27798573 0.57924757 0.78742033 0.54481015 0.46613506 0.9827009\n",
      "  0.20904778 0.71552544 0.8463268  0.22501083 0.69568826 0.80895353\n",
      "  0.40951257 1.09348062 0.77691211 0.65983783 0.74943691 0.99861118\n",
      "  0.32939563 0.73391211 0.33404475 0.43682057 0.64843109 0.32508989\n",
      "  0.79046859 0.90866006 0.79108867 0.27639025 0.55983606 0.91343123\n",
      "  0.30653353 0.45845353 0.57700382 0.84752201 0.55793209 0.43021733\n",
      "  0.73722423 1.06986656 0.52425704 0.42304802]\n",
      " [0.62695767 0.17022374 0.26743843 0.52466978 0.38572351 0.63360123\n",
      "  0.43205127 0.25868494 0.30824921 0.62391493 0.55803587 0.69907263\n",
      "  0.3752582  0.20372477 0.26091206 0.19401731 0.59466269 0.6924251\n",
      "  0.41240564 0.48878204 0.26032984 0.81965431 0.59138451 0.30678346\n",
      "  0.34718002 0.58037755 0.05123672 0.11365255 0.21009318 0.14660245\n",
      "  0.23294107 0.88114067 0.08150273 0.14012546 0.27312032 0.80232895\n",
      "  0.21519919 0.78712807 0.17786233 0.73329953 0.44146006 0.86788648\n",
      "  0.25721894 0.34622475 0.22663736 0.37559342 0.61784802 0.32926334\n",
      "  0.10623466 0.76442831 0.18991489 0.54169846 0.56732312 0.33325115\n",
      "  0.21719711 0.63550281 0.         0.15060373 0.3675417  0.90343595\n",
      "  0.36087842 0.07460088 0.19678969 0.10948574 0.17433467 0.94580967\n",
      "  0.76289077 0.43464127 0.54605779 0.49216356 0.79022377 0.57966634\n",
      "  0.73839263 0.54303563 0.43765027 0.43458507 0.79352096 0.9312834\n",
      "  0.3663082  0.19466109 0.3127409  0.24079787 0.29194554 0.60335066\n",
      "  0.75330594 0.80892997 0.49185717 0.84174513 0.28371675 0.69887098\n",
      "  0.33644931 0.33172715 0.61653681 0.7821712  0.07894767 0.48431401\n",
      "  0.13318955 0.45476256 0.65628395 0.24891054]\n",
      " [0.55421107 0.02118204 0.30859251 0.5666006  0.39411115 0.56221358\n",
      "  0.30455861 0.12033241 0.24016499 0.48790891 0.60732104 0.56164319\n",
      "  0.22747977 0.35432736 0.15980797 0.16382997 0.54780064 0.54198601\n",
      "  0.44512664 0.44788449 0.13177558 0.68885421 0.46291521 0.4250862\n",
      "  0.19822619 0.43063273 0.11314868 0.26392549 0.28472308 0.27945088\n",
      "  0.28543718 0.75216013 0.11671075 0.25692453 0.35269884 0.65920665\n",
      "  0.07479439 0.65673853 0.31691991 0.62192946 0.39272843 0.73541188\n",
      "  0.32934612 0.2258477  0.23820887 0.26350906 0.49636245 0.17919639\n",
      "  0.25125992 0.62673009 0.09842672 0.55816897 0.6098283  0.30142943\n",
      "  0.32665487 0.54343248 0.15060373 0.         0.34349755 0.7719635\n",
      "  0.2675502  0.16275694 0.34734607 0.05379322 0.15993028 0.81478894\n",
      "  0.64193115 0.32277107 0.45105821 0.36755866 0.64270549 0.46749702\n",
      "  0.59268232 0.56184243 0.34581682 0.30762398 0.64954195 0.80423394\n",
      "  0.23683591 0.33998699 0.26513111 0.24730318 0.39959801 0.46087642\n",
      "  0.61633177 0.68298977 0.39186511 0.71891237 0.36081229 0.59056223\n",
      "  0.27901907 0.3658333  0.46793531 0.64999633 0.09922341 0.33428331\n",
      "  0.19989488 0.52730121 0.50571841 0.24709616]\n",
      " [0.88587283 0.3366578  0.62526376 0.88694005 0.08762589 0.89446702\n",
      "  0.5925947  0.42809433 0.12704279 0.45781433 0.92276887 0.79219778\n",
      "  0.46530012 0.48074681 0.49582286 0.50244366 0.88940055 0.67190424\n",
      "  0.16504153 0.12384317 0.27217863 0.93230999 0.39922781 0.36498772\n",
      "  0.37142006 0.53170694 0.32580128 0.43097077 0.22648589 0.50071444\n",
      "  0.18400936 0.99743344 0.29151932 0.50502311 0.237861   0.85481695\n",
      "  0.30831313 0.90341746 0.51888388 0.9118954  0.09031185 0.97087901\n",
      "  0.21854634 0.53706571 0.14451404 0.57943591 0.39299103 0.41322542\n",
      "  0.37677502 0.58262287 0.24726723 0.89217501 0.93010198 0.64439544\n",
      "  0.30241849 0.32633901 0.3675417  0.34349755 0.         1.00866929\n",
      "  0.17251038 0.29680384 0.47985191 0.31481769 0.19870164 1.05079228\n",
      "  0.51262516 0.63266732 0.76983845 0.31689904 0.80791288 0.76511085\n",
      "  0.61290753 0.89487441 0.67280067 0.59625296 0.84087914 1.05241551\n",
      "  0.28031218 0.41838902 0.08564311 0.12986956 0.32220278 0.47870305\n",
      "  0.84395869 0.94020596 0.70921366 0.5893634  0.23369601 0.88677014\n",
      "  0.09045529 0.13621375 0.64332719 0.89171524 0.30371327 0.4669175\n",
      "  0.49374229 0.82230154 0.63355355 0.11950025]\n",
      " [0.45842385 0.76014405 0.82192084 0.8902856  1.09061231 0.46248113\n",
      "  0.47140496 0.65182674 0.88384628 0.68313042 0.93239078 0.21713943\n",
      "  0.55920506 1.08880049 0.64536438 0.73830058 0.56887288 0.39533983\n",
      "  1.16207707 1.0442942  0.75450595 0.08384579 0.73529888 1.19704323\n",
      "  0.64159709 0.51393634 0.88107677 1.00109203 1.05035389 0.97105547\n",
      "  1.0411166  0.03438502 0.8886677  0.93184971 1.11620231 0.18441746\n",
      "  0.74796301 0.11644737 1.01054198 0.23481989 0.99389517 0.03780887\n",
      "  1.09086785 0.55750198 0.97638761 0.53227882 0.78551658 0.61466118\n",
      "  1.00958192 0.69360206 0.81791881 0.80278152 0.91035917 0.67258179\n",
      "  1.09853837 0.94541903 0.90343595 0.7719635  1.00866929 0.\n",
      "  0.84006582 0.93428291 1.08021633 0.82574585 0.90565532 0.0429596\n",
      "  0.83980843 0.47706902 0.41752154 0.746111   0.26511713 0.34676807\n",
      "  0.5807593  0.81175385 0.50292641 0.46885113 0.20079979 0.0572534\n",
      "  0.72944103 1.09705321 0.92767335 0.97901866 1.17079044 0.62100826\n",
      "  0.1647297  0.10748801 0.44541213 0.86159236 1.12268708 0.27030728\n",
      "  0.91821411 1.09643121 0.37512096 0.12197887 0.8710293  0.54777768\n",
      "  0.85032897 0.96796546 0.42172368 0.97168241]\n",
      " [0.75774923 0.2516616  0.57588604 0.83392338 0.25916513 0.76684668\n",
      "  0.44694161 0.3088163  0.07088133 0.30732516 0.87486317 0.62466723\n",
      "  0.3124543  0.53127825 0.3887011  0.42893427 0.77774436 0.49978275\n",
      "  0.33564901 0.21626344 0.14768266 0.7653545  0.25706565 0.48249611\n",
      "  0.21428572 0.35978301 0.30993483 0.4579355  0.31921103 0.50743227\n",
      "  0.2851477  0.83024317 0.28057659 0.49787263 0.36052845 0.68308176\n",
      "  0.20350413 0.73732428 0.53655464 0.75746932 0.16030172 0.80235508\n",
      "  0.33530764 0.40666526 0.21353103 0.44892059 0.26906682 0.26643171\n",
      "  0.41578374 0.44312495 0.17769485 0.82144508 0.87709073 0.55560514\n",
      "  0.39690473 0.27798573 0.36087842 0.2675502  0.17251038 0.84006582\n",
      "  0.         0.3115053  0.52755405 0.26687016 0.20051828 0.88183883\n",
      "  0.40948881 0.4955281  0.63327078 0.16094638 0.63540303 0.61688446\n",
      "  0.45496596 0.82566508 0.54590054 0.45064249 0.66896991 0.8853292\n",
      "  0.11095633 0.48428869 0.10640907 0.2053953  0.44188973 0.31622573\n",
      "  0.67540396 0.77584656 0.57355414 0.48908955 0.36091546 0.73528146\n",
      "  0.08550673 0.28884144 0.47174094 0.72485627 0.28229611 0.2951993\n",
      "  0.45925544 0.7922872  0.46130886 0.19175472]\n",
      " [0.68609435 0.17690665 0.34191401 0.59911846 0.3112952  0.69319341\n",
      "  0.46504201 0.28247679 0.25154689 0.59406498 0.6320813  0.72440001\n",
      "  0.38784503 0.22271432 0.30457946 0.25605354 0.66051649 0.69369039\n",
      "  0.33847635 0.41945065 0.23765477 0.85100597 0.55558648 0.26304672\n",
      "  0.34105615 0.57247859 0.05691426 0.14665308 0.14074145 0.20575154\n",
      "  0.15945488 0.91399261 0.04776098 0.20824754 0.20701733 0.82095705\n",
      "  0.20676876 0.81878591 0.22901211 0.77717351 0.37451423 0.897862\n",
      "  0.18834771 0.38282766 0.15378327 0.4169365  0.57676164 0.33644114\n",
      "  0.10713811 0.73481938 0.158766   0.6159294  0.64169974 0.39972518\n",
      "  0.16574609 0.57924757 0.07460088 0.16275694 0.29680384 0.93428291\n",
      "  0.3115053  0.         0.218085   0.10937636 0.11314053 0.97705628\n",
      "  0.71987616 0.47673727 0.59672441 0.45541823 0.80143362 0.62255838\n",
      "  0.71939504 0.61737157 0.48862969 0.46794784 0.81094038 0.9656518\n",
      "  0.33712884 0.18861927 0.24912528 0.16821284 0.24020461 0.58090588\n",
      "  0.77908834 0.84398601 0.54001547 0.79934398 0.2169522  0.74422874\n",
      "  0.27474938 0.25751013 0.62573461 0.81235424 0.06358857 0.47882647\n",
      "  0.20759762 0.52678836 0.65616228 0.17737892]\n",
      " [0.7529363  0.36700094 0.32466194 0.52636752 0.46216412 0.75791416\n",
      "  0.61248969 0.45038357 0.46390731 0.81129327 0.5455143  0.88315398\n",
      "  0.56986926 0.00893935 0.43596309 0.34352922 0.69629961 0.88878749\n",
      "  0.45517409 0.60259025 0.45075891 0.99648543 0.77365152 0.22868505\n",
      "  0.54358423 0.77691439 0.24098706 0.08375219 0.25873512 0.12120765\n",
      "  0.30019619 1.05563612 0.25825815 0.16092969 0.28510346 0.9911045\n",
      "  0.41038877 0.96388327 0.09456335 0.8928834  0.56693195 1.04593251\n",
      "  0.28726285 0.52533575 0.33994304 0.54794823 0.7944395  0.52549067\n",
      "  0.11179508 0.95212228 0.37436044 0.57534948 0.56348657 0.44925321\n",
      "  0.20033262 0.78742033 0.19678969 0.34734607 0.47985191 1.08021633\n",
      "  0.52755405 0.218085   0.         0.30429234 0.32707012 1.12182071\n",
      "  0.93686687 0.60386877 0.69657646 0.67349005 0.9833487  0.74378956\n",
      "  0.93223007 0.57356674 0.59148189 0.61458117 0.98315835 1.10340667\n",
      "  0.55359411 0.07518444 0.45337991 0.35387103 0.24382461 0.79538138\n",
      "  0.93654104 0.98120166 0.64915482 1.016427   0.29576756 0.8563404\n",
      "  0.48095971 0.38944709 0.81103588 0.96066366 0.26548136 0.68099652\n",
      "  0.2352108  0.42017643 0.85286032 0.36684682]\n",
      " [0.59920441 0.06779562 0.31606944 0.57779576 0.35648014 0.60692855\n",
      "  0.35809669 0.17410705 0.226231   0.51535083 0.61622328 0.61517715\n",
      "  0.27897006 0.31069978 0.20715041 0.18839993 0.58630987 0.58919656\n",
      "  0.40210243 0.42673585 0.15177983 0.74264665 0.4847729  0.37131653\n",
      "  0.23970961 0.47304188 0.06398278 0.22233429 0.23261368 0.25047831\n",
      "  0.23621987 0.80594684 0.06292196 0.23455192 0.30077766 0.7117372\n",
      "  0.10612874 0.71053154 0.28501162 0.67429438 0.37384963 0.78917677\n",
      "  0.27805264 0.27830328 0.19591755 0.31488059 0.51371427 0.22862044\n",
      "  0.20282881 0.65563495 0.08925334 0.57789226 0.62114539 0.33266736\n",
      "  0.27286266 0.54481015 0.10948574 0.05379322 0.31481769 0.82574585\n",
      "  0.26687016 0.10937636 0.30429234 0.         0.12006454 0.86857529\n",
      "  0.65931227 0.37446442 0.50033871 0.38646757 0.6934672  0.51971098\n",
      "  0.6290231  0.58083086 0.39382309 0.36112785 0.70183748 0.85798835\n",
      "  0.25853482 0.29064142 0.24315811 0.20667735 0.34590134 0.49388192\n",
      "  0.66988232 0.73668626 0.441823   0.73757695 0.30923471 0.64247181\n",
      "  0.26148429 0.32150862 0.51812145 0.70377621 0.04581069 0.37759535\n",
      "  0.19289183 0.52699916 0.5522844  0.20875546]\n",
      " [0.71413677 0.16065013 0.42658209 0.68836008 0.23648424 0.72214382\n",
      "  0.45099457 0.26867421 0.13845223 0.49395144 0.72459855 0.6901934\n",
      "  0.34667612 0.33076007 0.31965657 0.30817758 0.70545608 0.62613146\n",
      "  0.28520465 0.31652063 0.16078386 0.82424501 0.4510004  0.31211244\n",
      "  0.27648227 0.49586404 0.12852208 0.25953838 0.14953829 0.31674568\n",
      "  0.13546497 0.88885726 0.09437975 0.31438172 0.21173512 0.77510743\n",
      "  0.15798925 0.79298797 0.34185319 0.77301004 0.2675556  0.8682733\n",
      "  0.18583888 0.3795163  0.07839459 0.41941564 0.468428   0.29136375\n",
      "  0.21533982 0.63378974 0.08782463 0.69419666 0.7315578  0.45272938\n",
      "  0.21584912 0.46613506 0.17433467 0.15993028 0.19870164 0.90565532\n",
      "  0.20051828 0.11314053 0.32707012 0.12006454 0.         0.94860331\n",
      "  0.60996669 0.47750241 0.60910005 0.35118019 0.74538002 0.61980964\n",
      "  0.62820503 0.69672337 0.50505283 0.45436997 0.76348318 0.9424284\n",
      "  0.24327361 0.2857263  0.13842941 0.0875196  0.2773046  0.48791055\n",
      "  0.74461402 0.82341523 0.54929015 0.68955698 0.21748916 0.743352\n",
      "  0.16273379 0.20633848 0.57009055 0.78427642 0.10514664 0.40785565\n",
      "  0.29565577 0.62685503 0.5875014  0.08871157]\n",
      " [0.4872426  0.80303463 0.86051841 0.92182153 1.13296034 0.49070462\n",
      "  0.51384372 0.69461997 0.92616723 0.7191774  0.96322498 0.2597854\n",
      "  0.6021305  1.13042854 0.68735689 0.77951633 0.59750307 0.43056716\n",
      "  1.20459832 1.08519021 0.79730054 0.12620062 0.77243454 1.23985779\n",
      "  0.6842097  0.5525219  0.92375373 1.04296301 1.09330892 1.01207478\n",
      "  1.08406348 0.06763276 0.93149713 0.97273661 1.15916186 0.21823752\n",
      "  0.79091967 0.15868347 1.05143403 0.26556274 1.03512406 0.08047446\n",
      "  1.13382597 0.59974939 1.01927376 0.5739792  0.82207175 0.65758285\n",
      "  1.05192088 0.72429256 0.86086198 0.83313723 0.94063258 0.7109867\n",
      "  1.14138674 0.9827009  0.94580967 0.81478894 1.05079228 0.0429596\n",
      "  0.88183883 0.97705628 1.12182071 0.86857529 0.94860331 0.\n",
      "  0.87218189 0.51829026 0.45411646 0.78574986 0.29601657 0.3857502\n",
      "  0.61195142 0.84210309 0.54224249 0.5112531  0.23466182 0.04634333\n",
      "  0.77132664 1.13927304 0.97001954 1.02186412 1.21368712 0.65783299\n",
      "  0.20689788 0.14430946 0.48440788 0.89133199 1.16564468 0.30243229\n",
      "  0.96033922 1.1391729  0.41526794 0.16486393 0.91383035 0.58892636\n",
      "  0.89135365 1.00236691 0.45848701 1.0144865 ]\n",
      " [0.96990902 0.62168189 0.93829404 1.17777946 0.5868575  0.97942846\n",
      "  0.6582662  0.62220346 0.47590027 0.18994333 1.22281626 0.67213101\n",
      "  0.54326524 0.94070198 0.70306762 0.78089048 1.02946133 0.44776509\n",
      "  0.65732028 0.43792149 0.51086165 0.79328335 0.18378378 0.87351958\n",
      "  0.47864032 0.36792628 0.71172117 0.86548897 0.71853953 0.90863695\n",
      "  0.67976172 0.84674487 0.6854498  0.89371853 0.74644945 0.65539102\n",
      "  0.56730214 0.77774515 0.94061928 0.87166086 0.43009529 0.8080852\n",
      "  0.72418263 0.67168564 0.61438808 0.70371665 0.14572753 0.53589113\n",
      "  0.82507195 0.15378852 0.5731464  1.14307822 1.21901051 0.87277099\n",
      "  0.79767773 0.20904778 0.76289077 0.64193115 0.51262516 0.83980843\n",
      "  0.40948881 0.71987616 0.93686687 0.65931227 0.60996669 0.87218189\n",
      "  0.         0.72222483 0.83659608 0.274374   0.57621749 0.78146409\n",
      "  0.26132964 1.14919427 0.790748   0.66113991 0.63901664 0.89612541\n",
      "  0.40520132 0.89301981 0.49646291 0.60346988 0.8310507  0.25274128\n",
      "  0.7014691  0.82518575 0.78952499 0.07960705 0.74376943 0.86680894\n",
      "  0.46828902 0.64864507 0.50416682 0.76011877 0.68412055 0.41184867\n",
      "  0.84178195 1.16138558 0.42935335 0.58925777]\n",
      " [0.26444473 0.3175689  0.36050829 0.51077074 0.69950584 0.27380408\n",
      "  0.06425561 0.20931975 0.50861504 0.53289813 0.55792287 0.29400484\n",
      "  0.19276255 0.61253089 0.17381953 0.26124165 0.3076123  0.40088218\n",
      "  0.75926501 0.71027545 0.36122568 0.39364756 0.54730143 0.73788011\n",
      "  0.2874052  0.37424318 0.42054085 0.52609515 0.6070538  0.4940365\n",
      "  0.60780383 0.45183729 0.43532489 0.4549968  0.67517979 0.41375627\n",
      "  0.32769081 0.36115116 0.53365535 0.30043984 0.65325538 0.44367045\n",
      "  0.65207728 0.09801519 0.55521157 0.05980629 0.59879508 0.22970884\n",
      "  0.53942519 0.63651533 0.39666411 0.44993332 0.54519291 0.2206736\n",
      "  0.64228258 0.71552544 0.43464127 0.32277107 0.63266732 0.47706902\n",
      "  0.4955281  0.47673727 0.60386877 0.37446442 0.47750241 0.51829026\n",
      "  0.72222483 0.         0.13798621 0.49183457 0.43339004 0.14583177\n",
      "  0.55160575 0.45765315 0.07043139 0.06169135 0.41024852 0.49969764\n",
      "  0.398261   0.62492248 0.5471623  0.56210952 0.71693912 0.47439999\n",
      "  0.34327115 0.37738515 0.07804014 0.78304364 0.68346977 0.26802105\n",
      "  0.54935166 0.68295615 0.30060386 0.3593562  0.41645372 0.31045524\n",
      "  0.37332349 0.54714906 0.38104044 0.55897499]\n",
      " [0.13370775 0.44844993 0.4096627  0.48600083 0.83507047 0.14326817\n",
      "  0.19052397 0.34369664 0.64632239 0.64676439 0.53098607 0.28976836\n",
      "  0.32670091 0.70547703 0.29345218 0.35712887 0.20723425 0.46518076\n",
      "  0.89291887 0.84822813 0.49890722 0.34074671 0.66851011 0.85274477\n",
      "  0.42348246 0.47461001 0.53982455 0.6248787  0.73195159 0.57936663\n",
      "  0.73617855 0.38672497 0.55865598 0.53892884 0.80011308 0.41082024\n",
      "  0.46334371 0.31140753 0.61642109 0.19961989 0.79122536 0.39067328\n",
      "  0.77810663 0.23298954 0.68734438 0.1910522  0.72138441 0.3670673\n",
      "  0.64682324 0.73637114 0.53099922 0.40700008 0.51236223 0.26038667\n",
      "  0.7602541  0.8463268  0.54605779 0.45105821 0.76983845 0.41752154\n",
      "  0.63327078 0.59672441 0.69657646 0.50033871 0.60910005 0.45411646\n",
      "  0.83659608 0.13798621 0.         0.6214858  0.45507286 0.08391291\n",
      "  0.64077831 0.41573687 0.10844425 0.186965   0.41281364 0.42548972\n",
      "  0.53444926 0.72797328 0.68446095 0.69502751 0.8353988  0.58451176\n",
      "  0.32400164 0.31028501 0.06063157 0.89195158 0.80898236 0.1617309\n",
      "  0.68713777 0.81535012 0.36844414 0.31664884 0.53956822 0.42777005\n",
      "  0.46136604 0.55265367 0.45545747 0.6926883 ]\n",
      " [0.75389051 0.3473211  0.66619133 0.91120425 0.40401121 0.76340457\n",
      "  0.43184981 0.35615878 0.23170533 0.1463791  0.95531984 0.5403098\n",
      "  0.30000812 0.67809853 0.43918833 0.50955633 0.79597519 0.37281734\n",
      "  0.4814737  0.30841413 0.23669245 0.67925675 0.10017675 0.64330561\n",
      "  0.21677408 0.23579676 0.44135325 0.59837473 0.47939136 0.63671226\n",
      "  0.44603059 0.74195306 0.41731329 0.62031367 0.52138381 0.57449559\n",
      "  0.29293687 0.65496702 0.66996827 0.70616258 0.26710685 0.70940219\n",
      "  0.49623762 0.423049   0.37396807 0.46045777 0.12894095 0.27772458\n",
      "  0.56230208 0.28350316 0.30244954 0.88318777 0.95319609 0.6114177\n",
      "  0.55634375 0.22501083 0.49216356 0.36755866 0.31689904 0.746111\n",
      "  0.16094638 0.45541823 0.67349005 0.38646757 0.35118019 0.78574986\n",
      "  0.274374   0.49183457 0.6214858  0.         0.51488849 0.58445831\n",
      "  0.29675659 0.88871416 0.55482212 0.4352731  0.55903814 0.79645371\n",
      "  0.13088244 0.63682851 0.2656834  0.36624117 0.60281606 0.16220931\n",
      "  0.58521228 0.69821666 0.56671817 0.35164796 0.52157469 0.69110222\n",
      "  0.24133593 0.44468927 0.37118947 0.64008666 0.41408677 0.20922676\n",
      "  0.56741004 0.8888953  0.33697664 0.35266899]\n",
      " [0.55673123 0.62580808 0.79026786 0.93265874 0.89418737 0.56437544\n",
      "  0.39299553 0.5329658  0.69084718 0.42934219 0.97903038 0.16934137\n",
      "  0.41533358 0.99109864 0.56057018 0.66610343 0.65602568 0.14303306\n",
      "  0.96980251 0.82239492 0.5849472  0.23324268 0.48623016 1.05445699\n",
      "  0.46890561 0.27998941 0.75576322 0.89989671 0.89489941 0.89108071\n",
      "  0.87681424 0.27634573 0.75369156 0.85619255 0.95549954 0.08308949\n",
      "  0.59708033 0.22906128 0.93171927 0.3691596  0.77714029 0.23617464\n",
      "  0.92913233 0.47368567 0.80588718 0.46835057 0.53323699 0.46502454\n",
      "  0.89373706 0.42863388 0.6598472  0.85961695 0.96267556 0.65406301\n",
      "  0.95564423 0.69568826 0.79022377 0.64270549 0.80791288 0.26511713\n",
      "  0.63540303 0.80143362 0.9833487  0.6934672  0.74538002 0.29601657\n",
      "  0.57621749 0.43339004 0.45507286 0.51488849 0.         0.37167878\n",
      "  0.31602278 0.86816053 0.49018529 0.39239758 0.06806975 0.32214314\n",
      "  0.53054405 0.98261815 0.73431196 0.80519808 1.02201192 0.37160284\n",
      "  0.16026283 0.274788   0.44717347 0.5964755  0.95997597 0.38413899\n",
      "  0.71930033 0.91400826 0.17597889 0.211006   0.73880288 0.34400758\n",
      "  0.77561948 0.97968127 0.17792568 0.79532277]\n",
      " [0.1972268  0.46114559 0.47516679 0.56891378 0.83610572 0.20619134\n",
      "  0.17255887 0.35121708 0.63893555 0.5929919  0.61419822 0.20585548\n",
      "  0.30444618 0.75256963 0.31928128 0.40032028 0.28644238 0.38973512\n",
      "  0.89867427 0.83314633 0.49315081 0.26640782 0.62090592 0.88361712\n",
      "  0.40280585 0.41465624 0.56637046 0.66799476 0.75213965 0.63038306\n",
      "  0.75167502 0.31817777 0.5809184  0.59047209 0.82018008 0.32711197\n",
      "  0.4663278  0.23546272 0.66899909 0.15466514 0.77695757 0.31700344\n",
      "  0.79678741 0.24166293 0.69679696 0.20562314 0.67461018 0.35279991\n",
      "  0.68383055 0.67243384 0.53669764 0.49082347 0.59592685 0.32595283\n",
      "  0.78811429 0.80895353 0.57966634 0.46749702 0.76511085 0.34676807\n",
      "  0.61688446 0.62255838 0.74378956 0.51971098 0.61980964 0.3857502\n",
      "  0.78146409 0.14583177 0.08391291 0.58445831 0.37167878 0.\n",
      "  0.57236476 0.49954149 0.15657498 0.16891774 0.32892784 0.36200815\n",
      "  0.5118859  0.76838443 0.67952661 0.70293091 0.86276238 0.5287833\n",
      "  0.24119792 0.24171789 0.09867499 0.8324742  0.82829987 0.12354617\n",
      "  0.6787351  0.82392855 0.29640317 0.23853734 0.56209605 0.38122581\n",
      "  0.51012559 0.63149117 0.3836387  0.69893079]\n",
      " [0.76886057 0.57167483 0.84324427 1.05084132 0.69942526 0.77802984\n",
      "  0.48914931 0.5257177  0.52437688 0.1579316  1.09779894 0.42871942\n",
      "  0.41372983 0.93814597 0.59205367 0.69002484 0.84546079 0.19773586\n",
      "  0.77666571 0.58661498 0.48210659 0.53931101 0.22084288 0.93295114\n",
      "  0.39564742 0.1814739  0.69144281 0.85124741 0.76742998 0.87182923\n",
      "  0.73715306 0.58963027 0.67522441 0.84663174 0.81431537 0.39667924\n",
      "  0.5232459  0.5268367  0.90960092 0.63674111 0.55485316 0.5502472\n",
      "  0.78860846 0.53231981 0.66381398 0.55249389 0.25126289 0.43333902\n",
      "  0.82532874 0.11315179 0.56066134 0.99896056 1.08856213 0.74314911\n",
      "  0.84163624 0.40951257 0.73839263 0.59268232 0.61290753 0.5807593\n",
      "  0.45496596 0.71939504 0.93223007 0.6290231  0.62820503 0.61195142\n",
      "  0.26132964 0.55160575 0.64077831 0.29675659 0.31602278 0.57236476\n",
      "  0.         1.00628018 0.6218816  0.49104388 0.38045973 0.63751835\n",
      "  0.38507688 0.90738307 0.56109993 0.65764802 0.89372525 0.14056674\n",
      "  0.45064216 0.57451933 0.60473986 0.28230559 0.81528637 0.63809324\n",
      "  0.53765355 0.74138153 0.2767822  0.50876826 0.66679797 0.27062126\n",
      "  0.77800146 1.06118193 0.19088484 0.64463739]\n",
      " [0.35553493 0.57526596 0.27575335 0.08631828 0.92618918 0.35300913\n",
      "  0.51792689 0.53295675 0.80174648 0.96631584 0.12173193 0.7052475\n",
      "  0.60821395 0.58122801 0.4495875  0.39804437 0.2467795  0.85703133\n",
      "  0.95532367 1.00715729 0.67970711 0.74397796 0.96627491 0.79520236\n",
      "  0.67311306 0.82602679 0.57410989 0.54477379 0.74961844 0.46460927\n",
      "  0.77574778 0.77819567 0.60737825 0.43540873 0.8066267  0.82655258\n",
      "  0.62226805 0.71791999 0.47977603 0.57708639 0.95324248 0.79118546\n",
      "  0.79504754 0.48045127 0.76394837 0.45468816 1.01207256 0.61392707\n",
      "  0.59570852 1.08370051 0.6595106  0.00897234 0.09860641 0.27733893\n",
      "  0.73383334 1.09348062 0.54303563 0.56184243 0.89487441 0.81175385\n",
      "  0.82566508 0.61737157 0.57356674 0.58083086 0.69672337 0.84210309\n",
      "  1.14919427 0.45765315 0.41573687 0.88871416 0.86816053 0.49954149\n",
      "  1.00628018 0.         0.38931345 0.5163126  0.82843767 0.80489464\n",
      "  0.76605533 0.63889359 0.82340405 0.77712587 0.79911734 0.91488694\n",
      "  0.73908789 0.70601252 0.42257733 1.21757184 0.8178252  0.54159989\n",
      "  0.83976552 0.87476275 0.75665112 0.72601435 0.59291215 0.74928236\n",
      "  0.40984607 0.2047734  0.8385815  0.78259339]\n",
      " [0.21331528 0.34475986 0.31975002 0.44571176 0.73445416 0.22210086\n",
      "  0.13429639 0.24471374 0.55196587 0.60183265 0.49267841 0.33985748\n",
      "  0.25485306 0.60034059 0.18668408 0.24986419 0.2413158  0.46779852\n",
      "  0.78988003 0.75783481 0.40534656 0.42161464 0.61427422 0.7443095\n",
      "  0.34476268 0.44466878 0.43171633 0.51818329 0.6246087  0.47601046\n",
      "  0.63000405 0.47470432 0.45122094 0.43581383 0.69270256 0.46230212\n",
      "  0.36456898 0.39001064 0.51404568 0.30141739 0.700608   0.47226722\n",
      "  0.67102275 0.13924035 0.58344356 0.09727146 0.66512523 0.28457383\n",
      "  0.53879475 0.7068483  0.42985011 0.38141746 0.47874571 0.17184777\n",
      "  0.65187683 0.77691211 0.43765027 0.34581682 0.67280067 0.50292641\n",
      "  0.54590054 0.48862969 0.59148189 0.39382309 0.50505283 0.54224249\n",
      "  0.790748   0.07043139 0.10844425 0.55482212 0.49018529 0.15657498\n",
      "  0.6218816  0.38931345 0.         0.13192346 0.46066045 0.51833032\n",
      "  0.45431643 0.62065743 0.5881383  0.59174415 0.72702791 0.5440519\n",
      "  0.38459084 0.3982888  0.05837067 0.85247608 0.7017152  0.26493783\n",
      "  0.59310423 0.71135825 0.36739904 0.3913122  0.43212792 0.37940735\n",
      "  0.3565864  0.49041859 0.44950327 0.59015648]\n",
      " [0.31863034 0.29862581 0.39810647 0.56631268 0.66736348 0.32813854\n",
      "  0.00370206 0.18793604 0.47024712 0.471625   0.61351642 0.26926046\n",
      "  0.14025356 0.6229822  0.17872832 0.27937046 0.36834584 0.34648922\n",
      "  0.73066428 0.66670555 0.32423731 0.38507895 0.48734287 0.73095901\n",
      "  0.23809064 0.31289266 0.41352472 0.53392483 0.59139041 0.51096007\n",
      "  0.58794228 0.44694413 0.4237065  0.47353118 0.65890495 0.38285959\n",
      "  0.29883565 0.35257049 0.55135596 0.31926129 0.61013867 0.43338393\n",
      "  0.63472834 0.0892805  0.53041471 0.0759733  0.53927328 0.18482494\n",
      "  0.54074289 0.57492496 0.36968045 0.508777   0.60191186 0.26761934\n",
      "  0.63337474 0.65983783 0.43458507 0.30762398 0.59625296 0.46885113\n",
      "  0.45064249 0.46794784 0.61458117 0.36112785 0.45436997 0.5112531\n",
      "  0.66113991 0.06169135 0.186965   0.4352731  0.39239758 0.16891774\n",
      "  0.49104388 0.5163126  0.13192346 0.         0.37724591 0.49794297\n",
      "  0.34877173 0.62838148 0.51064986 0.53594766 0.70694248 0.4127953\n",
      "  0.32210725 0.3760693  0.1315717  0.72149767 0.66647956 0.29149278\n",
      "  0.51023237 0.65683978 0.24712258 0.34769481 0.40545015 0.24929132\n",
      "  0.39159554 0.59546892 0.32423704 0.53142353]\n",
      " [0.50506188 0.63409207 0.77060182 0.89648164 0.92588756 0.51220677\n",
      "  0.3784627  0.53483604 0.72026963 0.48487721 0.9422253  0.12327898\n",
      "  0.42318352 0.99119689 0.5523997  0.65595198 0.60790284 0.19605519\n",
      "  1.00026251 0.86372974 0.60484906 0.16520182 0.53918663 1.06850832\n",
      "  0.48842102 0.32345403 0.76250912 0.90043707 0.91233989 0.88541874\n",
      "  0.89711507 0.20955083 0.76349127 0.84903508 0.97498525 0.01643972\n",
      "  0.61055898 0.16229469 0.92602553 0.3075336  0.8162298  0.16984153\n",
      "  0.9488369  0.46332277 0.82790928 0.45198248 0.58810582 0.47603302\n",
      "  0.898623   0.49349959 0.67647199 0.81973313 0.92452224 0.62932949\n",
      "  0.96932666 0.74943691 0.79352096 0.64954195 0.84087914 0.20079979\n",
      "  0.66896991 0.81094038 0.98315835 0.70183748 0.76348318 0.23466182\n",
      "  0.63901664 0.41024852 0.41281364 0.55903814 0.06806975 0.32892784\n",
      "  0.38045973 0.82843767 0.46066045 0.37724591 0.         0.257208\n",
      "  0.56099375 0.98762295 0.76413235 0.82837165 1.03789911 0.42434707\n",
      "  0.09865908 0.20727086 0.41279284 0.66204332 0.98015145 0.32571522\n",
      "  0.75113261 0.94074256 0.19782624 0.14451171 0.74759019 0.37396317\n",
      "  0.7674613  0.95086558 0.22556571 0.81932999]\n",
      " [0.44941589 0.79348958 0.83428586 0.88565647 1.13321768 0.45237122\n",
      "  0.5007556  0.68390565 0.92677024 0.73754443 0.9263404  0.26067013\n",
      "  0.59732768 1.11210012 0.67126131 0.76013522 0.55920584 0.45062318\n",
      "  1.2036267  1.09191242 0.79423013 0.1201056  0.7887574  1.22869793\n",
      "  0.68311597 0.56608567 0.91146269 1.02573651 1.08528546 0.99169733\n",
      "  1.07780059 0.05509559 0.92082399 0.95198615 1.15180694 0.2409014\n",
      "  0.78444556 0.14984799 1.03061051 0.23120853 1.04069511 0.08874139\n",
      "  1.12679795 0.58519629 1.01461326 0.55694731 0.83945737 0.65273164\n",
      "  1.03706281 0.75044499 0.85499633 0.79594538 0.90325205 0.68464848\n",
      "  1.13075747 0.99861118 0.9312834  0.80423394 1.05241551 0.0572534\n",
      "  0.8853292  0.9656518  1.10340667 0.85798835 0.9424284  0.04634333\n",
      "  0.89612541 0.49969764 0.42548972 0.79645371 0.32214314 0.36200815\n",
      "  0.63751835 0.80489464 0.51833032 0.49794297 0.257208   0.\n",
      "  0.77443534 1.12365509 0.97042221 1.01785396 1.20379559 0.67484538\n",
      "  0.21160183 0.12244204 0.46005288 0.9185928  1.15865166 0.26907783\n",
      "  0.96202918 1.13632679 0.42531542 0.16070164 0.90282288 0.59534609\n",
      "  0.87114897 0.96933244 0.47588421 1.01103594]\n",
      " [0.66257605 0.21649015 0.53643411 0.7845855  0.36489558 0.67188052\n",
      "  0.3451043  0.23392704 0.16032307 0.25801991 0.82805472 0.51378961\n",
      "  0.20863682 0.55884949 0.31750533 0.38063188 0.69212223 0.39907218\n",
      "  0.43964286 0.32385773 0.10704236 0.65443735 0.22674741 0.55148627\n",
      "  0.11097266 0.26156283 0.31633884 0.4755828  0.3858748  0.50894803\n",
      "  0.35938751 0.71935481 0.29538249 0.49096571 0.43828742 0.57475703\n",
      "  0.16212353 0.62636832 0.54338822 0.64921346 0.26939083 0.69170266\n",
      "  0.41195374 0.31648096 0.28583699 0.35723654 0.25981706 0.16975597\n",
      "  0.44408721 0.39880958 0.17923902 0.76093456 0.82696644 0.48977571\n",
      "  0.45789563 0.32939563 0.3663082  0.23683591 0.28031218 0.72944103\n",
      "  0.11095633 0.33712884 0.55359411 0.25853482 0.24327361 0.77132664\n",
      "  0.40520132 0.398261   0.53444926 0.13088244 0.53054405 0.5118859\n",
      "  0.38507688 0.76605533 0.45431643 0.34877173 0.56099375 0.77443534\n",
      "  0.         0.52365179 0.20379211 0.28220677 0.51380834 0.24508226\n",
      "  0.56473458 0.66496851 0.47597634 0.48208298 0.44087527 0.62825768\n",
      "  0.19021505 0.38435513 0.36325221 0.61392797 0.28979592 0.18726349\n",
      "  0.43660682 0.75876133 0.36015852 0.27067025]\n",
      " [0.79481709 0.35753829 0.37970085 0.59586647 0.39348346 0.80043299\n",
      "  0.6259414  0.4529519  0.41718503 0.77860211 0.61696517 0.89369743\n",
      "  0.56729222 0.0715304  0.45239669 0.37087902 0.74592189 0.87973424\n",
      "  0.3820785  0.53933422 0.42616044 1.0132206  0.73671753 0.15709061\n",
      "  0.52844689 0.76070677 0.22724546 0.10510656 0.1928663  0.17573886\n",
      "  0.23530036 1.07416064 0.23483294 0.21072003 0.21185934 0.99663646\n",
      "  0.39377589 0.98064809 0.1605382  0.92043833 0.50728302 1.06175821\n",
      "  0.21622963 0.53955126 0.28412844 0.56680901 0.75325076 0.51876218\n",
      "  0.08901382 0.91889939 0.34686635 0.6401263  0.63400375 0.49144164\n",
      "  0.12735313 0.73391211 0.19466109 0.33998699 0.41838902 1.09705321\n",
      "  0.48428869 0.18861927 0.07518444 0.29064142 0.2857263  1.13927304\n",
      "  0.89301981 0.62492248 0.72797328 0.63682851 0.98261815 0.76838443\n",
      "  0.90738307 0.63889359 0.62065743 0.62838148 0.98762295 1.12365509\n",
      "  0.52365179 0.         0.4011851  0.29717428 0.16903846 0.76833786\n",
      "  0.94788784 1.00121583 0.67699663 0.97259169 0.22225186 0.88492492\n",
      "  0.42934379 0.31927493 0.80790884 0.97607603 0.2467855  0.66647764\n",
      "  0.27225428 0.49300739 0.84264281 0.31087301]\n",
      " [0.80136177 0.2561829  0.55857423 0.82057639 0.1629411  0.81002453\n",
      "  0.50699439 0.34346766 0.04395673 0.41164765 0.85828103 0.71076912\n",
      "  0.38045787 0.45581023 0.4132464  0.42727461 0.80741866 0.60153092\n",
      "  0.23613095 0.18375325 0.186536   0.85036129 0.35841499 0.38122791\n",
      "  0.28787778 0.46240208 0.26589707 0.39303817 0.2221801  0.45443801\n",
      "  0.1845158  0.91554741 0.23219624 0.45281016 0.25677051 0.77764996\n",
      "  0.224151   0.82106197 0.47788153 0.82666333 0.13100083 0.88986456\n",
      "  0.23233815 0.45183388 0.11826342 0.49427323 0.36331169 0.32792848\n",
      "  0.34383989 0.54485175 0.16703003 0.8202412  0.8639074  0.566483\n",
      "  0.30126562 0.33404475 0.3127409  0.26513111 0.08564311 0.92767335\n",
      "  0.10640907 0.24912528 0.45337991 0.24315811 0.13842941 0.97001954\n",
      "  0.49646291 0.5471623  0.68446095 0.2656834  0.73431196 0.67952661\n",
      "  0.56109993 0.82340405 0.5881383  0.51064986 0.76413235 0.97042221\n",
      "  0.20379211 0.4011851  0.         0.10700701 0.33970974 0.42261834\n",
      "  0.76312617 0.85707794 0.62384797 0.57555721 0.25635064 0.80130367\n",
      "  0.02831295 0.18305228 0.56630636 0.8097617  0.24077893 0.39091956\n",
      "  0.43072659 0.76381558 0.56275757 0.09279488]\n",
      " [0.80141501 0.2469899  0.50397359 0.76416335 0.15047252 0.80946441\n",
      "  0.53248101 0.35280089 0.13454343 0.51259118 0.79848897 0.76234525\n",
      "  0.42052756 0.35547134 0.40686869 0.39368302 0.79274742 0.6790529\n",
      "  0.19813773 0.2535984  0.22491489 0.89876135 0.46198144 0.27710084\n",
      "  0.34041787 0.54336088 0.2032291  0.30143853 0.11531854 0.37094761\n",
      "  0.07980585 0.96373612 0.16974769 0.37629352 0.15695471 0.84081008\n",
      "  0.23715334 0.86804978 0.38913369 0.85517949 0.21350282 0.94139296\n",
      "  0.13101224 0.46412179 0.0146476  0.50469031 0.46950472 0.36515132\n",
      "  0.24806006 0.64830532 0.16630066 0.77500133 0.80707005 0.53885857\n",
      "  0.19430684 0.43682057 0.24079787 0.24730318 0.12986956 0.97901866\n",
      "  0.2053953  0.16821284 0.35387103 0.20667735 0.0875196  1.02186412\n",
      "  0.60346988 0.56210952 0.69502751 0.36624117 0.80519808 0.70293091\n",
      "  0.65764802 0.77712587 0.59174415 0.53594766 0.82837165 1.01785396\n",
      "  0.28220677 0.29717428 0.10700701 0.         0.23665315 0.51756327\n",
      "  0.81625905 0.90032157 0.63496398 0.68255261 0.15885725 0.8264202\n",
      "  0.135218   0.12099892 0.6320853  0.85846085 0.18476414 0.46229436\n",
      "  0.37054035 0.694922   0.64009744 0.01421213]\n",
      " [0.91887557 0.41065717 0.53085621 0.76103192 0.26858036 0.9254708\n",
      "  0.70394119 0.51990349 0.37112293 0.7491885  0.78401667 0.95830811\n",
      "  0.61654632 0.23918272 0.54446622 0.48594118 0.88308268 0.90332446\n",
      "  0.23387822 0.42866711 0.4380614  1.08797665 0.69777737 0.04278535\n",
      "  0.55325601 0.77171856 0.29656591 0.25435662 0.12843261 0.33514883\n",
      "  0.15685406 1.15155307 0.2832371  0.36409485 0.08468669 1.04896927\n",
      "  0.42747087 1.05598893 0.32702914 1.01737181 0.41130492 1.13397616\n",
      "  0.1074691  0.62276797 0.22991384 0.65713985 0.70237326 0.56237758\n",
      "  0.20641023 0.88423214 0.36220174 0.79966486 0.80012497 0.62244728\n",
      "  0.07515792 0.64843109 0.29194554 0.39959801 0.32220278 1.17079044\n",
      "  0.44188973 0.24020461 0.24382461 0.34590134 0.2773046  1.21368712\n",
      "  0.8310507  0.71693912 0.8353988  0.60281606 1.02201192 0.86276238\n",
      "  0.89372525 0.79911734 0.72702791 0.70694248 1.03789911 1.20379559\n",
      "  0.51380834 0.16903846 0.33970974 0.23665315 0.         0.75338343\n",
      "  1.01302591 1.08258238 0.77945548 0.90900166 0.08863112 0.98432749\n",
      "  0.36667881 0.19349897 0.84635783 1.04882378 0.30159846 0.68503451\n",
      "  0.4078748  0.66131974 0.86463613 0.25014771]\n",
      " [0.71757557 0.43970621 0.72856158 0.95142527 0.56600909 0.72707818\n",
      "  0.41014621 0.40714089 0.38486434 0.06584588 0.99769734 0.43271397\n",
      "  0.3076532  0.80104843 0.48084968 0.57210858 0.78008367 0.22922918\n",
      "  0.64349838 0.4654995  0.34462286 0.56352484 0.11488513 0.79247576\n",
      "  0.26839769 0.11741862 0.55529852 0.7153552  0.62691183 0.74020876\n",
      "  0.59693651 0.62222401 0.53753654 0.71715069 0.6743826  0.44056772\n",
      "  0.3891429  0.54380954 0.77703726 0.62405215 0.42781096 0.5861769\n",
      "  0.64856934 0.4344672  0.52350094 0.46208689 0.16462068 0.31479234\n",
      "  0.68735372 0.17185433 0.42218117 0.90819345 0.99106433 0.64281795\n",
      "  0.70107887 0.32508989 0.60335066 0.46087642 0.47870305 0.62100826\n",
      "  0.31622573 0.58090588 0.79538138 0.49388192 0.48791055 0.65783299\n",
      "  0.25274128 0.47439999 0.58451176 0.16220931 0.37160284 0.5287833\n",
      "  0.14056674 0.91488694 0.5440519  0.4127953  0.42434707 0.67484538\n",
      "  0.24508226 0.76833786 0.42261834 0.51756327 0.75338343 0.\n",
      "  0.46914294 0.59011316 0.5389169  0.30880667 0.67557253 0.6169158\n",
      "  0.40009396 0.60421589 0.25992859 0.52711723 0.52998794 0.16599194\n",
      "  0.65227849 0.95005945 0.19936429 0.50467797]\n",
      " [0.40844501 0.60320923 0.70171842 0.8099313  0.92606637 0.41531582\n",
      "  0.32410606 0.49727286 0.7192703  0.53337545 0.85498758 0.05473257\n",
      "  0.39800014 0.94489964 0.5008321  0.59992198 0.51305923 0.25439687\n",
      "  0.9978194  0.88057455 0.59143419 0.09469969 0.58161212 1.04077643\n",
      "  0.47765528 0.35710913 0.72741016 0.8554407  0.89078212 0.83251288\n",
      "  0.87993498 0.1568203  0.73264837 0.79455352 0.95587946 0.09135232\n",
      "  0.5875849  0.07638047 0.87275404 0.20940123 0.82972164 0.12696982\n",
      "  0.93028205 0.41124788 0.81406036 0.39236094 0.63340484 0.4532504\n",
      "  0.85946976 0.56317536 0.6567894  0.73027923 0.83618942 0.55609408\n",
      "  0.94181699 0.79046859 0.75330594 0.61633177 0.84395869 0.1647297\n",
      "  0.67540396 0.77908834 0.93654104 0.66988232 0.74461402 0.20689788\n",
      "  0.7014691  0.34327115 0.32400164 0.58521228 0.16026283 0.24119792\n",
      "  0.45064216 0.73908789 0.38459084 0.32210725 0.09865908 0.21160183\n",
      "  0.56473458 0.94788784 0.76312617 0.81625905 1.01302591 0.46914294\n",
      "  0.         0.12402145 0.33221941 0.73248213 0.96202735 0.22708903\n",
      "  0.75350348 0.93293762 0.21448564 0.05865365 0.7155407  0.38393194\n",
      "  0.71252706 0.87104801 0.27322681 0.80859333]\n",
      " [0.35471101 0.67271019 0.71622917 0.78376722 1.01938208 0.35938356\n",
      "  0.37894801 0.5627261  0.81375727 0.65494964 0.82625675 0.15861071\n",
      "  0.48024917 0.98987995 0.54882434 0.638084   0.46493792 0.37840611\n",
      "  1.08847181 0.98603557 0.6779513  0.04691657 0.7012151  1.10701618\n",
      "  0.56920109 0.47596584 0.78955232 0.90335385 0.96501494 0.87000463\n",
      "  0.95857667 0.07668397 0.7994442  0.83042186 1.03185848 0.19404764\n",
      "  0.66548441 0.04768478 0.90909038 0.13117032 0.9333886  0.08582198\n",
      "  1.00705789 0.46293767 0.89658289 0.43450932 0.75366835 0.53537412\n",
      "  0.91466577 0.68714791 0.73632985 0.69704291 0.80460071 0.56668276\n",
      "  1.00928971 0.90866006 0.80892997 0.68298977 0.94020596 0.10748801\n",
      "  0.77584656 0.84398601 0.98120166 0.73668626 0.82341523 0.14430946\n",
      "  0.82518575 0.37738515 0.31028501 0.69821666 0.274788   0.24171789\n",
      "  0.57451933 0.70601252 0.3982888  0.3760693  0.20727086 0.12244204\n",
      "  0.66496851 1.00121583 0.85707794 0.90032157 1.08258238 0.59011316\n",
      "  0.12402145 0.         0.34030437 0.856467   1.03890835 0.1645735\n",
      "  0.85012566 1.0195845  0.33179797 0.06579888 0.7813288  0.49201172\n",
      "  0.74937054 0.86049863 0.39633235 0.89396688]\n",
      " [0.18748773 0.38867373 0.37659241 0.48549587 0.77455123 0.19694553\n",
      "  0.13493189 0.28322078 0.58579758 0.59961729 0.53186439 0.29031246\n",
      "  0.26933579 0.6579952  0.23569266 0.30668443 0.24196672 0.43887416\n",
      "  0.83274229 0.78817365 0.43838521 0.36466995 0.61795702 0.79797758\n",
      "  0.36504079 0.43283539 0.48321264 0.57510521 0.67396697 0.53415761\n",
      "  0.67723293 0.41682079 0.50092036 0.49401238 0.74216733 0.41321313\n",
      "  0.40277259 0.33337453 0.57230992 0.2438538  0.73112109 0.41531195\n",
      "  0.71983177 0.17237723 0.62744861 0.13056574 0.67023511 0.30771713\n",
      "  0.59419409 0.69583778 0.47061935 0.4142283  0.51583033 0.22761501\n",
      "  0.70438888 0.79108867 0.49185717 0.39186511 0.70921366 0.44541213\n",
      "  0.57355414 0.54001547 0.64915482 0.441823   0.54929015 0.48440788\n",
      "  0.78952499 0.07804014 0.06063157 0.56671817 0.44717347 0.09867499\n",
      "  0.60473986 0.42257733 0.05837067 0.1315717  0.41279284 0.46005288\n",
      "  0.47597634 0.67699663 0.62384797 0.63496398 0.77945548 0.5389169\n",
      "  0.33221941 0.34030437 0.         0.84752381 0.7508745  0.20793331\n",
      "  0.6266455  0.75543304 0.33939851 0.33545931 0.48186128 0.37834662\n",
      "  0.41449574 0.53916508 0.42470198 0.6324633 ]\n",
      " [1.02436987 0.69848119 1.01254868 1.24875531 0.66159777 1.03382032\n",
      "  0.71880735 0.69440349 0.55544614 0.25173051 1.29418151 0.7080382\n",
      "  0.60973996 1.02028196 0.77410765 0.85490116 1.08886614 0.47845173\n",
      "  0.73055112 0.50927878 0.58833877 0.8216135  0.25739637 0.95155675\n",
      "  0.5506076  0.41808498 0.79061688 0.94483633 0.79750711 0.98726608\n",
      "  0.7584724  0.87149765 0.76462983 0.97178785 0.82434184 0.67813868\n",
      "  0.64416253 0.80878537 1.01954379 0.91281339 0.50520094 0.83187827\n",
      "  0.80237008 0.73811499 0.69359852 0.76831926 0.2239528  0.60627365\n",
      "  0.90463201 0.16933433 0.65189567 1.21123163 1.28957233 0.94221917\n",
      "  0.87666342 0.27639025 0.84174513 0.71891237 0.5893634  0.86159236\n",
      "  0.48908955 0.79934398 1.016427   0.73757695 0.68955698 0.89133199\n",
      "  0.07960705 0.78304364 0.89195158 0.35164796 0.5964755  0.8324742\n",
      "  0.28230559 1.21757184 0.85247608 0.72149767 0.66204332 0.9185928\n",
      "  0.48208298 0.97259169 0.57555721 0.68255261 0.90900166 0.30880667\n",
      "  0.73248213 0.856467   0.84752381 0.         0.82142381 0.91084798\n",
      "  0.5473381  0.72504003 0.54616876 0.79078038 0.76305641 0.47326393\n",
      "  0.91858009 1.23572437 0.46570388 0.66834173]\n",
      " [0.90241464 0.36795788 0.54348129 0.7883284  0.18233961 0.9096394\n",
      "  0.66324917 0.47867063 0.29092511 0.66779592 0.81555714 0.90756217\n",
      "  0.56403668 0.29330618 0.51553193 0.47294613 0.87704307 0.83632249\n",
      "  0.15988096 0.34091121 0.37552365 1.04095052 0.61465217 0.13139288\n",
      "  0.49201098 0.70162477 0.27276012 0.28161647 0.07715038 0.36376646\n",
      "  0.08316935 1.10537127 0.25052018 0.38529451 0.01132801 0.99200623\n",
      "  0.37472958 1.00950126 0.36521863 0.98266832 0.32267502 1.08538552\n",
      "  0.03185461 0.58663866 0.15535703 0.62400831 0.61700775 0.50879407\n",
      "  0.22557478 0.80101816 0.30528628 0.81741014 0.8291826  0.61586861\n",
      "  0.09546605 0.55983606 0.28371675 0.36081229 0.23369601 1.12268708\n",
      "  0.36091546 0.2169522  0.29576756 0.30923471 0.21748916 1.16564468\n",
      "  0.74376943 0.68346977 0.80898236 0.52157469 0.95997597 0.82829987\n",
      "  0.81528637 0.8178252  0.7017152  0.66647956 0.98015145 1.15865166\n",
      "  0.44087527 0.22225186 0.25635064 0.15885725 0.08863112 0.67557253\n",
      "  0.96202735 1.03890835 0.7508745  0.82142381 0.         0.95136074\n",
      "  0.28239823 0.10631873 0.78552485 1.00112773 0.26960859 0.61871403\n",
      "  0.41256262 0.69808093 0.79740911 0.17114941]\n",
      " [0.19090167 0.58454057 0.57066458 0.6200199  0.95882096 0.1961461\n",
      "  0.29507813 0.4747395  0.7602097  0.68254616 0.66209819 0.21940311\n",
      "  0.4233842  0.86520925 0.43995884 0.51453268 0.30072715 0.4434563\n",
      "  1.02194252 0.95127489 0.61525809 0.20483158 0.71732482 1.00419328\n",
      "  0.52103887 0.49974022 0.68776471 0.78295328 0.87503664 0.74011611\n",
      "  0.87506621 0.23707299 0.70328838 0.69975772 0.94313896 0.31793792\n",
      "  0.58969164 0.18267747 0.77755381 0.03836661 0.89557945 0.25015896\n",
      "  0.91990721 0.36486427 0.82033299 0.32772127 0.77127964 0.4736849\n",
      "  0.80185525 0.74517382 0.66016099 0.53262829 0.6402031  0.42179863\n",
      "  0.90948047 0.91343123 0.69887098 0.59056223 0.88677014 0.27030728\n",
      "  0.73528146 0.74422874 0.8563404  0.64247181 0.743352   0.30243229\n",
      "  0.86680894 0.26802105 0.1617309  0.69110222 0.38413899 0.12354617\n",
      "  0.63809324 0.54159989 0.26493783 0.29149278 0.32571522 0.26907783\n",
      "  0.62825768 0.88492492 0.80130367 0.8264202  0.98432749 0.6169158\n",
      "  0.22708903 0.1645735  0.20793331 0.91084798 0.95136074 0.\n",
      "  0.79962346 0.94741394 0.36469062 0.1946446  0.6843851  0.4832175\n",
      "  0.62128628 0.70043996 0.44755254 0.82233304]\n",
      " [0.80640635 0.26830465 0.57754359 0.8392469  0.17494874 0.81520352\n",
      "  0.50654999 0.34917826 0.04118331 0.38667895 0.87764187 0.701764\n",
      "  0.37695961 0.48350278 0.42208768 0.44241382 0.81620676 0.58470811\n",
      "  0.25071748 0.16932284 0.18829457 0.841924   0.3323436  0.40841561\n",
      "  0.2818724  0.44491757 0.2885501  0.41953389 0.25027114 0.47944048\n",
      "  0.21217663 0.90703525 0.25532879 0.47656557 0.28326095 0.76495163\n",
      "  0.23169658 0.81310696 0.50373785 0.82396809 0.11371009 0.88042408\n",
      "  0.25921859 0.45546184 0.14657469 0.49804634 0.33584769 0.32602477\n",
      "  0.37104679 0.51864166 0.18064454 0.83636932 0.88259894 0.57933666\n",
      "  0.32939374 0.30653353 0.33644931 0.27901907 0.09045529 0.91821411\n",
      "  0.08550673 0.27474938 0.48095971 0.26148429 0.16273379 0.96033922\n",
      "  0.46828902 0.54935166 0.68713777 0.24133593 0.71930033 0.6787351\n",
      "  0.53765355 0.83976552 0.59310423 0.51023237 0.75113261 0.96202918\n",
      "  0.19021505 0.42934379 0.02831295 0.135218   0.36667881 0.40009396\n",
      "  0.75350348 0.85012566 0.6266455  0.5473381  0.28239823 0.79962346\n",
      "  0.         0.20413076 0.55344247 0.80133271 0.26271132 0.37722389\n",
      "  0.45146042 0.78530586 0.54611868 0.12100889]\n",
      " [0.91980305 0.36693689 0.59912356 0.85387291 0.0762074  0.92769716\n",
      "  0.65336181 0.47368509 0.22473221 0.58875371 0.88476306 0.87941029\n",
      "  0.5393676  0.38825417 0.52563549 0.50397969 0.9069388  0.78332014\n",
      "  0.08155281 0.23518069 0.34211668 1.01688143 0.53198935 0.23575346\n",
      "  0.45546824 0.64480437 0.30504259 0.36018717 0.13428688 0.43929359\n",
      "  0.09989993 1.08197662 0.27478658 0.45390521 0.11362925 0.95369998\n",
      "  0.35800584 0.98647882 0.4478637  0.97609314 0.22127249 1.05871373\n",
      "  0.10318711 0.58494882 0.12800826 0.62532236 0.52840691 0.48421828\n",
      "  0.30268064 0.7168219  0.28726836 0.87339629 0.89596088 0.64965027\n",
      "  0.19301149 0.45845353 0.33172715 0.3658333  0.13621375 1.09643121\n",
      "  0.28884144 0.25751013 0.38944709 0.32150862 0.20633848 1.1391729\n",
      "  0.64864507 0.68295615 0.81535012 0.44468927 0.91400826 0.82392855\n",
      "  0.74138153 0.87476275 0.71135825 0.65683978 0.94074256 1.13632679\n",
      "  0.38435513 0.31927493 0.18305228 0.12099892 0.19349897 0.60421589\n",
      "  0.93293762 1.0195845  0.75543304 0.72504003 0.10631873 0.94741394\n",
      "  0.20413076 0.         0.7433395  0.97645725 0.29231898 0.57000097\n",
      "  0.4649167  0.77315495 0.74444136 0.12580277]\n",
      " [0.49349276 0.45060849 0.63962319 0.8113689  0.72812202 0.50253371\n",
      "  0.24654988 0.3614117  0.52244713 0.32550486 0.85852545 0.17343571\n",
      "  0.24131291 0.81860455 0.39810054 0.50429248 0.57526578 0.10040314\n",
      "  0.80243632 0.67045738 0.41006602 0.30900285 0.36954183 0.87856342\n",
      "  0.29369419 0.14426649 0.58078494 0.72736217 0.71952783 0.72296932\n",
      "  0.70236425 0.37095388 0.5779782  0.68958822 0.78078441 0.21150929\n",
      "  0.42110373 0.28653732 0.76345864 0.36762165 0.62136681 0.33825809\n",
      "  0.75448302 0.31630935 0.63216182 0.32057523 0.42228291 0.28951225\n",
      "  0.71918197 0.38095561 0.48415609 0.74869157 0.84562439 0.51460307\n",
      "  0.77970677 0.57700382 0.61653681 0.46793531 0.64332719 0.37512096\n",
      "  0.47174094 0.62573461 0.81103588 0.51812145 0.57009055 0.41526794\n",
      "  0.50416682 0.30060386 0.36844414 0.37118947 0.17597889 0.29640317\n",
      "  0.2767822  0.75665112 0.36739904 0.24712258 0.19782624 0.42531542\n",
      "  0.36325221 0.80790884 0.56630636 0.6320853  0.84635783 0.25992859\n",
      "  0.21448564 0.33179797 0.33939851 0.54616876 0.78552485 0.36469062\n",
      "  0.55344247 0.7433395  0.         0.27070361 0.56329855 0.17654169\n",
      "  0.61052059 0.84230774 0.08729294 0.62269518]\n",
      " [0.38367863 0.63817279 0.71101552 0.80035181 0.97258549 0.38960835\n",
      "  0.35015629 0.52988545 0.76609112 0.59156505 0.84431556 0.10059837\n",
      "  0.43816626 0.96918679 0.525094   0.62000977 0.49180505 0.31293014\n",
      "  1.04320507 0.9324194  0.63435157 0.04060167 0.63913357 1.07507995\n",
      "  0.52260797 0.41422525 0.759268   0.88092659 0.92857333 0.85305548\n",
      "  0.91973901 0.10579015 0.76669773 0.8142358  0.99455908 0.13267377\n",
      "  0.62645652 0.01828831 0.89284662 0.16959703 0.88075213 0.08572043\n",
      "  0.96929556 0.43665752 0.85555298 0.41295466 0.69117627 0.49363446\n",
      "  0.88837044 0.62145187 0.69661189 0.717099   0.82411379 0.56283161\n",
      "  0.97656112 0.84752201 0.7821712  0.64999633 0.89171524 0.12197887\n",
      "  0.72485627 0.81235424 0.96066366 0.70377621 0.78427642 0.16486393\n",
      "  0.76011877 0.3593562  0.31664884 0.64008666 0.211006   0.23853734\n",
      "  0.50876826 0.72601435 0.3913122  0.34769481 0.14451171 0.16070164\n",
      "  0.61392797 0.97607603 0.8097617  0.85846085 1.04882378 0.52711723\n",
      "  0.05865365 0.06579888 0.33545931 0.79078038 1.00112773 0.1946446\n",
      "  0.80133271 0.97645725 0.27070361 0.         0.74907748 0.43634199\n",
      "  0.73242625 0.86902453 0.33179814 0.85138449]\n",
      " [0.63406491 0.11349923 0.32157986 0.5832461  0.33495661 0.64150846\n",
      "  0.40248423 0.2192131  0.23202157 0.54780215 0.61947625 0.66084594\n",
      "  0.32462535 0.27134853 0.24622323 0.21166132 0.61529004 0.63307912\n",
      "  0.37376972 0.42135038 0.18543212 0.78783319 0.51362644 0.32604458\n",
      "  0.28183668 0.51465237 0.02772538 0.18587184 0.19248425 0.22547377\n",
      "  0.2011725  0.85097329 0.01909334 0.21625731 0.26058246 0.75752394\n",
      "  0.1471898  0.75566142 0.25649957 0.71675975 0.37132017 0.83453853\n",
      "  0.23910426 0.32134881 0.17216882 0.35668479 0.53921979 0.27380635\n",
      "  0.16017005 0.68855196 0.11164324 0.59061991 0.62643056 0.35733667\n",
      "  0.22796101 0.55793209 0.07894767 0.09922341 0.30371327 0.8710293\n",
      "  0.28229611 0.06358857 0.26548136 0.04581069 0.10514664 0.91383035\n",
      "  0.68412055 0.41645372 0.53956822 0.41408677 0.73880288 0.56209605\n",
      "  0.66679797 0.59291215 0.43212792 0.40545015 0.74759019 0.90282288\n",
      "  0.28979592 0.2467855  0.24077893 0.18476414 0.30159846 0.52998794\n",
      "  0.7155407  0.7813288  0.48186128 0.76305641 0.26960859 0.6843851\n",
      "  0.26271132 0.29231898 0.56329855 0.74907748 0.         0.41990938\n",
      "  0.19063376 0.52303665 0.59589012 0.18970254]\n",
      " [0.56147778 0.31415724 0.5728193  0.78756015 0.55207567 0.57103815\n",
      "  0.24642589 0.2556544  0.34724507 0.22246441 0.83409689 0.33579261\n",
      "  0.14453092 0.68771395 0.32197059 0.4194732  0.61762051 0.21829016\n",
      "  0.62689277 0.49664604 0.24758277 0.47631282 0.24089475 0.71978459\n",
      "  0.13807337 0.09661959 0.4415587  0.59792887 0.55681142 0.60944726\n",
      "  0.53577475 0.54035289 0.43179251 0.58165398 0.61486418 0.38793731\n",
      "  0.27273844 0.45026787 0.64843696 0.4972256  0.44619989 0.51031879\n",
      "  0.58840457 0.26914282 0.4637402  0.29609539 0.29414023 0.1641039\n",
      "  0.57993216 0.33483951 0.32622271 0.74251164 0.82669163 0.478769\n",
      "  0.62236061 0.43021733 0.48431401 0.33428331 0.4669175  0.54777768\n",
      "  0.2951993  0.47882647 0.68099652 0.37759535 0.40785565 0.58892636\n",
      "  0.41184867 0.31045524 0.42777005 0.20922676 0.34400758 0.38122581\n",
      "  0.27062126 0.74928236 0.37940735 0.24929132 0.37396317 0.59534609\n",
      "  0.18726349 0.66647764 0.39091956 0.46229436 0.68503451 0.16599194\n",
      "  0.38393194 0.49201172 0.37834662 0.47326393 0.61871403 0.4832175\n",
      "  0.37722389 0.57000097 0.17654169 0.43634199 0.41990938 0.\n",
      "  0.51005274 0.79178658 0.17965362 0.45201004]\n",
      " [0.52258126 0.22012035 0.13432693 0.39369979 0.51778656 0.52817872\n",
      "  0.38999902 0.25610648 0.41807694 0.68428377 0.4290348  0.66049798\n",
      "  0.37740254 0.24411112 0.21534201 0.11263085 0.47670377 0.69816727\n",
      "  0.5455444  0.61198124 0.33148523 0.76696847 0.66210719 0.41416778\n",
      "  0.38408117 0.6058057  0.16803614 0.16718047 0.34139146 0.12072729\n",
      "  0.36601123 0.82458664 0.20225998 0.08202646 0.40161279 0.77384782\n",
      "  0.27448537 0.73447424 0.16044376 0.65798802 0.56158142 0.81697439\n",
      "  0.3877885  0.30414963 0.35682422 0.32030861 0.69624707 0.34595897\n",
      "  0.20240147 0.82128109 0.28163572 0.4085328  0.43670329 0.21931503\n",
      "  0.33629446 0.73722423 0.13318955 0.19989488 0.49374229 0.85032897\n",
      "  0.45925544 0.20759762 0.2352108  0.19289183 0.29565577 0.89135365\n",
      "  0.84178195 0.37332349 0.46136604 0.56741004 0.77561948 0.51012559\n",
      "  0.77800146 0.40984607 0.3565864  0.39159554 0.7674613  0.87114897\n",
      "  0.43660682 0.27225428 0.43072659 0.37054035 0.4078748  0.65227849\n",
      "  0.71252706 0.74937054 0.41449574 0.91858009 0.41256262 0.62128628\n",
      "  0.45146042 0.4649167  0.61052059 0.73242625 0.19063376 0.51005274\n",
      "  0.         0.33433324 0.66556384 0.37734667]\n",
      " [0.52909155 0.54572401 0.22317582 0.12632074 0.83530293 0.5289001\n",
      "  0.59587093 0.54378641 0.75238713 0.99166487 0.12914902 0.82917951\n",
      "  0.6476125  0.4263087  0.46998169 0.38086545 0.42936241 0.94072356\n",
      "  0.84943397 0.94305055 0.65803538 0.89316792 0.97845055 0.64884049\n",
      "  0.68664725 0.88051873 0.498356   0.41655377 0.64014717 0.33490784\n",
      "  0.67373176 0.93592076 0.532485   0.32009436 0.68678111 0.95199979\n",
      "  0.59925002 0.86406015 0.33483944 0.73813106 0.89421009 0.94275956\n",
      "  0.68086982 0.5325798  0.68054878 0.52194523 1.01743095 0.63541729\n",
      "  0.47334333 1.12190406 0.61517954 0.21123317 0.15205117 0.32787644\n",
      "  0.60594977 1.06986656 0.45476256 0.52730121 0.82230154 0.96796546\n",
      "  0.7922872  0.52678836 0.42017643 0.52699916 0.62685503 1.00236691\n",
      "  1.16138558 0.54714906 0.55265367 0.8888953  0.97968127 0.63149117\n",
      "  1.06118193 0.2047734  0.49041859 0.59546892 0.95086558 0.96933244\n",
      "  0.75876133 0.49300739 0.76381558 0.694922   0.66131974 0.95005945\n",
      "  0.87104801 0.86049863 0.53916508 1.23572437 0.69808093 0.70043996\n",
      "  0.78530586 0.77315495 0.84230774 0.86902453 0.52303665 0.79178658\n",
      "  0.33433324 0.         0.91544238 0.70352851]\n",
      " [0.58076769 0.48661692 0.70693482 0.89053857 0.72047296 0.58979688\n",
      "  0.32313625 0.41056124 0.51993471 0.26168557 0.93774216 0.24307695\n",
      "  0.28840505 0.85996047 0.45919732 0.56421743 0.66203659 0.03896362\n",
      "  0.79681133 0.64454747 0.42719238 0.36661855 0.31397061 0.899433\n",
      "  0.31539844 0.10253631 0.61614521 0.76922966 0.73636225 0.77301028\n",
      "  0.7146637  0.42376424 0.60873843 0.74199989 0.7938215  0.24164975\n",
      "  0.44940829 0.3491368  0.81298245 0.44751421 0.59978074 0.38715579\n",
      "  0.76735464 0.38396231 0.64216634 0.39431264 0.36379532 0.32761618\n",
      "  0.75511095 0.29818002 0.50552758 0.83078381 0.92585536 0.58918046\n",
      "  0.80192132 0.52425704 0.65628395 0.50571841 0.63355355 0.42172368\n",
      "  0.46130886 0.65616228 0.85286032 0.5522844  0.5875014  0.45848701\n",
      "  0.42935335 0.38104044 0.45545747 0.33697664 0.17792568 0.3836387\n",
      "  0.19088484 0.8385815  0.44950327 0.32423704 0.22556571 0.47588421\n",
      "  0.36015852 0.84264281 0.56275757 0.64009744 0.86463613 0.19936429\n",
      "  0.27322681 0.39633235 0.42470198 0.46570388 0.79740911 0.44755254\n",
      "  0.54611868 0.74444136 0.08729294 0.33179814 0.59589012 0.17965362\n",
      "  0.66556384 0.91544238 0.         0.62932944]\n",
      " [0.800591   0.24556596 0.51027606 0.77104405 0.14778478 0.80873016\n",
      "  0.5279251  0.34970114 0.12097941 0.49904082 0.80587302 0.7548302\n",
      "  0.4138436  0.36858427 0.40610727 0.39665483 0.79388768 0.66829229\n",
      "  0.20032128 0.24276373 0.21719334 0.89175062 0.44813462 0.29080846\n",
      "  0.33194065 0.53208256 0.20949996 0.31304548 0.12949711 0.38136472\n",
      "  0.09341188 0.9567922  0.17558819 0.38562603 0.16970512 0.83191008\n",
      "  0.23265655 0.86119681 0.40041077 0.85067831 0.20121737 0.93401249\n",
      "  0.14399483 0.46108682 0.02692487 0.50201356 0.45537946 0.35860049\n",
      "  0.26028094 0.63449878 0.16239266 0.78032198 0.81404306 0.54139807\n",
      "  0.20850949 0.42304802 0.24891054 0.24709616 0.11950025 0.97168241\n",
      "  0.19175472 0.17737892 0.36684682 0.20875546 0.08871157 1.0144865\n",
      "  0.58925777 0.55897499 0.6926883  0.35266899 0.79532277 0.69893079\n",
      "  0.64463739 0.78259339 0.59015648 0.53142353 0.81932999 1.01103594\n",
      "  0.27067025 0.31087301 0.09279488 0.01421213 0.25014771 0.50467797\n",
      "  0.80859333 0.89396688 0.6324633  0.66834173 0.17114941 0.82233304\n",
      "  0.12100889 0.12580277 0.62269518 0.85138449 0.18970254 0.45201004\n",
      "  0.37734667 0.70352851 0.62932944 0.        ]]\n"
     ]
    }
   ],
   "source": [
    "#52. Consider a random vector with shape (100,2) representing coordinates, find point by point distances \n",
    "a= np.random.random((100,2))\n",
    "x,y = np.atleast_2d(a[:,0], a[:,1])\n",
    "d = np.sqrt( (x-x.T)**2 + (y-y.T)**2)\n",
    "print(d)"
   ]
  },
  {
   "cell_type": "code",
   "execution_count": 133,
   "id": "93b0f72c",
   "metadata": {},
   "outputs": [
    {
     "name": "stdout",
     "output_type": "stream",
     "text": [
      "[ 0  2  2 -4  3]\n"
     ]
    }
   ],
   "source": [
    "#53. How to convert a float (32 bits) array into an integer (32 bits) in place?\n",
    "a=np.array([ 0.1,  2.009,  2.54, -4.00,  3.1])\n",
    "print(a.astype(int))"
   ]
  },
  {
   "cell_type": "code",
   "execution_count": null,
   "id": "ffe7a019",
   "metadata": {},
   "outputs": [],
   "source": [
    "#54. How to read the following file? \n",
    "#1, 2, 3, 4, 5\n",
    "#6,  ,  , 7, 8\n",
    "# ,  , 9,10,11\n"
   ]
  },
  {
   "cell_type": "code",
   "execution_count": 134,
   "id": "9297a4c3",
   "metadata": {},
   "outputs": [
    {
     "name": "stdout",
     "output_type": "stream",
     "text": [
      "(0, 0) 1\n",
      "(0, 1) 2\n",
      "(1, 0) 3\n",
      "(1, 1) 4\n"
     ]
    }
   ],
   "source": [
    "#55. What is the equivalent of enumerate for numpy arrays?\n",
    "a = np.array([[1, 2], [3, 4]])\n",
    "for index, x in np.ndenumerate(a):\n",
    "    print(index, x)"
   ]
  },
  {
   "cell_type": "code",
   "execution_count": null,
   "id": "88bcd4c9",
   "metadata": {},
   "outputs": [],
   "source": [
    "#56. Generate a generic 2D Gaussian-like array"
   ]
  },
  {
   "cell_type": "code",
   "execution_count": 136,
   "id": "547f0176",
   "metadata": {},
   "outputs": [
    {
     "name": "stdout",
     "output_type": "stream",
     "text": [
      "[[0 0 2]\n",
      " [1 1 1]\n",
      " [1 3 0]\n",
      " [4 4 3]\n",
      " [1 0 4]]\n"
     ]
    }
   ],
   "source": [
    "#57. How to randomly place p elements in a 2D array?\n",
    "x= np.random.randint(5, size=(5,3))\n",
    "\n",
    "print(x)"
   ]
  },
  {
   "cell_type": "code",
   "execution_count": 139,
   "id": "1b63836a",
   "metadata": {},
   "outputs": [
    {
     "name": "stdout",
     "output_type": "stream",
     "text": [
      "[[0.56588814 0.28254706 0.30378648 0.06914457 0.90023834]\n",
      " [0.31742571 0.22329477 0.05523387 0.58600696 0.54481358]\n",
      " [0.46242895 0.45692924 0.57188441 0.02286705 0.59776331]\n",
      " [0.36282796 0.66099987 0.80992728 0.49002738 0.79511495]\n",
      " [0.0068345  0.96537492 0.23046151 0.771141   0.05916023]]\n",
      "[[ 0.14156722 -0.14177386 -0.12053444 -0.35517635  0.47591742]\n",
      " [-0.02792927 -0.12206021 -0.29012111  0.24065199  0.1994586 ]\n",
      " [ 0.04005436  0.03455465  0.14950982 -0.39950755  0.17538872]\n",
      " [-0.26095153  0.03722038  0.18614779 -0.13375211  0.17133546]\n",
      " [-0.39975994  0.55878048 -0.17613292  0.36454657 -0.3474342 ]]\n"
     ]
    }
   ],
   "source": [
    "#58. Subtract the mean of each row of a matrix\n",
    "X = np.random.rand(5, 5)\n",
    "print(X)\n",
    "\n",
    "Y = X - X.mean(axis=1, keepdims=True)\n",
    "print(Y)"
   ]
  },
  {
   "cell_type": "code",
   "execution_count": 145,
   "id": "0b42cc31",
   "metadata": {},
   "outputs": [
    {
     "name": "stdout",
     "output_type": "stream",
     "text": [
      "[[9 7 0 2]\n",
      " [2 4 0 5]\n",
      " [2 8 3 2]\n",
      " [6 4 5 3]]\n"
     ]
    }
   ],
   "source": [
    "#59. How to sort an array by the nth column?\n",
    "x=np.random.randint(0,10,(4,4))\n",
    "print(x[x[:,2].argsort()])"
   ]
  },
  {
   "cell_type": "code",
   "execution_count": 152,
   "id": "6b9f0c7f",
   "metadata": {},
   "outputs": [
    {
     "name": "stdout",
     "output_type": "stream",
     "text": [
      "[[2 1 0 2 2 2]\n",
      " [1 1 1 1 1 1]\n",
      " [1 0 2 0 2 1]\n",
      " [1 1 0 2 2 0]]\n",
      "False\n"
     ]
    }
   ],
   "source": [
    "#60. How to tell if a given 2D array has null columns?\n",
    "x = np.random.randint(0,3,(4,6))\n",
    "print(x)\n",
    "print((~x.any(axis=0)).any())"
   ]
  },
  {
   "cell_type": "code",
   "execution_count": 157,
   "id": "a3dc303e",
   "metadata": {},
   "outputs": [
    {
     "name": "stdout",
     "output_type": "stream",
     "text": [
      "[5.67882355 2.4595705  6.69927036 2.97950233 8.1484823 ]\n",
      "2.97950232719505\n"
     ]
    }
   ],
   "source": [
    "#61. Find the nearest value from a given value in an array\n",
    "x = np.random.uniform(1, 12, 5)\n",
    "print(x)\n",
    "v = 4\n",
    "n = x.flat[np.abs(x - v).argmin()]\n",
    "print(n)"
   ]
  },
  {
   "cell_type": "code",
   "execution_count": 156,
   "id": "64f6e51a",
   "metadata": {},
   "outputs": [],
   "source": [
    "#62. Considering two arrays with shape (1,3) and (3,1), how to compute their sum using an iterator?"
   ]
  },
  {
   "cell_type": "code",
   "execution_count": null,
   "id": "abd5f6fe",
   "metadata": {},
   "outputs": [],
   "source": [
    "#63. Create an array class that has a name attribute"
   ]
  },
  {
   "cell_type": "code",
   "execution_count": null,
   "id": "720b6aba",
   "metadata": {},
   "outputs": [],
   "source": [
    "#64. Consider a given vector, how to add 1 to each element indexed by a second vector (be careful with repeated indices)?"
   ]
  },
  {
   "cell_type": "code",
   "execution_count": 159,
   "id": "7b3c282c",
   "metadata": {},
   "outputs": [],
   "source": [
    "#65. How to accumulate elements of a vector (X) to an array (F) based on an index list (I)"
   ]
  },
  {
   "cell_type": "code",
   "execution_count": null,
   "id": "74771fb1",
   "metadata": {},
   "outputs": [],
   "source": [
    "#66. Considering a (w,h,3) image of (dtype=ubyte), compute the number of unique colors "
   ]
  },
  {
   "cell_type": "code",
   "execution_count": 160,
   "id": "8a750ddf",
   "metadata": {},
   "outputs": [
    {
     "name": "stdout",
     "output_type": "stream",
     "text": [
      "[[21 30 25 22]\n",
      " [16 19 23 25]\n",
      " [15 19 20 31]]\n"
     ]
    }
   ],
   "source": [
    "#67. Considering a four dimensions array, how to get sum over the last two axis at once?\n",
    "x = np.random.randint(0,5,(3,4,3,4))\n",
    "sum = x.sum(axis=(-2,-1))\n",
    "print(sum)"
   ]
  },
  {
   "cell_type": "code",
   "execution_count": 163,
   "id": "18e7fe0a",
   "metadata": {},
   "outputs": [
    {
     "name": "stdout",
     "output_type": "stream",
     "text": [
      "[nan nan nan  3.  4.  9. nan  7.  6.]\n"
     ]
    },
    {
     "name": "stderr",
     "output_type": "stream",
     "text": [
      "<ipython-input-163-54008404f405>:6: RuntimeWarning: invalid value encountered in true_divide\n",
      "  D_means = D_sums / D_counts\n"
     ]
    }
   ],
   "source": [
    "#68. Considering a one-dimensional vector D, how to compute means of subsets of D using a vector S of same size describing subset indices?\n",
    "D = np.array([9,7,6,4,3])\n",
    "S = np.array([5,7,8,4,3])\n",
    "D_sums = np.bincount(S, weights=D)\n",
    "D_counts = np.bincount(S)\n",
    "D_means = D_sums / D_counts\n",
    "print(D_means)\n"
   ]
  },
  {
   "cell_type": "code",
   "execution_count": 166,
   "id": "97582455",
   "metadata": {},
   "outputs": [
    {
     "name": "stdout",
     "output_type": "stream",
     "text": [
      "[[ 5.89315489  7.9848975  12.11899642  9.40615207]\n",
      " [13.85670618 10.86222017 19.85537872 17.43544203]\n",
      " [ 7.1553276   6.85098827 13.25920615 10.6932647 ]\n",
      " [ 7.37274427  4.82386642  9.03919074  8.38722477]]\n"
     ]
    },
    {
     "data": {
      "text/plain": [
       "array([ 5.89315489, 10.86222017, 13.25920615,  8.38722477])"
      ]
     },
     "execution_count": 166,
     "metadata": {},
     "output_type": "execute_result"
    }
   ],
   "source": [
    "#69. How to get the diagonal of a dot product? \n",
    "x = np.random.uniform(0,3,(4,4))\n",
    "y = np.random.uniform(0,3,(4,4))\n",
    "print(np.dot(x, y))\n",
    "np.diag(np.dot(x, y))"
   ]
  },
  {
   "cell_type": "code",
   "execution_count": 167,
   "id": "4dedb3eb",
   "metadata": {},
   "outputs": [
    {
     "name": "stdout",
     "output_type": "stream",
     "text": [
      "[1 2 3 4 5]\n",
      "[1. 0. 0. 0. 2. 0. 0. 0. 3. 0. 0. 0. 4. 0. 0. 0. 5.]\n"
     ]
    }
   ],
   "source": [
    "#70. Consider the vector [1, 2, 3, 4, 5], how to build a new vector with 3 consecutive zeros interleaved between each value?\n",
    "\n",
    "x = np.array([1,2,3,4,5])\n",
    "print(x)\n",
    "p = 3\n",
    "y = np.zeros(len(x) + (len(x)-1)*(p))\n",
    "y[::p+1] = x\n",
    "print(y)"
   ]
  },
  {
   "cell_type": "code",
   "execution_count": 5,
   "id": "a47ade3c",
   "metadata": {},
   "outputs": [],
   "source": [
    "#71. Consider an array of dimension (5,5,3), how to mulitply it by an array with dimensions (5,5)?"
   ]
  },
  {
   "cell_type": "code",
   "execution_count": 7,
   "id": "b065972a",
   "metadata": {},
   "outputs": [
    {
     "name": "stdout",
     "output_type": "stream",
     "text": [
      "[[4 3 1]\n",
      " [5 7 0]\n",
      " [9 9 3]\n",
      " [8 2 4]]\n",
      "[[9 9 3]\n",
      " [5 7 0]\n",
      " [4 3 1]\n",
      " [8 2 4]]\n"
     ]
    }
   ],
   "source": [
    "#72. How to swap two rows of an array? \n",
    "a = np.array([[4,3, 1],[5 ,7, 0],[9, 9, 3],[8, 2, 4]]) \n",
    "print(a)\n",
    "a[[0, 2]] = a[[2, 0]]\n",
    "print(a)"
   ]
  },
  {
   "cell_type": "code",
   "execution_count": null,
   "id": "fb1503d1",
   "metadata": {},
   "outputs": [],
   "source": [
    "#73. Consider a set of 10 triplets describing 10 triangles (with shared vertices), find the set of unique line segments composing all the triangles"
   ]
  },
  {
   "cell_type": "code",
   "execution_count": 8,
   "id": "93fbe95f",
   "metadata": {},
   "outputs": [
    {
     "name": "stdout",
     "output_type": "stream",
     "text": [
      "[2 3 4 4 6]\n"
     ]
    }
   ],
   "source": [
    "#74. Given a sorted array C that corresponds to a bincount, how to produce an array A such that np.bincount(A) == C?\n",
    "C = np.bincount([2,3,4,4,6])\n",
    "A = np.repeat(np.arange(len(C)), C)\n",
    "print(A)"
   ]
  },
  {
   "cell_type": "code",
   "execution_count": 10,
   "id": "1f15f730",
   "metadata": {},
   "outputs": [
    {
     "data": {
      "text/plain": [
       "array([ 2.,  3.,  4.,  5.,  6.,  7.,  8.,  9., 10., 11., 12., 13., 14.,\n",
       "       15., 16., 17.])"
      ]
     },
     "execution_count": 10,
     "metadata": {},
     "output_type": "execute_result"
    }
   ],
   "source": [
    "#75. How to compute averages using a sliding window over an array?\n",
    "def moving_average(a, n) :\n",
    "    test = np.cumsum(a, dtype=float)\n",
    "    test[n:] = test[n:] - test[:-n]\n",
    "    return test[n - 1:] / n\n",
    "\n",
    "moving_average(np.arange(20),5)"
   ]
  },
  {
   "cell_type": "code",
   "execution_count": null,
   "id": "c6da3c23",
   "metadata": {},
   "outputs": [],
   "source": [
    "#76. Consider a one-dimensional array Z, build a two-dimensional array whose first row is (Z[0],Z[1],Z[2]) and each subsequent row is shifted by 1 (last row should be (Z[-3],Z[-2],Z[-1])"
   ]
  },
  {
   "cell_type": "code",
   "execution_count": 13,
   "id": "2456b0bc",
   "metadata": {},
   "outputs": [
    {
     "name": "stdout",
     "output_type": "stream",
     "text": [
      "[-5.007]\n",
      "[False False  True False  True]\n"
     ]
    }
   ],
   "source": [
    "#77. How to negate a boolean, or to change the sign of a float inplace?\n",
    "x = np.negative([5.007])\n",
    "print(x)\n",
    "\n",
    "a = np.array((True, True, False, True, False))\n",
    "b = np.invert(a)\n",
    "print(b)"
   ]
  },
  {
   "cell_type": "code",
   "execution_count": null,
   "id": "ca3de12a",
   "metadata": {},
   "outputs": [],
   "source": [
    "#78. Consider 2 sets of points P0,P1 describing lines (2d) and a point p, how to compute distance from p to each line i (P0[i],P1[i])?"
   ]
  },
  {
   "cell_type": "code",
   "execution_count": null,
   "id": "0aa50404",
   "metadata": {},
   "outputs": [],
   "source": [
    "#79. Consider 2 sets of points P0,P1 describing lines (2d) and a set of points P, how to compute distance from each point j (P[j]) to each line i (P0[i],P1[i])?"
   ]
  },
  {
   "cell_type": "code",
   "execution_count": null,
   "id": "3e82e342",
   "metadata": {},
   "outputs": [],
   "source": [
    "#80. Consider an arbitrary array, write a function that extract a subpart with a fixed shape and centered on a given element (pad with a fill value when necessary)"
   ]
  },
  {
   "cell_type": "code",
   "execution_count": null,
   "id": "cf98f2cb",
   "metadata": {},
   "outputs": [],
   "source": [
    "#81. Consider an array Z = [1,2,3,4,5,6,7,8,9,10,11,12,13,14], how to generate an array R = [[1,2,3,4], [2,3,4,5], [3,4,5,6], ..., [11,12,13,14]]?"
   ]
  },
  {
   "cell_type": "code",
   "execution_count": 14,
   "id": "827703b9",
   "metadata": {},
   "outputs": [
    {
     "name": "stdout",
     "output_type": "stream",
     "text": [
      "2\n"
     ]
    }
   ],
   "source": [
    "#82. Compute a matrix rank\n",
    "matrix = np.array([[1, 2, 1], [3, 4, 7], [3, 6, 3]])\n",
    "rank = np.linalg.matrix_rank(matrix)\n",
    "print(rank)"
   ]
  },
  {
   "cell_type": "code",
   "execution_count": 15,
   "id": "f1a6d228",
   "metadata": {},
   "outputs": [
    {
     "name": "stdout",
     "output_type": "stream",
     "text": [
      "3\n"
     ]
    }
   ],
   "source": [
    "#83. How to find the most frequent value in an array?\n",
    "x = np.array([3,4,3,5,3,7,7,])\n",
    "\n",
    "print(np.bincount(x).argmax())"
   ]
  },
  {
   "cell_type": "code",
   "execution_count": null,
   "id": "54110a41",
   "metadata": {},
   "outputs": [],
   "source": [
    "#84. Extract all the contiguous 3x3 blocks from a random 10x10 matrix"
   ]
  },
  {
   "cell_type": "code",
   "execution_count": null,
   "id": "493a29a2",
   "metadata": {},
   "outputs": [],
   "source": [
    "#85. Create a 2D array subclass such that Z[i,j] == Z[j,i]"
   ]
  },
  {
   "cell_type": "code",
   "execution_count": null,
   "id": "fe403e5e",
   "metadata": {},
   "outputs": [],
   "source": [
    "#86. Consider a set of p matrices wich shape (n,n) and a set of p vectors with shape (n,1). How to compute the sum of of the p matrix products at once? (result has shape (n,1)) "
   ]
  },
  {
   "cell_type": "code",
   "execution_count": null,
   "id": "e638ac90",
   "metadata": {},
   "outputs": [],
   "source": [
    "#87. Consider a 16x16 array, how to get the block-sum (block size is 4x4)?"
   ]
  },
  {
   "cell_type": "code",
   "execution_count": null,
   "id": "0f40aebb",
   "metadata": {},
   "outputs": [],
   "source": [
    "#88. How to implement the Game of Life using numpy arrays?"
   ]
  },
  {
   "cell_type": "code",
   "execution_count": 34,
   "id": "975daa38",
   "metadata": {},
   "outputs": [
    {
     "name": "stdout",
     "output_type": "stream",
     "text": [
      "[0 1 2 3 4 5 6 7 8 9]\n",
      "[3 8 0 7 5 4 2 1 9 6]\n",
      "[0 1 2 3 4 5 6 7 8 9]\n",
      "10\n",
      "9\n",
      "8\n",
      "7\n"
     ]
    }
   ],
   "source": [
    "#89. How to get the n largest values of an array \n",
    "x = np.arange(10)\n",
    "print(x)\n",
    "np.random.shuffle(x)\n",
    "print(x)\n",
    "y=np.sort(x)\n",
    "print(y)\n",
    "n=3\n",
    "a=len(x)\n",
    "print(a)\n",
    "\n",
    "print(y[a-1])\n",
    "print(y[a-2])\n",
    "print(y[a-3])"
   ]
  },
  {
   "cell_type": "code",
   "execution_count": 35,
   "id": "646ed376",
   "metadata": {},
   "outputs": [
    {
     "name": "stdout",
     "output_type": "stream",
     "text": [
      "[(3, 2), (3, 6), (4, 2), (4, 6), (3, 2), (3, 6), (5, 2), (5, 6), (3, 2), (3, 6), (7, 2), (7, 6), (7, 2), (7, 6)]\n"
     ]
    }
   ],
   "source": [
    "#90. Given an arbitrary number of vectors, build the cartesian product (every combinations of every item)\n",
    "x = np.array([3,4,3,5,3,7,7,])\n",
    "y=np.array([2,6])\n",
    "car_pr=res = [(a, b) for a in x for b in y]\n",
    "print(car_pr)"
   ]
  },
  {
   "cell_type": "code",
   "execution_count": 36,
   "id": "4b0a9388",
   "metadata": {},
   "outputs": [
    {
     "name": "stdout",
     "output_type": "stream",
     "text": [
      "[(b'hello',  5., 3) (b'hi', 31., 2)]\n"
     ]
    }
   ],
   "source": [
    "#91. How to create a record array from a regular array? \n",
    "x = np.array([(\"hello\", 5.0, 3),\n",
    "              (\"hi\", 31.0, 2)])\n",
    "y = np.core.records.fromarrays(x.T,\n",
    "                               names='col1, col2, col3',\n",
    "                               formats = 'S8, f8, i8')\n",
    "print(y)"
   ]
  },
  {
   "cell_type": "code",
   "execution_count": 43,
   "id": "766961e6",
   "metadata": {},
   "outputs": [
    {
     "name": "stdout",
     "output_type": "stream",
     "text": [
      "9\n",
      "729\n",
      "729\n"
     ]
    }
   ],
   "source": [
    "#92. Consider a large vector Z, compute Z to the power of 3 using 3 different methods \n",
    "x =np.random.randint(10)\n",
    "print(x)\n",
    "print(x*x*x)\n",
    "print(np.power(x,3))"
   ]
  },
  {
   "cell_type": "code",
   "execution_count": 45,
   "id": "4e497602",
   "metadata": {},
   "outputs": [
    {
     "name": "stdout",
     "output_type": "stream",
     "text": [
      "[[0 0 0]\n",
      " [4 4 2]\n",
      " [1 3 4]\n",
      " [0 4 3]\n",
      " [3 0 3]\n",
      " [3 1 3]\n",
      " [2 2 3]\n",
      " [2 3 0]]\n",
      "[[3 0]\n",
      " [4 2]]\n",
      "[2 3 6 7]\n"
     ]
    }
   ],
   "source": [
    "#93. Consider two arrays A and B of shape (8,3) and (2,2). How to find rows of A that contain elements of each row of B regardless of the order of the elements in B?\n",
    "\n",
    "x = np.random.randint(0,5,(8,3))\n",
    "y = np.random.randint(0,5,(2,2))\n",
    "print(x)\n",
    "print(y)\n",
    "z = (x[..., np.newaxis, np.newaxis] == y)\n",
    "rows = np.where(z.any((3,1)).all(1))[0]\n",
    "print(rows)"
   ]
  },
  {
   "cell_type": "code",
   "execution_count": null,
   "id": "14b2c9c3",
   "metadata": {},
   "outputs": [],
   "source": [
    "#94. Considering a 10x3 matrix, extract rows with unequal values (e.g. [2,2,3])"
   ]
  },
  {
   "cell_type": "code",
   "execution_count": 50,
   "id": "cf860877",
   "metadata": {},
   "outputs": [],
   "source": [
    "#95. Convert a vector of ints into a matrix binary representation\n"
   ]
  },
  {
   "cell_type": "code",
   "execution_count": 51,
   "id": "61584e37",
   "metadata": {},
   "outputs": [
    {
     "name": "stdout",
     "output_type": "stream",
     "text": [
      "[[11 11 12 11]\n",
      " [13 11 12 11]\n",
      " [16 11 12 11]]\n"
     ]
    }
   ],
   "source": [
    "#96. Given a two dimensional array, how to extract unique rows?\n",
    "x = np.array([[11, 11, 12, 11],\n",
    "                     [13, 11, 12, 11],\n",
    "                     [16, 11, 12, 11],\n",
    "                     [11, 11, 12, 11]])\n",
    "uniqueRows = np.unique(x, axis = 0)\n",
    "print(uniqueRows)"
   ]
  },
  {
   "cell_type": "code",
   "execution_count": null,
   "id": "e7755c6d",
   "metadata": {},
   "outputs": [],
   "source": [
    "#97. Considering 2 vectors A & B, write the einsum equivalent of inner, outer, sum, and mul function"
   ]
  },
  {
   "cell_type": "code",
   "execution_count": null,
   "id": "4f820ce2",
   "metadata": {},
   "outputs": [],
   "source": [
    "#98. Considering a path described by two vectors (X,Y), how to sample it using equidistant samples"
   ]
  },
  {
   "cell_type": "code",
   "execution_count": null,
   "id": "a5a26c29",
   "metadata": {},
   "outputs": [],
   "source": [
    "#99. Given an integer n and a 2D array X, select from X the rows which can be interpreted as draws from a multinomial distribution with n degrees, i.e., the rows which only contain integers and which sum to n"
   ]
  },
  {
   "cell_type": "code",
   "execution_count": null,
   "id": "6c65f0c6",
   "metadata": {},
   "outputs": [],
   "source": [
    "#100. Compute bootstrapped 95% confidence intervals for the mean of a 1D array X (i.e., resample the elements of an array with replacement N times, compute the mean of each sample, and then compute percentiles over the means)"
   ]
  }
 ],
 "metadata": {
  "kernelspec": {
   "display_name": "Python 3",
   "language": "python",
   "name": "python3"
  },
  "language_info": {
   "codemirror_mode": {
    "name": "ipython",
    "version": 3
   },
   "file_extension": ".py",
   "mimetype": "text/x-python",
   "name": "python",
   "nbconvert_exporter": "python",
   "pygments_lexer": "ipython3",
   "version": "3.8.8"
  }
 },
 "nbformat": 4,
 "nbformat_minor": 5
}
